{
 "cells": [
  {
   "cell_type": "markdown",
   "metadata": {},
   "source": [
    "# 과제. BeautifulSoup을 이용하여 아래의 세 기사의 제목과 언론사를 크롤링해주세요!\n",
    "* for문을 이용하여 url 각각의 기사제목과 언론사를 가져와주세요\n",
    "* 가져온 정보를 아래와 같이 DataFrame으로 만들어 주세요"
   ]
  },
  {
   "cell_type": "markdown",
   "metadata": {},
   "source": [
    "|title|company|url|\n",
    "|------|---|---|\n",
    "|13일부터 마스크 착용 의무화..한 달 계도 후 과태료 10만 원|YTN|https://news.v.daum.net/v/20201004215700006|\n",
    "|\"사망 10대와 같은 곳서 같은 백신 접종한 32명, 이상반응 없어\"|연합뉴스|https://news.v.daum.net/v/20201020153505519|\n",
    "|지하수에 사는 '골룸 가물치'야, 넌 어디서 왔니|한겨레|https://news.v.daum.net/v/20201020153609574|\n",
    "\n"
   ]
  },
  {
   "cell_type": "markdown",
   "metadata": {},
   "source": [
    "# 현주's 과제"
   ]
  },
  {
   "cell_type": "code",
   "execution_count": 140,
   "metadata": {},
   "outputs": [],
   "source": [
    "import pandas as pd\n",
    "import numpy as np\n",
    "import requests\n",
    "from bs4 import BeautifulSoup as bs"
   ]
  },
  {
   "cell_type": "markdown",
   "metadata": {},
   "source": [
    "#### URL의 끝부분을 f스트링으로 바꿔가면서 가져올 수 있게 리스트화 해주자\n",
    "* 이 예제 말고 검색어, 페이지 넘버 등등으로 바꿔가며 응용도 가능"
   ]
  },
  {
   "cell_type": "code",
   "execution_count": 32,
   "metadata": {},
   "outputs": [],
   "source": [
    "crawl_url = [\"https://news.v.daum.net/v/20201004215700006\", \"https://news.v.daum.net/v/20201020153505519\", \"https://news.v.daum.net/v/20201020153609574\"]\n",
    "\n",
    "# 끝의 넘버 값 리스트화 & 기본이 될 URL 만들기\n",
    "\n",
    "number = ['04215700006','20153505519','20153609574']\n",
    "base_url = 'https://news.v.daum.net/v/202010{}' #format을 쓰면 여기에 위의 리스트 값들이 들어가겠다"
   ]
  },
  {
   "cell_type": "markdown",
   "metadata": {},
   "source": [
    "#### 중첩 for문을 써서 기사 타이틀 가져오기"
   ]
  },
  {
   "cell_type": "code",
   "execution_count": 112,
   "metadata": {},
   "outputs": [
    {
     "name": "stdout",
     "output_type": "stream",
     "text": [
      "13일부터 마스크 착용 의무화..한 달 계도 후 과태료 10만 원\n",
      "\"사망 10대와 같은 곳서 같은 백신 접종한 32명, 이상반응 없어\"\n",
      "지하수에 사는 '골룸 가물치'야, 넌 어디서 왔니\n"
     ]
    }
   ],
   "source": [
    "for n in number:\n",
    "    # 가져올 URL은 포맷팅하는 거니까 괄호 안에 아래와 같이 써줬음\n",
    "    res = requests.get(base_url.format(n))\n",
    "    soup = bs(res.content, 'html.parser')\n",
    "    h3s = soup.select('#cSub > div > h3')\n",
    "    # 리스트가 각 URL당 하나씩 3개가 반환되므로 각 리스트의 제일 첫 번째 인덱스를 불러와야 제목만 가져옴\n",
    "    for i in range(0,1):\n",
    "        print(h3s[i].text)"
   ]
  },
  {
   "cell_type": "markdown",
   "metadata": {},
   "source": [
    "#### 언론사를 가져오려면 text를 쓰면 안되는게, 기사제목은 태그 내의 텍스트지만 언론사는 alt라는 속성에 들어있음. 따라서 get 써야함\n",
    "* for는 반복문! 따라서 기사의 경우 index를 활용해서 세 기사제목을 가져왔고\n",
    "* 언론사의 경우 company에서 alt라는 속성을 가진 것은 언론사이므로 세개 다 끌어올 수 있는 것"
   ]
  },
  {
   "cell_type": "code",
   "execution_count": 129,
   "metadata": {},
   "outputs": [
    {
     "name": "stdout",
     "output_type": "stream",
     "text": [
      "13일부터 마스크 착용 의무화..한 달 계도 후 과태료 10만 원\n",
      "YTN\n",
      "\"사망 10대와 같은 곳서 같은 백신 접종한 32명, 이상반응 없어\"\n",
      "연합뉴스\n",
      "지하수에 사는 '골룸 가물치'야, 넌 어디서 왔니\n",
      "한겨레\n"
     ]
    }
   ],
   "source": [
    "for n in number:\n",
    "    url = base_url.format(n)\n",
    "    res = requests.get(url)\n",
    "    soup = bs(res.content, 'html.parser')\n",
    "    h3s = soup.select('#cSub > div > h3')\n",
    "    company = soup.select('#cSub > div > em > a > img')\n",
    "    for i in range(0,1):\n",
    "        print (h3s[i].text)\n",
    "    # 처음에 c in range로 위랑 똑같이 하려고 했으나 실패. 속성값을 끌어와야하므로 get을 쓰고 임의의 c 변수를 생성해준 것!\n",
    "    for c in company:\n",
    "        print (c.get('alt'))"
   ]
  },
  {
   "cell_type": "markdown",
   "metadata": {},
   "source": [
    "### 데이터프레임에 담아주기\n",
    "* 리스트에 기사제목과 언론사를 담아주면 데이터프레임을 만들 수 있다!"
   ]
  },
  {
   "cell_type": "code",
   "execution_count": 132,
   "metadata": {},
   "outputs": [],
   "source": [
    "# 기사 제목과 언론사를 담을 빈 리스트를 만들어준다\n",
    "\n",
    "titles = []\n",
    "companys = []\n",
    "\n",
    "for n in number:\n",
    "    url = base_url.format(n)\n",
    "    res = requests.get(url)\n",
    "    soup = bs(res.content, 'html.parser')\n",
    "    h3s = soup.select('#cSub > div > h3')\n",
    "    company = soup.select('#cSub > div > em > a > img')\n",
    "    # append를 써서 for 문에서 도출되는 내용들을 리스트에 추가한다\n",
    "    for i in range(0,1):\n",
    "        titles.append(h3s[i].text)\n",
    "    for c in company:\n",
    "        companys.append(c.get('alt'))"
   ]
  },
  {
   "cell_type": "code",
   "execution_count": 133,
   "metadata": {},
   "outputs": [
    {
     "data": {
      "text/plain": [
       "['13일부터 마스크 착용 의무화..한 달 계도 후 과태료 10만 원',\n",
       " '\"사망 10대와 같은 곳서 같은 백신 접종한 32명, 이상반응 없어\"',\n",
       " \"지하수에 사는 '골룸 가물치'야, 넌 어디서 왔니\"]"
      ]
     },
     "execution_count": 133,
     "metadata": {},
     "output_type": "execute_result"
    }
   ],
   "source": [
    "titles"
   ]
  },
  {
   "cell_type": "code",
   "execution_count": 134,
   "metadata": {},
   "outputs": [
    {
     "data": {
      "text/plain": [
       "['YTN', '연합뉴스', '한겨레']"
      ]
     },
     "execution_count": 134,
     "metadata": {},
     "output_type": "execute_result"
    }
   ],
   "source": [
    "companys"
   ]
  },
  {
   "cell_type": "code",
   "execution_count": 139,
   "metadata": {},
   "outputs": [
    {
     "data": {
      "text/html": [
       "<div>\n",
       "<style scoped>\n",
       "    .dataframe tbody tr th:only-of-type {\n",
       "        vertical-align: middle;\n",
       "    }\n",
       "\n",
       "    .dataframe tbody tr th {\n",
       "        vertical-align: top;\n",
       "    }\n",
       "\n",
       "    .dataframe thead th {\n",
       "        text-align: right;\n",
       "    }\n",
       "</style>\n",
       "<table border=\"1\" class=\"dataframe\">\n",
       "  <thead>\n",
       "    <tr style=\"text-align: right;\">\n",
       "      <th></th>\n",
       "      <th>title</th>\n",
       "      <th>company</th>\n",
       "      <th>url</th>\n",
       "    </tr>\n",
       "  </thead>\n",
       "  <tbody>\n",
       "    <tr>\n",
       "      <th>0</th>\n",
       "      <td>13일부터 마스크 착용 의무화..한 달 계도 후 과태료 10만 원</td>\n",
       "      <td>YTN</td>\n",
       "      <td>https://news.v.daum.net/v/20201004215700006</td>\n",
       "    </tr>\n",
       "    <tr>\n",
       "      <th>1</th>\n",
       "      <td>\"사망 10대와 같은 곳서 같은 백신 접종한 32명, 이상반응 없어\"</td>\n",
       "      <td>연합뉴스</td>\n",
       "      <td>https://news.v.daum.net/v/20201020153505519</td>\n",
       "    </tr>\n",
       "    <tr>\n",
       "      <th>2</th>\n",
       "      <td>지하수에 사는 '골룸 가물치'야, 넌 어디서 왔니</td>\n",
       "      <td>한겨레</td>\n",
       "      <td>https://news.v.daum.net/v/20201020153609574</td>\n",
       "    </tr>\n",
       "  </tbody>\n",
       "</table>\n",
       "</div>"
      ],
      "text/plain": [
       "                                    title company  \\\n",
       "0    13일부터 마스크 착용 의무화..한 달 계도 후 과태료 10만 원     YTN   \n",
       "1  \"사망 10대와 같은 곳서 같은 백신 접종한 32명, 이상반응 없어\"    연합뉴스   \n",
       "2             지하수에 사는 '골룸 가물치'야, 넌 어디서 왔니     한겨레   \n",
       "\n",
       "                                           url  \n",
       "0  https://news.v.daum.net/v/20201004215700006  \n",
       "1  https://news.v.daum.net/v/20201020153505519  \n",
       "2  https://news.v.daum.net/v/20201020153609574  "
      ]
     },
     "execution_count": 139,
     "metadata": {},
     "output_type": "execute_result"
    }
   ],
   "source": [
    "# 아래 새로 배운 내용 중 2번 방법으로! 여러 리스트가 있을 때 딕셔너리 형태로 데이터 프레임을 만들어 줄 수 있다\n",
    "\n",
    "df = pd.DataFrame(\n",
    "    {'title': titles,\n",
    "    'company': companys,\n",
    "    'url': crawl_url})\n",
    "df"
   ]
  },
  {
   "cell_type": "markdown",
   "metadata": {},
   "source": [
    "#### 숙제끝! 파톺 화이팅♥\n",
    "**==============================================================================================================**"
   ]
  },
  {
   "cell_type": "markdown",
   "metadata": {},
   "source": [
    "## 과제 진행하면서 알게 된 내용들"
   ]
  },
  {
   "cell_type": "markdown",
   "metadata": {},
   "source": [
    "### For문이 아닐 때의 결과\n",
    "* 맨 마지막 값만 가져온다! <br>\n",
    "* 처음 가지고 온 값은 그 뒤에 가져온 값으로 **덮어 쓰여지기 때문**에 맨 마지막 값만 남는 것"
   ]
  },
  {
   "cell_type": "code",
   "execution_count": 131,
   "metadata": {},
   "outputs": [
    {
     "data": {
      "text/plain": [
       "\"지하수에 사는 '골룸 가물치'야, 넌 어디서 왔니\""
      ]
     },
     "execution_count": 131,
     "metadata": {},
     "output_type": "execute_result"
    }
   ],
   "source": [
    "h3s = soup.select('#cSub > div > h3')\n",
    "h3s[0].text"
   ]
  },
  {
   "cell_type": "markdown",
   "metadata": {},
   "source": [
    "### 데이터프레임 형성하는 세 가지 방법\n",
    "*1. 리스트/어레이/시리즈로 만들기*<br>\n",
    "*2. 딕셔너리 형태로 만들기*<br>\n",
    "*3. 딕셔너리의 리스트 형태로 만들기*"
   ]
  },
  {
   "cell_type": "markdown",
   "metadata": {},
   "source": [
    "#### 1. 리스트/어레이/시리즈 형태"
   ]
  },
  {
   "cell_type": "code",
   "execution_count": 174,
   "metadata": {},
   "outputs": [],
   "source": [
    "hj_list = [['현주', 165], ['승혁', 178], ['푸', 50], ['피글렛', 30]]\n",
    "hj_array = np.array(hj_list)"
   ]
  },
  {
   "cell_type": "code",
   "execution_count": 175,
   "metadata": {},
   "outputs": [],
   "source": [
    "df1 = pd.DataFrame(\n",
    "    hj_list, \n",
    "    columns = ['name', 'height'],\n",
    "    index = [1,2,3,4])\n",
    "\n",
    "df2 = pd.DataFrame(hj_array, columns = ['name', 'height'])"
   ]
  },
  {
   "cell_type": "markdown",
   "metadata": {},
   "source": [
    "#### 2. 리스트가 여러개 있을 때, 딕셔너리"
   ]
  },
  {
   "cell_type": "code",
   "execution_count": 176,
   "metadata": {},
   "outputs": [],
   "source": [
    "names = ['현주', '승혁', '푸', '피글렛']\n",
    "height = [165, 178, 50, 30]"
   ]
  },
  {
   "cell_type": "code",
   "execution_count": 179,
   "metadata": {},
   "outputs": [],
   "source": [
    "df3 = pd.DataFrame({\n",
    "    'name': names,\n",
    "    'height': height\n",
    "})\n",
    "\n",
    "df4 = pd.DataFrame({\n",
    "    'name': np.array(names),\n",
    "    'height': np.array(height)},\n",
    "    index = [1,2,3,4])\n",
    "\n",
    "df5 = pd.DataFrame({\n",
    "    'name': pd.Series(names),\n",
    "    'height': pd.Series(height)\n",
    "})"
   ]
  },
  {
   "cell_type": "markdown",
   "metadata": {},
   "source": [
    "#### 3. 딕셔너리 여러개가 포함된 리스트"
   ]
  },
  {
   "cell_type": "code",
   "execution_count": 183,
   "metadata": {},
   "outputs": [],
   "source": [
    "hj_dict = [\n",
    "    {'name': '현주', 'height': 165},\n",
    "    {'name': '승혁', 'height': 178},\n",
    "    {'name': '푸', 'height': 50},\n",
    "    {'name': '피글렛', 'height': 30}\n",
    "]"
   ]
  },
  {
   "cell_type": "code",
   "execution_count": 184,
   "metadata": {},
   "outputs": [],
   "source": [
    "df6 = pd.DataFrame(\n",
    "    hj_dict,\n",
    "    index = [1,2,3,4])"
   ]
  }
 ],
 "metadata": {
  "kernelspec": {
   "display_name": "Python 3",
   "language": "python",
   "name": "python3"
  },
  "language_info": {
   "codemirror_mode": {
    "name": "ipython",
    "version": 3
   },
   "file_extension": ".py",
   "mimetype": "text/x-python",
   "name": "python",
   "nbconvert_exporter": "python",
   "pygments_lexer": "ipython3",
   "version": "3.8.3"
  }
 },
 "nbformat": 4,
 "nbformat_minor": 4
}
