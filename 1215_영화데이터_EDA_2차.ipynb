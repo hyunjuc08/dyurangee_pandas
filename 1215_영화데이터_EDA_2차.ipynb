{
  "nbformat": 4,
  "nbformat_minor": 0,
  "metadata": {
    "colab": {
      "name": "1215 영화데이터 EDA 2차",
      "provenance": [],
      "collapsed_sections": [],
      "toc_visible": true
    },
    "kernelspec": {
      "name": "python3",
      "display_name": "Python 3"
    }
  },
  "cells": [
    {
      "cell_type": "code",
      "metadata": {
        "id": "vwmEJI-Kqvy0"
      },
      "source": [
        "import pandas as pd\n",
        "import numpy as np"
      ],
      "execution_count": 1,
      "outputs": []
    },
    {
      "cell_type": "code",
      "metadata": {
        "colab": {
          "base_uri": "https://localhost:8080/",
          "height": 166
        },
        "id": "YNeI1Tl9sjHJ",
        "outputId": "2c1aefcf-c1e8-4acc-b10b-2d27ac22b07b"
      },
      "source": [
        "# index_col = 하고 원하는 컬럼명 넣으면 대체됨\n",
        "\n",
        "movies = pd.read_csv('/content/drive/MyDrive/추천시스템 입문반/DATA/ml-latest-small/movies.csv', index_col='movieId')\n",
        "movies.head(3)"
      ],
      "execution_count": 12,
      "outputs": [
        {
          "output_type": "execute_result",
          "data": {
            "text/html": [
              "<div>\n",
              "<style scoped>\n",
              "    .dataframe tbody tr th:only-of-type {\n",
              "        vertical-align: middle;\n",
              "    }\n",
              "\n",
              "    .dataframe tbody tr th {\n",
              "        vertical-align: top;\n",
              "    }\n",
              "\n",
              "    .dataframe thead th {\n",
              "        text-align: right;\n",
              "    }\n",
              "</style>\n",
              "<table border=\"1\" class=\"dataframe\">\n",
              "  <thead>\n",
              "    <tr style=\"text-align: right;\">\n",
              "      <th></th>\n",
              "      <th>title</th>\n",
              "      <th>genres</th>\n",
              "    </tr>\n",
              "    <tr>\n",
              "      <th>movieId</th>\n",
              "      <th></th>\n",
              "      <th></th>\n",
              "    </tr>\n",
              "  </thead>\n",
              "  <tbody>\n",
              "    <tr>\n",
              "      <th>1</th>\n",
              "      <td>Toy Story (1995)</td>\n",
              "      <td>Adventure|Animation|Children|Comedy|Fantasy</td>\n",
              "    </tr>\n",
              "    <tr>\n",
              "      <th>2</th>\n",
              "      <td>Jumanji (1995)</td>\n",
              "      <td>Adventure|Children|Fantasy</td>\n",
              "    </tr>\n",
              "    <tr>\n",
              "      <th>3</th>\n",
              "      <td>Grumpier Old Men (1995)</td>\n",
              "      <td>Comedy|Romance</td>\n",
              "    </tr>\n",
              "  </tbody>\n",
              "</table>\n",
              "</div>"
            ],
            "text/plain": [
              "                           title                                       genres\n",
              "movieId                                                                      \n",
              "1               Toy Story (1995)  Adventure|Animation|Children|Comedy|Fantasy\n",
              "2                 Jumanji (1995)                   Adventure|Children|Fantasy\n",
              "3        Grumpier Old Men (1995)                               Comedy|Romance"
            ]
          },
          "metadata": {
            "tags": []
          },
          "execution_count": 12
        }
      ]
    },
    {
      "cell_type": "markdown",
      "metadata": {
        "id": "3EHzmpj90Pu3"
      },
      "source": [
        "## 장르간에 상관관계 찾기 & 시각화\r\n",
        "* 문자열끼리는 상관관계를 찾기 어려울 것! 따라서, 더미코딩 필수\r\n",
        "* .corr()를 활용하면 상관계수를 구할 수 있다\r\n",
        "* sns.heatmap으로 히트맵 시각화 해볼 수 있다\r\n",
        "* 그냥 pandas로도 할 수 있다 (style.background_gradient(cmap='colors')"
      ]
    },
    {
      "cell_type": "code",
      "metadata": {
        "id": "Iar-ikNDG-00"
      },
      "source": [
        "genres_dummies = movies['genres'].str.get_dummies(sep='|')"
      ],
      "execution_count": 10,
      "outputs": []
    },
    {
      "cell_type": "code",
      "metadata": {
        "id": "k2drSbR3G-9o",
        "colab": {
          "base_uri": "https://localhost:8080/",
          "height": 710
        },
        "outputId": "9ab9cfb4-95dd-4308-eefe-c3b08115ddc2"
      },
      "source": [
        " genres_dummies.corr() # but, 이렇게 보면 알아보기 너무 어렵다"
      ],
      "execution_count": 13,
      "outputs": [
        {
          "output_type": "execute_result",
          "data": {
            "text/html": [
              "<div>\n",
              "<style scoped>\n",
              "    .dataframe tbody tr th:only-of-type {\n",
              "        vertical-align: middle;\n",
              "    }\n",
              "\n",
              "    .dataframe tbody tr th {\n",
              "        vertical-align: top;\n",
              "    }\n",
              "\n",
              "    .dataframe thead th {\n",
              "        text-align: right;\n",
              "    }\n",
              "</style>\n",
              "<table border=\"1\" class=\"dataframe\">\n",
              "  <thead>\n",
              "    <tr style=\"text-align: right;\">\n",
              "      <th></th>\n",
              "      <th>(no genres listed)</th>\n",
              "      <th>Action</th>\n",
              "      <th>Adventure</th>\n",
              "      <th>Animation</th>\n",
              "      <th>Children</th>\n",
              "      <th>Comedy</th>\n",
              "      <th>Crime</th>\n",
              "      <th>Documentary</th>\n",
              "      <th>Drama</th>\n",
              "      <th>Fantasy</th>\n",
              "      <th>Film-Noir</th>\n",
              "      <th>Horror</th>\n",
              "      <th>IMAX</th>\n",
              "      <th>Musical</th>\n",
              "      <th>Mystery</th>\n",
              "      <th>Romance</th>\n",
              "      <th>Sci-Fi</th>\n",
              "      <th>Thriller</th>\n",
              "      <th>War</th>\n",
              "      <th>Western</th>\n",
              "    </tr>\n",
              "  </thead>\n",
              "  <tbody>\n",
              "    <tr>\n",
              "      <th>(no genres listed)</th>\n",
              "      <td>1.000000</td>\n",
              "      <td>-0.028442</td>\n",
              "      <td>-0.022840</td>\n",
              "      <td>-0.015309</td>\n",
              "      <td>-0.016005</td>\n",
              "      <td>-0.046878</td>\n",
              "      <td>-0.022171</td>\n",
              "      <td>-0.012871</td>\n",
              "      <td>-0.053277</td>\n",
              "      <td>-0.017447</td>\n",
              "      <td>-0.005618</td>\n",
              "      <td>-0.019769</td>\n",
              "      <td>-0.007599</td>\n",
              "      <td>-0.011151</td>\n",
              "      <td>-0.014794</td>\n",
              "      <td>-0.026195</td>\n",
              "      <td>-0.019792</td>\n",
              "      <td>-0.029073</td>\n",
              "      <td>-0.011956</td>\n",
              "      <td>-0.007816</td>\n",
              "    </tr>\n",
              "    <tr>\n",
              "      <th>Action</th>\n",
              "      <td>-0.028442</td>\n",
              "      <td>1.000000</td>\n",
              "      <td>0.291949</td>\n",
              "      <td>0.029659</td>\n",
              "      <td>-0.049652</td>\n",
              "      <td>-0.148968</td>\n",
              "      <td>0.154471</td>\n",
              "      <td>-0.099463</td>\n",
              "      <td>-0.152964</td>\n",
              "      <td>0.059931</td>\n",
              "      <td>-0.031649</td>\n",
              "      <td>-0.035443</td>\n",
              "      <td>0.131864</td>\n",
              "      <td>-0.083331</td>\n",
              "      <td>-0.028515</td>\n",
              "      <td>-0.146670</td>\n",
              "      <td>0.233475</td>\n",
              "      <td>0.199042</td>\n",
              "      <td>0.076289</td>\n",
              "      <td>0.021600</td>\n",
              "    </tr>\n",
              "    <tr>\n",
              "      <th>Adventure</th>\n",
              "      <td>-0.022840</td>\n",
              "      <td>0.291949</td>\n",
              "      <td>1.000000</td>\n",
              "      <td>0.211472</td>\n",
              "      <td>0.273931</td>\n",
              "      <td>-0.055215</td>\n",
              "      <td>-0.085988</td>\n",
              "      <td>-0.075111</td>\n",
              "      <td>-0.156327</td>\n",
              "      <td>0.262511</td>\n",
              "      <td>-0.030140</td>\n",
              "      <td>-0.098423</td>\n",
              "      <td>0.143982</td>\n",
              "      <td>-0.005544</td>\n",
              "      <td>-0.048427</td>\n",
              "      <td>-0.072584</td>\n",
              "      <td>0.181797</td>\n",
              "      <td>-0.035942</td>\n",
              "      <td>0.010195</td>\n",
              "      <td>0.036136</td>\n",
              "    </tr>\n",
              "    <tr>\n",
              "      <th>Animation</th>\n",
              "      <td>-0.015309</td>\n",
              "      <td>0.029659</td>\n",
              "      <td>0.211472</td>\n",
              "      <td>1.000000</td>\n",
              "      <td>0.437376</td>\n",
              "      <td>0.029079</td>\n",
              "      <td>-0.069847</td>\n",
              "      <td>-0.050144</td>\n",
              "      <td>-0.160504</td>\n",
              "      <td>0.196895</td>\n",
              "      <td>-0.015555</td>\n",
              "      <td>-0.062464</td>\n",
              "      <td>0.080744</td>\n",
              "      <td>0.111804</td>\n",
              "      <td>-0.030477</td>\n",
              "      <td>-0.061882</td>\n",
              "      <td>0.064093</td>\n",
              "      <td>-0.107822</td>\n",
              "      <td>-0.036990</td>\n",
              "      <td>-0.024378</td>\n",
              "    </tr>\n",
              "    <tr>\n",
              "      <th>Children</th>\n",
              "      <td>-0.016005</td>\n",
              "      <td>-0.049652</td>\n",
              "      <td>0.273931</td>\n",
              "      <td>0.437376</td>\n",
              "      <td>1.000000</td>\n",
              "      <td>0.088701</td>\n",
              "      <td>-0.086442</td>\n",
              "      <td>-0.056859</td>\n",
              "      <td>-0.160742</td>\n",
              "      <td>0.234117</td>\n",
              "      <td>-0.025673</td>\n",
              "      <td>-0.083569</td>\n",
              "      <td>0.062011</td>\n",
              "      <td>0.137072</td>\n",
              "      <td>-0.036449</td>\n",
              "      <td>-0.070189</td>\n",
              "      <td>-0.011910</td>\n",
              "      <td>-0.127716</td>\n",
              "      <td>-0.048341</td>\n",
              "      <td>-0.016890</td>\n",
              "    </tr>\n",
              "    <tr>\n",
              "      <th>Comedy</th>\n",
              "      <td>-0.046878</td>\n",
              "      <td>-0.148968</td>\n",
              "      <td>-0.055215</td>\n",
              "      <td>0.029079</td>\n",
              "      <td>0.088701</td>\n",
              "      <td>1.000000</td>\n",
              "      <td>-0.075282</td>\n",
              "      <td>-0.131657</td>\n",
              "      <td>-0.283472</td>\n",
              "      <td>-0.005708</td>\n",
              "      <td>-0.070710</td>\n",
              "      <td>-0.133382</td>\n",
              "      <td>-0.056627</td>\n",
              "      <td>0.045466</td>\n",
              "      <td>-0.127209</td>\n",
              "      <td>0.153088</td>\n",
              "      <td>-0.132400</td>\n",
              "      <td>-0.286289</td>\n",
              "      <td>-0.095919</td>\n",
              "      <td>-0.039622</td>\n",
              "    </tr>\n",
              "    <tr>\n",
              "      <th>Crime</th>\n",
              "      <td>-0.022171</td>\n",
              "      <td>0.154471</td>\n",
              "      <td>-0.085988</td>\n",
              "      <td>-0.069847</td>\n",
              "      <td>-0.086442</td>\n",
              "      <td>-0.075282</td>\n",
              "      <td>1.000000</td>\n",
              "      <td>-0.073955</td>\n",
              "      <td>0.063005</td>\n",
              "      <td>-0.086254</td>\n",
              "      <td>0.137141</td>\n",
              "      <td>-0.063805</td>\n",
              "      <td>-0.020892</td>\n",
              "      <td>-0.056850</td>\n",
              "      <td>0.124138</td>\n",
              "      <td>-0.097444</td>\n",
              "      <td>-0.095166</td>\n",
              "      <td>0.265196</td>\n",
              "      <td>-0.059585</td>\n",
              "      <td>-0.022997</td>\n",
              "    </tr>\n",
              "    <tr>\n",
              "      <th>Documentary</th>\n",
              "      <td>-0.012871</td>\n",
              "      <td>-0.099463</td>\n",
              "      <td>-0.075111</td>\n",
              "      <td>-0.050144</td>\n",
              "      <td>-0.056859</td>\n",
              "      <td>-0.131657</td>\n",
              "      <td>-0.073955</td>\n",
              "      <td>1.000000</td>\n",
              "      <td>-0.173925</td>\n",
              "      <td>-0.060473</td>\n",
              "      <td>-0.020645</td>\n",
              "      <td>-0.069364</td>\n",
              "      <td>0.003381</td>\n",
              "      <td>-0.005664</td>\n",
              "      <td>-0.050168</td>\n",
              "      <td>-0.093597</td>\n",
              "      <td>-0.072736</td>\n",
              "      <td>-0.104346</td>\n",
              "      <td>-0.013378</td>\n",
              "      <td>-0.024915</td>\n",
              "    </tr>\n",
              "    <tr>\n",
              "      <th>Drama</th>\n",
              "      <td>-0.053277</td>\n",
              "      <td>-0.152964</td>\n",
              "      <td>-0.156327</td>\n",
              "      <td>-0.160504</td>\n",
              "      <td>-0.160742</td>\n",
              "      <td>-0.283472</td>\n",
              "      <td>0.063005</td>\n",
              "      <td>-0.173925</td>\n",
              "      <td>1.000000</td>\n",
              "      <td>-0.106337</td>\n",
              "      <td>0.024256</td>\n",
              "      <td>-0.187391</td>\n",
              "      <td>-0.063293</td>\n",
              "      <td>-0.038022</td>\n",
              "      <td>0.027635</td>\n",
              "      <td>0.122454</td>\n",
              "      <td>-0.158325</td>\n",
              "      <td>-0.008267</td>\n",
              "      <td>0.135067</td>\n",
              "      <td>-0.025060</td>\n",
              "    </tr>\n",
              "    <tr>\n",
              "      <th>Fantasy</th>\n",
              "      <td>-0.017447</td>\n",
              "      <td>0.059931</td>\n",
              "      <td>0.262511</td>\n",
              "      <td>0.196895</td>\n",
              "      <td>0.234117</td>\n",
              "      <td>-0.005708</td>\n",
              "      <td>-0.086254</td>\n",
              "      <td>-0.060473</td>\n",
              "      <td>-0.106337</td>\n",
              "      <td>1.000000</td>\n",
              "      <td>-0.023962</td>\n",
              "      <td>0.012336</td>\n",
              "      <td>0.102962</td>\n",
              "      <td>0.050524</td>\n",
              "      <td>0.014768</td>\n",
              "      <td>-0.000635</td>\n",
              "      <td>0.046094</td>\n",
              "      <td>-0.057807</td>\n",
              "      <td>-0.043959</td>\n",
              "      <td>-0.021441</td>\n",
              "    </tr>\n",
              "    <tr>\n",
              "      <th>Film-Noir</th>\n",
              "      <td>-0.005618</td>\n",
              "      <td>-0.031649</td>\n",
              "      <td>-0.030140</td>\n",
              "      <td>-0.015555</td>\n",
              "      <td>-0.025673</td>\n",
              "      <td>-0.070710</td>\n",
              "      <td>0.137141</td>\n",
              "      <td>-0.020645</td>\n",
              "      <td>0.024256</td>\n",
              "      <td>-0.023962</td>\n",
              "      <td>1.000000</td>\n",
              "      <td>-0.024449</td>\n",
              "      <td>-0.012188</td>\n",
              "      <td>-0.017886</td>\n",
              "      <td>0.087567</td>\n",
              "      <td>-0.018433</td>\n",
              "      <td>-0.020864</td>\n",
              "      <td>0.066406</td>\n",
              "      <td>-0.019177</td>\n",
              "      <td>-0.004130</td>\n",
              "    </tr>\n",
              "    <tr>\n",
              "      <th>Horror</th>\n",
              "      <td>-0.019769</td>\n",
              "      <td>-0.035443</td>\n",
              "      <td>-0.098423</td>\n",
              "      <td>-0.062464</td>\n",
              "      <td>-0.083569</td>\n",
              "      <td>-0.133382</td>\n",
              "      <td>-0.063805</td>\n",
              "      <td>-0.069364</td>\n",
              "      <td>-0.187391</td>\n",
              "      <td>0.012336</td>\n",
              "      <td>-0.024449</td>\n",
              "      <td>1.000000</td>\n",
              "      <td>-0.010442</td>\n",
              "      <td>-0.049802</td>\n",
              "      <td>0.109572</td>\n",
              "      <td>-0.125715</td>\n",
              "      <td>0.123343</td>\n",
              "      <td>0.232052</td>\n",
              "      <td>-0.062206</td>\n",
              "      <td>-0.023065</td>\n",
              "    </tr>\n",
              "    <tr>\n",
              "      <th>IMAX</th>\n",
              "      <td>-0.007599</td>\n",
              "      <td>0.131864</td>\n",
              "      <td>0.143982</td>\n",
              "      <td>0.080744</td>\n",
              "      <td>0.062011</td>\n",
              "      <td>-0.056627</td>\n",
              "      <td>-0.020892</td>\n",
              "      <td>0.003381</td>\n",
              "      <td>-0.063293</td>\n",
              "      <td>0.102962</td>\n",
              "      <td>-0.012188</td>\n",
              "      <td>-0.010442</td>\n",
              "      <td>1.000000</td>\n",
              "      <td>0.011536</td>\n",
              "      <td>-0.011374</td>\n",
              "      <td>-0.037072</td>\n",
              "      <td>0.124563</td>\n",
              "      <td>0.008793</td>\n",
              "      <td>-0.009192</td>\n",
              "      <td>-0.004436</td>\n",
              "    </tr>\n",
              "    <tr>\n",
              "      <th>Musical</th>\n",
              "      <td>-0.011151</td>\n",
              "      <td>-0.083331</td>\n",
              "      <td>-0.005544</td>\n",
              "      <td>0.111804</td>\n",
              "      <td>0.137072</td>\n",
              "      <td>0.045466</td>\n",
              "      <td>-0.056850</td>\n",
              "      <td>-0.005664</td>\n",
              "      <td>-0.038022</td>\n",
              "      <td>0.050524</td>\n",
              "      <td>-0.017886</td>\n",
              "      <td>-0.049802</td>\n",
              "      <td>0.011536</td>\n",
              "      <td>1.000000</td>\n",
              "      <td>-0.035114</td>\n",
              "      <td>0.062921</td>\n",
              "      <td>-0.048010</td>\n",
              "      <td>-0.088286</td>\n",
              "      <td>-0.032252</td>\n",
              "      <td>0.018577</td>\n",
              "    </tr>\n",
              "    <tr>\n",
              "      <th>Mystery</th>\n",
              "      <td>-0.014794</td>\n",
              "      <td>-0.028515</td>\n",
              "      <td>-0.048427</td>\n",
              "      <td>-0.030477</td>\n",
              "      <td>-0.036449</td>\n",
              "      <td>-0.127209</td>\n",
              "      <td>0.124138</td>\n",
              "      <td>-0.050168</td>\n",
              "      <td>0.027635</td>\n",
              "      <td>0.014768</td>\n",
              "      <td>0.087567</td>\n",
              "      <td>0.109572</td>\n",
              "      <td>-0.011374</td>\n",
              "      <td>-0.035114</td>\n",
              "      <td>1.000000</td>\n",
              "      <td>-0.037570</td>\n",
              "      <td>0.016475</td>\n",
              "      <td>0.267443</td>\n",
              "      <td>-0.043759</td>\n",
              "      <td>-0.019570</td>\n",
              "    </tr>\n",
              "    <tr>\n",
              "      <th>Romance</th>\n",
              "      <td>-0.026195</td>\n",
              "      <td>-0.146670</td>\n",
              "      <td>-0.072584</td>\n",
              "      <td>-0.061882</td>\n",
              "      <td>-0.070189</td>\n",
              "      <td>0.153088</td>\n",
              "      <td>-0.097444</td>\n",
              "      <td>-0.093597</td>\n",
              "      <td>0.122454</td>\n",
              "      <td>-0.000635</td>\n",
              "      <td>-0.018433</td>\n",
              "      <td>-0.125715</td>\n",
              "      <td>-0.037072</td>\n",
              "      <td>0.062921</td>\n",
              "      <td>-0.037570</td>\n",
              "      <td>1.000000</td>\n",
              "      <td>-0.101009</td>\n",
              "      <td>-0.137557</td>\n",
              "      <td>-0.012262</td>\n",
              "      <td>-0.015724</td>\n",
              "    </tr>\n",
              "    <tr>\n",
              "      <th>Sci-Fi</th>\n",
              "      <td>-0.019792</td>\n",
              "      <td>0.233475</td>\n",
              "      <td>0.181797</td>\n",
              "      <td>0.064093</td>\n",
              "      <td>-0.011910</td>\n",
              "      <td>-0.132400</td>\n",
              "      <td>-0.095166</td>\n",
              "      <td>-0.072736</td>\n",
              "      <td>-0.158325</td>\n",
              "      <td>0.046094</td>\n",
              "      <td>-0.020864</td>\n",
              "      <td>0.123343</td>\n",
              "      <td>0.124563</td>\n",
              "      <td>-0.048010</td>\n",
              "      <td>0.016475</td>\n",
              "      <td>-0.101009</td>\n",
              "      <td>1.000000</td>\n",
              "      <td>0.096124</td>\n",
              "      <td>-0.046464</td>\n",
              "      <td>-0.023135</td>\n",
              "    </tr>\n",
              "    <tr>\n",
              "      <th>Thriller</th>\n",
              "      <td>-0.029073</td>\n",
              "      <td>0.199042</td>\n",
              "      <td>-0.035942</td>\n",
              "      <td>-0.107822</td>\n",
              "      <td>-0.127716</td>\n",
              "      <td>-0.286289</td>\n",
              "      <td>0.265196</td>\n",
              "      <td>-0.104346</td>\n",
              "      <td>-0.008267</td>\n",
              "      <td>-0.057807</td>\n",
              "      <td>0.066406</td>\n",
              "      <td>0.232052</td>\n",
              "      <td>0.008793</td>\n",
              "      <td>-0.088286</td>\n",
              "      <td>0.267443</td>\n",
              "      <td>-0.137557</td>\n",
              "      <td>0.096124</td>\n",
              "      <td>1.000000</td>\n",
              "      <td>-0.044455</td>\n",
              "      <td>-0.028910</td>\n",
              "    </tr>\n",
              "    <tr>\n",
              "      <th>War</th>\n",
              "      <td>-0.011956</td>\n",
              "      <td>0.076289</td>\n",
              "      <td>0.010195</td>\n",
              "      <td>-0.036990</td>\n",
              "      <td>-0.048341</td>\n",
              "      <td>-0.095919</td>\n",
              "      <td>-0.059585</td>\n",
              "      <td>-0.013378</td>\n",
              "      <td>0.135067</td>\n",
              "      <td>-0.043959</td>\n",
              "      <td>-0.019177</td>\n",
              "      <td>-0.062206</td>\n",
              "      <td>-0.009192</td>\n",
              "      <td>-0.032252</td>\n",
              "      <td>-0.043759</td>\n",
              "      <td>-0.012262</td>\n",
              "      <td>-0.046464</td>\n",
              "      <td>-0.044455</td>\n",
              "      <td>1.000000</td>\n",
              "      <td>0.014063</td>\n",
              "    </tr>\n",
              "    <tr>\n",
              "      <th>Western</th>\n",
              "      <td>-0.007816</td>\n",
              "      <td>0.021600</td>\n",
              "      <td>0.036136</td>\n",
              "      <td>-0.024378</td>\n",
              "      <td>-0.016890</td>\n",
              "      <td>-0.039622</td>\n",
              "      <td>-0.022997</td>\n",
              "      <td>-0.024915</td>\n",
              "      <td>-0.025060</td>\n",
              "      <td>-0.021441</td>\n",
              "      <td>-0.004130</td>\n",
              "      <td>-0.023065</td>\n",
              "      <td>-0.004436</td>\n",
              "      <td>0.018577</td>\n",
              "      <td>-0.019570</td>\n",
              "      <td>-0.015724</td>\n",
              "      <td>-0.023135</td>\n",
              "      <td>-0.028910</td>\n",
              "      <td>0.014063</td>\n",
              "      <td>1.000000</td>\n",
              "    </tr>\n",
              "  </tbody>\n",
              "</table>\n",
              "</div>"
            ],
            "text/plain": [
              "                    (no genres listed)    Action  ...       War   Western\n",
              "(no genres listed)            1.000000 -0.028442  ... -0.011956 -0.007816\n",
              "Action                       -0.028442  1.000000  ...  0.076289  0.021600\n",
              "Adventure                    -0.022840  0.291949  ...  0.010195  0.036136\n",
              "Animation                    -0.015309  0.029659  ... -0.036990 -0.024378\n",
              "Children                     -0.016005 -0.049652  ... -0.048341 -0.016890\n",
              "Comedy                       -0.046878 -0.148968  ... -0.095919 -0.039622\n",
              "Crime                        -0.022171  0.154471  ... -0.059585 -0.022997\n",
              "Documentary                  -0.012871 -0.099463  ... -0.013378 -0.024915\n",
              "Drama                        -0.053277 -0.152964  ...  0.135067 -0.025060\n",
              "Fantasy                      -0.017447  0.059931  ... -0.043959 -0.021441\n",
              "Film-Noir                    -0.005618 -0.031649  ... -0.019177 -0.004130\n",
              "Horror                       -0.019769 -0.035443  ... -0.062206 -0.023065\n",
              "IMAX                         -0.007599  0.131864  ... -0.009192 -0.004436\n",
              "Musical                      -0.011151 -0.083331  ... -0.032252  0.018577\n",
              "Mystery                      -0.014794 -0.028515  ... -0.043759 -0.019570\n",
              "Romance                      -0.026195 -0.146670  ... -0.012262 -0.015724\n",
              "Sci-Fi                       -0.019792  0.233475  ... -0.046464 -0.023135\n",
              "Thriller                     -0.029073  0.199042  ... -0.044455 -0.028910\n",
              "War                          -0.011956  0.076289  ...  1.000000  0.014063\n",
              "Western                      -0.007816  0.021600  ...  0.014063  1.000000\n",
              "\n",
              "[20 rows x 20 columns]"
            ]
          },
          "metadata": {
            "tags": []
          },
          "execution_count": 13
        }
      ]
    },
    {
      "cell_type": "markdown",
      "metadata": {
        "id": "meXscGEV9gy4"
      },
      "source": [
        "### Seaborn으로 히트맵 그리기"
      ]
    },
    {
      "cell_type": "code",
      "metadata": {
        "id": "YTYIohFHG_FW",
        "colab": {
          "base_uri": "https://localhost:8080/",
          "height": 625
        },
        "outputId": "82fdc21c-2fbe-480a-e872-fee653bd438c"
      },
      "source": [
        "%matplotlib inline\r\n",
        "\r\n",
        "import seaborn as sns\r\n",
        "import matplotlib.pyplot as plt\r\n",
        "\r\n",
        "plt.figure(figsize=(30,15))\r\n",
        "sns.heatmap(genres_dummies.corr(), annot=True)"
      ],
      "execution_count": 15,
      "outputs": [
        {
          "output_type": "execute_result",
          "data": {
            "text/plain": [
              "<matplotlib.axes._subplots.AxesSubplot at 0x7ff1efd645f8>"
            ]
          },
          "metadata": {
            "tags": []
          },
          "execution_count": 15
        },
        {
          "output_type": "display_data",
          "data": {
            "image/png": "[encoded data removed]",
            "text/plain": [
              "<Figure size 2160x1080 with 2 Axes>"
            ]
          },
          "metadata": {
            "tags": [],
            "needs_background": "light"
          }
        }
      ]
    },
    {
      "cell_type": "markdown",
      "metadata": {
        "id": "gWnKEOIm9lrd"
      },
      "source": [
        "### style.background_gradient로 히트맵 그리기\r\n",
        "* cmap은 컬러코드"
      ]
    },
    {
      "cell_type": "code",
      "metadata": {
        "colab": {
          "base_uri": "https://localhost:8080/",
          "height": 509
        },
        "id": "j-b77ehR9G8A",
        "outputId": "bc316861-9c9b-4f11-ead8-8cbb3b5a8871"
      },
      "source": [
        "genres_dummies.corr().style.background_gradient(cmap='Purples')"
      ],
      "execution_count": 19,
      "outputs": [
        {
          "output_type": "execute_result",
          "data": {
            "text/html": [
              "<style  type=\"text/css\" >\n",
              "#T_8896a258_3e24_11eb_bb50_0242ac1c0002row0_col0,#T_8896a258_3e24_11eb_bb50_0242ac1c0002row1_col1,#T_8896a258_3e24_11eb_bb50_0242ac1c0002row2_col2,#T_8896a258_3e24_11eb_bb50_0242ac1c0002row3_col3,#T_8896a258_3e24_11eb_bb50_0242ac1c0002row4_col4,#T_8896a258_3e24_11eb_bb50_0242ac1c0002row5_col5,#T_8896a258_3e24_11eb_bb50_0242ac1c0002row6_col6,#T_8896a258_3e24_11eb_bb50_0242ac1c0002row7_col7,#T_8896a258_3e24_11eb_bb50_0242ac1c0002row8_col8,#T_8896a258_3e24_11eb_bb50_0242ac1c0002row9_col9,#T_8896a258_3e24_11eb_bb50_0242ac1c0002row10_col10,#T_8896a258_3e24_11eb_bb50_0242ac1c0002row11_col11,#T_8896a258_3e24_11eb_bb50_0242ac1c0002row12_col12,#T_8896a258_3e24_11eb_bb50_0242ac1c0002row13_col13,#T_8896a258_3e24_11eb_bb50_0242ac1c0002row14_col14,#T_8896a258_3e24_11eb_bb50_0242ac1c0002row15_col15,#T_8896a258_3e24_11eb_bb50_0242ac1c0002row16_col16,#T_8896a258_3e24_11eb_bb50_0242ac1c0002row17_col17,#T_8896a258_3e24_11eb_bb50_0242ac1c0002row18_col18,#T_8896a258_3e24_11eb_bb50_0242ac1c0002row19_col19{\n",
              "            background-color:  #3f007d;\n",
              "            color:  #f1f1f1;\n",
              "        }#T_8896a258_3e24_11eb_bb50_0242ac1c0002row0_col1,#T_8896a258_3e24_11eb_bb50_0242ac1c0002row1_col5,#T_8896a258_3e24_11eb_bb50_0242ac1c0002row10_col2,#T_8896a258_3e24_11eb_bb50_0242ac1c0002row10_col15,#T_8896a258_3e24_11eb_bb50_0242ac1c0002row11_col9,#T_8896a258_3e24_11eb_bb50_0242ac1c0002row14_col1,#T_8896a258_3e24_11eb_bb50_0242ac1c0002row14_col3,#T_8896a258_3e24_11eb_bb50_0242ac1c0002row14_col4,#T_8896a258_3e24_11eb_bb50_0242ac1c0002row14_col9,#T_8896a258_3e24_11eb_bb50_0242ac1c0002row18_col3{\n",
              "            background-color:  #f1eff6;\n",
              "            color:  #000000;\n",
              "        }#T_8896a258_3e24_11eb_bb50_0242ac1c0002row0_col2,#T_8896a258_3e24_11eb_bb50_0242ac1c0002row10_col4,#T_8896a258_3e24_11eb_bb50_0242ac1c0002row13_col11,#T_8896a258_3e24_11eb_bb50_0242ac1c0002row15_col17,#T_8896a258_3e24_11eb_bb50_0242ac1c0002row19_col15,#T_8896a258_3e24_11eb_bb50_0242ac1c0002row19_col16{\n",
              "            background-color:  #f0eef6;\n",
              "            color:  #000000;\n",
              "        }#T_8896a258_3e24_11eb_bb50_0242ac1c0002row0_col3,#T_8896a258_3e24_11eb_bb50_0242ac1c0002row0_col4,#T_8896a258_3e24_11eb_bb50_0242ac1c0002row1_col11,#T_8896a258_3e24_11eb_bb50_0242ac1c0002row4_col16,#T_8896a258_3e24_11eb_bb50_0242ac1c0002row4_col17,#T_8896a258_3e24_11eb_bb50_0242ac1c0002row5_col13,#T_8896a258_3e24_11eb_bb50_0242ac1c0002row9_col13,#T_8896a258_3e24_11eb_bb50_0242ac1c0002row9_col14,#T_8896a258_3e24_11eb_bb50_0242ac1c0002row9_col15,#T_8896a258_3e24_11eb_bb50_0242ac1c0002row10_col3,#T_8896a258_3e24_11eb_bb50_0242ac1c0002row14_col5,#T_8896a258_3e24_11eb_bb50_0242ac1c0002row16_col4,#T_8896a258_3e24_11eb_bb50_0242ac1c0002row16_col14,#T_8896a258_3e24_11eb_bb50_0242ac1c0002row17_col10,#T_8896a258_3e24_11eb_bb50_0242ac1c0002row19_col4,#T_8896a258_3e24_11eb_bb50_0242ac1c0002row19_col7{\n",
              "            background-color:  #efedf5;\n",
              "            color:  #000000;\n",
              "        }#T_8896a258_3e24_11eb_bb50_0242ac1c0002row0_col5,#T_8896a258_3e24_11eb_bb50_0242ac1c0002row3_col13,#T_8896a258_3e24_11eb_bb50_0242ac1c0002row9_col1{\n",
              "            background-color:  #e5e4f0;\n",
              "            color:  #000000;\n",
              "        }#T_8896a258_3e24_11eb_bb50_0242ac1c0002row0_col6,#T_8896a258_3e24_11eb_bb50_0242ac1c0002row1_col7,#T_8896a258_3e24_11eb_bb50_0242ac1c0002row2_col14,#T_8896a258_3e24_11eb_bb50_0242ac1c0002row2_col15,#T_8896a258_3e24_11eb_bb50_0242ac1c0002row4_col15,#T_8896a258_3e24_11eb_bb50_0242ac1c0002row6_col4,#T_8896a258_3e24_11eb_bb50_0242ac1c0002row7_col2,#T_8896a258_3e24_11eb_bb50_0242ac1c0002row7_col12,#T_8896a258_3e24_11eb_bb50_0242ac1c0002row7_col14,#T_8896a258_3e24_11eb_bb50_0242ac1c0002row10_col13,#T_8896a258_3e24_11eb_bb50_0242ac1c0002row10_col18,#T_8896a258_3e24_11eb_bb50_0242ac1c0002row11_col4,#T_8896a258_3e24_11eb_bb50_0242ac1c0002row12_col6,#T_8896a258_3e24_11eb_bb50_0242ac1c0002row15_col7,#T_8896a258_3e24_11eb_bb50_0242ac1c0002row17_col12,#T_8896a258_3e24_11eb_bb50_0242ac1c0002row19_col6{\n",
              "            background-color:  #f5f4f9;\n",
              "            color:  #000000;\n",
              "        }#T_8896a258_3e24_11eb_bb50_0242ac1c0002row0_col7,#T_8896a258_3e24_11eb_bb50_0242ac1c0002row3_col17,#T_8896a258_3e24_11eb_bb50_0242ac1c0002row8_col14,#T_8896a258_3e24_11eb_bb50_0242ac1c0002row9_col8,#T_8896a258_3e24_11eb_bb50_0242ac1c0002row10_col11,#T_8896a258_3e24_11eb_bb50_0242ac1c0002row15_col13,#T_8896a258_3e24_11eb_bb50_0242ac1c0002row16_col9,#T_8896a258_3e24_11eb_bb50_0242ac1c0002row18_col7,#T_8896a258_3e24_11eb_bb50_0242ac1c0002row19_col11{\n",
              "            background-color:  #edebf4;\n",
              "            color:  #000000;\n",
              "        }#T_8896a258_3e24_11eb_bb50_0242ac1c0002row0_col8,#T_8896a258_3e24_11eb_bb50_0242ac1c0002row1_col12,#T_8896a258_3e24_11eb_bb50_0242ac1c0002row2_col5,#T_8896a258_3e24_11eb_bb50_0242ac1c0002row9_col16,#T_8896a258_3e24_11eb_bb50_0242ac1c0002row9_col17,#T_8896a258_3e24_11eb_bb50_0242ac1c0002row12_col5,#T_8896a258_3e24_11eb_bb50_0242ac1c0002row13_col15,#T_8896a258_3e24_11eb_bb50_0242ac1c0002row16_col12{\n",
              "            background-color:  #e6e5f1;\n",
              "            color:  #000000;\n",
              "        }#T_8896a258_3e24_11eb_bb50_0242ac1c0002row0_col9,#T_8896a258_3e24_11eb_bb50_0242ac1c0002row4_col14,#T_8896a258_3e24_11eb_bb50_0242ac1c0002row12_col18,#T_8896a258_3e24_11eb_bb50_0242ac1c0002row13_col14,#T_8896a258_3e24_11eb_bb50_0242ac1c0002row15_col14{\n",
              "            background-color:  #f4f2f8;\n",
              "            color:  #000000;\n",
              "        }#T_8896a258_3e24_11eb_bb50_0242ac1c0002row0_col10,#T_8896a258_3e24_11eb_bb50_0242ac1c0002row1_col19,#T_8896a258_3e24_11eb_bb50_0242ac1c0002row6_col2,#T_8896a258_3e24_11eb_bb50_0242ac1c0002row13_col1,#T_8896a258_3e24_11eb_bb50_0242ac1c0002row17_col7,#T_8896a258_3e24_11eb_bb50_0242ac1c0002row19_col10{\n",
              "            background-color:  #f6f4f9;\n",
              "            color:  #000000;\n",
              "        }#T_8896a258_3e24_11eb_bb50_0242ac1c0002row0_col11,#T_8896a258_3e24_11eb_bb50_0242ac1c0002row7_col17,#T_8896a258_3e24_11eb_bb50_0242ac1c0002row13_col7,#T_8896a258_3e24_11eb_bb50_0242ac1c0002row13_col9,#T_8896a258_3e24_11eb_bb50_0242ac1c0002row18_col2{\n",
              "            background-color:  #ecebf4;\n",
              "            color:  #000000;\n",
              "        }#T_8896a258_3e24_11eb_bb50_0242ac1c0002row0_col12,#T_8896a258_3e24_11eb_bb50_0242ac1c0002row3_col10,#T_8896a258_3e24_11eb_bb50_0242ac1c0002row3_col18,#T_8896a258_3e24_11eb_bb50_0242ac1c0002row6_col16,#T_8896a258_3e24_11eb_bb50_0242ac1c0002row12_col10,#T_8896a258_3e24_11eb_bb50_0242ac1c0002row15_col11,#T_8896a258_3e24_11eb_bb50_0242ac1c0002row18_col12,#T_8896a258_3e24_11eb_bb50_0242ac1c0002row18_col13,#T_8896a258_3e24_11eb_bb50_0242ac1c0002row18_col19{\n",
              "            background-color:  #f7f5fa;\n",
              "            color:  #000000;\n",
              "        }#T_8896a258_3e24_11eb_bb50_0242ac1c0002row0_col13,#T_8896a258_3e24_11eb_bb50_0242ac1c0002row2_col19,#T_8896a258_3e24_11eb_bb50_0242ac1c0002row3_col15,#T_8896a258_3e24_11eb_bb50_0242ac1c0002row7_col16,#T_8896a258_3e24_11eb_bb50_0242ac1c0002row13_col12,#T_8896a258_3e24_11eb_bb50_0242ac1c0002row15_col2,#T_8896a258_3e24_11eb_bb50_0242ac1c0002row18_col14{\n",
              "            background-color:  #f5f3f8;\n",
              "            color:  #000000;\n",
              "        }#T_8896a258_3e24_11eb_bb50_0242ac1c0002row0_col14,#T_8896a258_3e24_11eb_bb50_0242ac1c0002row1_col4,#T_8896a258_3e24_11eb_bb50_0242ac1c0002row2_col8,#T_8896a258_3e24_11eb_bb50_0242ac1c0002row2_col18,#T_8896a258_3e24_11eb_bb50_0242ac1c0002row3_col8,#T_8896a258_3e24_11eb_bb50_0242ac1c0002row4_col7,#T_8896a258_3e24_11eb_bb50_0242ac1c0002row4_col8,#T_8896a258_3e24_11eb_bb50_0242ac1c0002row7_col3,#T_8896a258_3e24_11eb_bb50_0242ac1c0002row7_col11,#T_8896a258_3e24_11eb_bb50_0242ac1c0002row9_col7,#T_8896a258_3e24_11eb_bb50_0242ac1c0002row12_col15,#T_8896a258_3e24_11eb_bb50_0242ac1c0002row13_col16,#T_8896a258_3e24_11eb_bb50_0242ac1c0002row14_col15,#T_8896a258_3e24_11eb_bb50_0242ac1c0002row15_col9,#T_8896a258_3e24_11eb_bb50_0242ac1c0002row16_col8,#T_8896a258_3e24_11eb_bb50_0242ac1c0002row18_col4,#T_8896a258_3e24_11eb_bb50_0242ac1c0002row18_col16,#T_8896a258_3e24_11eb_bb50_0242ac1c0002row19_col13,#T_8896a258_3e24_11eb_bb50_0242ac1c0002row19_col14,#T_8896a258_3e24_11eb_bb50_0242ac1c0002row19_col18{\n",
              "            background-color:  #f2f0f7;\n",
              "            color:  #000000;\n",
              "        }#T_8896a258_3e24_11eb_bb50_0242ac1c0002row0_col15,#T_8896a258_3e24_11eb_bb50_0242ac1c0002row1_col8,#T_8896a258_3e24_11eb_bb50_0242ac1c0002row3_col7,#T_8896a258_3e24_11eb_bb50_0242ac1c0002row3_col11,#T_8896a258_3e24_11eb_bb50_0242ac1c0002row6_col11,#T_8896a258_3e24_11eb_bb50_0242ac1c0002row10_col1,#T_8896a258_3e24_11eb_bb50_0242ac1c0002row11_col1,#T_8896a258_3e24_11eb_bb50_0242ac1c0002row12_col14,#T_8896a258_3e24_11eb_bb50_0242ac1c0002row14_col7,#T_8896a258_3e24_11eb_bb50_0242ac1c0002row17_col2,#T_8896a258_3e24_11eb_bb50_0242ac1c0002row18_col11{\n",
              "            background-color:  #f1f0f6;\n",
              "            color:  #000000;\n",
              "        }#T_8896a258_3e24_11eb_bb50_0242ac1c0002row0_col16,#T_8896a258_3e24_11eb_bb50_0242ac1c0002row4_col12,#T_8896a258_3e24_11eb_bb50_0242ac1c0002row7_col5,#T_8896a258_3e24_11eb_bb50_0242ac1c0002row10_col16,#T_8896a258_3e24_11eb_bb50_0242ac1c0002row11_col5,#T_8896a258_3e24_11eb_bb50_0242ac1c0002row16_col5,#T_8896a258_3e24_11eb_bb50_0242ac1c0002row18_col15,#T_8896a258_3e24_11eb_bb50_0242ac1c0002row19_col3{\n",
              "            background-color:  #f0eef5;\n",
              "            color:  #000000;\n",
              "        }#T_8896a258_3e24_11eb_bb50_0242ac1c0002row0_col17,#T_8896a258_3e24_11eb_bb50_0242ac1c0002row14_col6,#T_8896a258_3e24_11eb_bb50_0242ac1c0002row19_col8,#T_8896a258_3e24_11eb_bb50_0242ac1c0002row19_col17{\n",
              "            background-color:  #e2e2ef;\n",
              "            color:  #000000;\n",
              "        }#T_8896a258_3e24_11eb_bb50_0242ac1c0002row0_col18,#T_8896a258_3e24_11eb_bb50_0242ac1c0002row2_col11,#T_8896a258_3e24_11eb_bb50_0242ac1c0002row2_col13,#T_8896a258_3e24_11eb_bb50_0242ac1c0002row6_col3,#T_8896a258_3e24_11eb_bb50_0242ac1c0002row7_col13,#T_8896a258_3e24_11eb_bb50_0242ac1c0002row7_col18,#T_8896a258_3e24_11eb_bb50_0242ac1c0002row10_col9,#T_8896a258_3e24_11eb_bb50_0242ac1c0002row11_col8,#T_8896a258_3e24_11eb_bb50_0242ac1c0002row15_col4,#T_8896a258_3e24_11eb_bb50_0242ac1c0002row15_col18,#T_8896a258_3e24_11eb_bb50_0242ac1c0002row19_col9{\n",
              "            background-color:  #f4f3f8;\n",
              "            color:  #000000;\n",
              "        }#T_8896a258_3e24_11eb_bb50_0242ac1c0002row0_col19,#T_8896a258_3e24_11eb_bb50_0242ac1c0002row2_col0,#T_8896a258_3e24_11eb_bb50_0242ac1c0002row6_col0,#T_8896a258_3e24_11eb_bb50_0242ac1c0002row6_col13,#T_8896a258_3e24_11eb_bb50_0242ac1c0002row11_col6,#T_8896a258_3e24_11eb_bb50_0242ac1c0002row11_col18,#T_8896a258_3e24_11eb_bb50_0242ac1c0002row17_col4{\n",
              "            background-color:  #f9f8fb;\n",
              "            color:  #000000;\n",
              "        }#T_8896a258_3e24_11eb_bb50_0242ac1c0002row1_col0,#T_8896a258_3e24_11eb_bb50_0242ac1c0002row3_col6,#T_8896a258_3e24_11eb_bb50_0242ac1c0002row15_col0,#T_8896a258_3e24_11eb_bb50_0242ac1c0002row15_col12{\n",
              "            background-color:  #faf8fb;\n",
              "            color:  #000000;\n",
              "        }#T_8896a258_3e24_11eb_bb50_0242ac1c0002row1_col2{\n",
              "            background-color:  #b9b9da;\n",
              "            color:  #000000;\n",
              "        }#T_8896a258_3e24_11eb_bb50_0242ac1c0002row1_col3,#T_8896a258_3e24_11eb_bb50_0242ac1c0002row5_col3,#T_8896a258_3e24_11eb_bb50_0242ac1c0002row6_col5{\n",
              "            background-color:  #e9e8f2;\n",
              "            color:  #000000;\n",
              "        }#T_8896a258_3e24_11eb_bb50_0242ac1c0002row1_col6,#T_8896a258_3e24_11eb_bb50_0242ac1c0002row12_col17{\n",
              "            background-color:  #dedded;\n",
              "            color:  #000000;\n",
              "        }#T_8896a258_3e24_11eb_bb50_0242ac1c0002row1_col9,#T_8896a258_3e24_11eb_bb50_0242ac1c0002row12_col7,#T_8896a258_3e24_11eb_bb50_0242ac1c0002row12_col11,#T_8896a258_3e24_11eb_bb50_0242ac1c0002row14_col16,#T_8896a258_3e24_11eb_bb50_0242ac1c0002row19_col1{\n",
              "            background-color:  #ebe9f3;\n",
              "            color:  #000000;\n",
              "        }#T_8896a258_3e24_11eb_bb50_0242ac1c0002row1_col10,#T_8896a258_3e24_11eb_bb50_0242ac1c0002row2_col10,#T_8896a258_3e24_11eb_bb50_0242ac1c0002row3_col0,#T_8896a258_3e24_11eb_bb50_0242ac1c0002row4_col0,#T_8896a258_3e24_11eb_bb50_0242ac1c0002row5_col7,#T_8896a258_3e24_11eb_bb50_0242ac1c0002row7_col0,#T_8896a258_3e24_11eb_bb50_0242ac1c0002row11_col13,#T_8896a258_3e24_11eb_bb50_0242ac1c0002row13_col6,#T_8896a258_3e24_11eb_bb50_0242ac1c0002row14_col0,#T_8896a258_3e24_11eb_bb50_0242ac1c0002row16_col13{\n",
              "            background-color:  #f8f7fb;\n",
              "            color:  #000000;\n",
              "        }#T_8896a258_3e24_11eb_bb50_0242ac1c0002row1_col13,#T_8896a258_3e24_11eb_bb50_0242ac1c0002row1_col15,#T_8896a258_3e24_11eb_bb50_0242ac1c0002row5_col0,#T_8896a258_3e24_11eb_bb50_0242ac1c0002row5_col1,#T_8896a258_3e24_11eb_bb50_0242ac1c0002row5_col8,#T_8896a258_3e24_11eb_bb50_0242ac1c0002row5_col10,#T_8896a258_3e24_11eb_bb50_0242ac1c0002row5_col12,#T_8896a258_3e24_11eb_bb50_0242ac1c0002row5_col14,#T_8896a258_3e24_11eb_bb50_0242ac1c0002row5_col17,#T_8896a258_3e24_11eb_bb50_0242ac1c0002row5_col18,#T_8896a258_3e24_11eb_bb50_0242ac1c0002row5_col19,#T_8896a258_3e24_11eb_bb50_0242ac1c0002row8_col0,#T_8896a258_3e24_11eb_bb50_0242ac1c0002row8_col1,#T_8896a258_3e24_11eb_bb50_0242ac1c0002row8_col2,#T_8896a258_3e24_11eb_bb50_0242ac1c0002row8_col3,#T_8896a258_3e24_11eb_bb50_0242ac1c0002row8_col4,#T_8896a258_3e24_11eb_bb50_0242ac1c0002row8_col5,#T_8896a258_3e24_11eb_bb50_0242ac1c0002row8_col7,#T_8896a258_3e24_11eb_bb50_0242ac1c0002row8_col9,#T_8896a258_3e24_11eb_bb50_0242ac1c0002row8_col11,#T_8896a258_3e24_11eb_bb50_0242ac1c0002row8_col12,#T_8896a258_3e24_11eb_bb50_0242ac1c0002row8_col16,#T_8896a258_3e24_11eb_bb50_0242ac1c0002row15_col1,#T_8896a258_3e24_11eb_bb50_0242ac1c0002row15_col6,#T_8896a258_3e24_11eb_bb50_0242ac1c0002row16_col6,#T_8896a258_3e24_11eb_bb50_0242ac1c0002row17_col5,#T_8896a258_3e24_11eb_bb50_0242ac1c0002row17_col13{\n",
              "            background-color:  #fcfbfd;\n",
              "            color:  #000000;\n",
              "        }#T_8896a258_3e24_11eb_bb50_0242ac1c0002row1_col14,#T_8896a258_3e24_11eb_bb50_0242ac1c0002row4_col1,#T_8896a258_3e24_11eb_bb50_0242ac1c0002row4_col11,#T_8896a258_3e24_11eb_bb50_0242ac1c0002row5_col2,#T_8896a258_3e24_11eb_bb50_0242ac1c0002row5_col9,#T_8896a258_3e24_11eb_bb50_0242ac1c0002row7_col4,#T_8896a258_3e24_11eb_bb50_0242ac1c0002row8_col10,#T_8896a258_3e24_11eb_bb50_0242ac1c0002row11_col7,#T_8896a258_3e24_11eb_bb50_0242ac1c0002row12_col13,#T_8896a258_3e24_11eb_bb50_0242ac1c0002row14_col2,#T_8896a258_3e24_11eb_bb50_0242ac1c0002row16_col7{\n",
              "            background-color:  #f3f1f7;\n",
              "            color:  #000000;\n",
              "        }#T_8896a258_3e24_11eb_bb50_0242ac1c0002row1_col16{\n",
              "            background-color:  #c5c6e1;\n",
              "            color:  #000000;\n",
              "        }#T_8896a258_3e24_11eb_bb50_0242ac1c0002row1_col17{\n",
              "            background-color:  #bcbddc;\n",
              "            color:  #000000;\n",
              "        }#T_8896a258_3e24_11eb_bb50_0242ac1c0002row1_col18,#T_8896a258_3e24_11eb_bb50_0242ac1c0002row3_col1,#T_8896a258_3e24_11eb_bb50_0242ac1c0002row9_col12{\n",
              "            background-color:  #eae8f2;\n",
              "            color:  #000000;\n",
              "        }#T_8896a258_3e24_11eb_bb50_0242ac1c0002row2_col1{\n",
              "            background-color:  #babadb;\n",
              "            color:  #000000;\n",
              "        }#T_8896a258_3e24_11eb_bb50_0242ac1c0002row2_col3{\n",
              "            background-color:  #c9c9e2;\n",
              "            color:  #000000;\n",
              "        }#T_8896a258_3e24_11eb_bb50_0242ac1c0002row2_col4,#T_8896a258_3e24_11eb_bb50_0242ac1c0002row4_col2{\n",
              "            background-color:  #bdbedc;\n",
              "            color:  #000000;\n",
              "        }#T_8896a258_3e24_11eb_bb50_0242ac1c0002row2_col6,#T_8896a258_3e24_11eb_bb50_0242ac1c0002row3_col19,#T_8896a258_3e24_11eb_bb50_0242ac1c0002row4_col6,#T_8896a258_3e24_11eb_bb50_0242ac1c0002row7_col19,#T_8896a258_3e24_11eb_bb50_0242ac1c0002row8_col19,#T_8896a258_3e24_11eb_bb50_0242ac1c0002row9_col6,#T_8896a258_3e24_11eb_bb50_0242ac1c0002row17_col15,#T_8896a258_3e24_11eb_bb50_0242ac1c0002row17_col19{\n",
              "            background-color:  #fbfafc;\n",
              "            color:  #000000;\n",
              "        }#T_8896a258_3e24_11eb_bb50_0242ac1c0002row2_col7,#T_8896a258_3e24_11eb_bb50_0242ac1c0002row3_col14,#T_8896a258_3e24_11eb_bb50_0242ac1c0002row6_col7,#T_8896a258_3e24_11eb_bb50_0242ac1c0002row7_col8,#T_8896a258_3e24_11eb_bb50_0242ac1c0002row11_col3,#T_8896a258_3e24_11eb_bb50_0242ac1c0002row15_col3{\n",
              "            background-color:  #f3f2f8;\n",
              "            color:  #000000;\n",
              "        }#T_8896a258_3e24_11eb_bb50_0242ac1c0002row2_col9,#T_8896a258_3e24_11eb_bb50_0242ac1c0002row16_col1{\n",
              "            background-color:  #c6c7e1;\n",
              "            color:  #000000;\n",
              "        }#T_8896a258_3e24_11eb_bb50_0242ac1c0002row2_col12,#T_8896a258_3e24_11eb_bb50_0242ac1c0002row2_col17,#T_8896a258_3e24_11eb_bb50_0242ac1c0002row3_col16,#T_8896a258_3e24_11eb_bb50_0242ac1c0002row6_col10,#T_8896a258_3e24_11eb_bb50_0242ac1c0002row10_col14,#T_8896a258_3e24_11eb_bb50_0242ac1c0002row12_col4,#T_8896a258_3e24_11eb_bb50_0242ac1c0002row12_col9,#T_8896a258_3e24_11eb_bb50_0242ac1c0002row13_col8,#T_8896a258_3e24_11eb_bb50_0242ac1c0002row16_col3,#T_8896a258_3e24_11eb_bb50_0242ac1c0002row18_col17,#T_8896a258_3e24_11eb_bb50_0242ac1c0002row19_col5{\n",
              "            background-color:  #e4e3f0;\n",
              "            color:  #000000;\n",
              "        }#T_8896a258_3e24_11eb_bb50_0242ac1c0002row2_col16{\n",
              "            background-color:  #cfd0e6;\n",
              "            color:  #000000;\n",
              "        }#T_8896a258_3e24_11eb_bb50_0242ac1c0002row3_col2{\n",
              "            background-color:  #cacae3;\n",
              "            color:  #000000;\n",
              "        }#T_8896a258_3e24_11eb_bb50_0242ac1c0002row3_col4,#T_8896a258_3e24_11eb_bb50_0242ac1c0002row4_col3{\n",
              "            background-color:  #9b97c6;\n",
              "            color:  #000000;\n",
              "        }#T_8896a258_3e24_11eb_bb50_0242ac1c0002row3_col5,#T_8896a258_3e24_11eb_bb50_0242ac1c0002row11_col16,#T_8896a258_3e24_11eb_bb50_0242ac1c0002row12_col16,#T_8896a258_3e24_11eb_bb50_0242ac1c0002row14_col8{\n",
              "            background-color:  #dbdbec;\n",
              "            color:  #000000;\n",
              "        }#T_8896a258_3e24_11eb_bb50_0242ac1c0002row3_col9,#T_8896a258_3e24_11eb_bb50_0242ac1c0002row10_col17{\n",
              "            background-color:  #d4d4e8;\n",
              "            color:  #000000;\n",
              "        }#T_8896a258_3e24_11eb_bb50_0242ac1c0002row3_col12{\n",
              "            background-color:  #eeecf4;\n",
              "            color:  #000000;\n",
              "        }#T_8896a258_3e24_11eb_bb50_0242ac1c0002row4_col5,#T_8896a258_3e24_11eb_bb50_0242ac1c0002row16_col2{\n",
              "            background-color:  #d0d1e6;\n",
              "            color:  #000000;\n",
              "        }#T_8896a258_3e24_11eb_bb50_0242ac1c0002row4_col9,#T_8896a258_3e24_11eb_bb50_0242ac1c0002row9_col3,#T_8896a258_3e24_11eb_bb50_0242ac1c0002row17_col1{\n",
              "            background-color:  #cdcde4;\n",
              "            color:  #000000;\n",
              "        }#T_8896a258_3e24_11eb_bb50_0242ac1c0002row4_col10,#T_8896a258_3e24_11eb_bb50_0242ac1c0002row6_col12,#T_8896a258_3e24_11eb_bb50_0242ac1c0002row6_col15,#T_8896a258_3e24_11eb_bb50_0242ac1c0002row7_col9,#T_8896a258_3e24_11eb_bb50_0242ac1c0002row13_col0,#T_8896a258_3e24_11eb_bb50_0242ac1c0002row16_col15,#T_8896a258_3e24_11eb_bb50_0242ac1c0002row18_col0{\n",
              "            background-color:  #f8f7fa;\n",
              "            color:  #000000;\n",
              "        }#T_8896a258_3e24_11eb_bb50_0242ac1c0002row4_col13,#T_8896a258_3e24_11eb_bb50_0242ac1c0002row8_col18,#T_8896a258_3e24_11eb_bb50_0242ac1c0002row11_col14,#T_8896a258_3e24_11eb_bb50_0242ac1c0002row12_col3{\n",
              "            background-color:  #e1e0ee;\n",
              "            color:  #000000;\n",
              "        }#T_8896a258_3e24_11eb_bb50_0242ac1c0002row4_col18,#T_8896a258_3e24_11eb_bb50_0242ac1c0002row5_col11,#T_8896a258_3e24_11eb_bb50_0242ac1c0002row7_col1,#T_8896a258_3e24_11eb_bb50_0242ac1c0002row7_col10,#T_8896a258_3e24_11eb_bb50_0242ac1c0002row7_col15,#T_8896a258_3e24_11eb_bb50_0242ac1c0002row8_col13,#T_8896a258_3e24_11eb_bb50_0242ac1c0002row9_col10,#T_8896a258_3e24_11eb_bb50_0242ac1c0002row10_col0,#T_8896a258_3e24_11eb_bb50_0242ac1c0002row11_col10,#T_8896a258_3e24_11eb_bb50_0242ac1c0002row12_col0,#T_8896a258_3e24_11eb_bb50_0242ac1c0002row16_col10,#T_8896a258_3e24_11eb_bb50_0242ac1c0002row16_col18,#T_8896a258_3e24_11eb_bb50_0242ac1c0002row17_col3,#T_8896a258_3e24_11eb_bb50_0242ac1c0002row17_col9,#T_8896a258_3e24_11eb_bb50_0242ac1c0002row19_col0{\n",
              "            background-color:  #f8f6fa;\n",
              "            color:  #000000;\n",
              "        }#T_8896a258_3e24_11eb_bb50_0242ac1c0002row4_col19,#T_8896a258_3e24_11eb_bb50_0242ac1c0002row5_col6,#T_8896a258_3e24_11eb_bb50_0242ac1c0002row5_col16,#T_8896a258_3e24_11eb_bb50_0242ac1c0002row6_col9,#T_8896a258_3e24_11eb_bb50_0242ac1c0002row6_col19,#T_8896a258_3e24_11eb_bb50_0242ac1c0002row7_col6,#T_8896a258_3e24_11eb_bb50_0242ac1c0002row9_col19,#T_8896a258_3e24_11eb_bb50_0242ac1c0002row11_col15,#T_8896a258_3e24_11eb_bb50_0242ac1c0002row11_col19,#T_8896a258_3e24_11eb_bb50_0242ac1c0002row14_col19,#T_8896a258_3e24_11eb_bb50_0242ac1c0002row15_col19,#T_8896a258_3e24_11eb_bb50_0242ac1c0002row16_col19,#T_8896a258_3e24_11eb_bb50_0242ac1c0002row17_col0{\n",
              "            background-color:  #faf9fc;\n",
              "            color:  #000000;\n",
              "        }#T_8896a258_3e24_11eb_bb50_0242ac1c0002row5_col4,#T_8896a258_3e24_11eb_bb50_0242ac1c0002row8_col17,#T_8896a258_3e24_11eb_bb50_0242ac1c0002row9_col5{\n",
              "            background-color:  #e0dfee;\n",
              "            color:  #000000;\n",
              "        }#T_8896a258_3e24_11eb_bb50_0242ac1c0002row5_col15,#T_8896a258_3e24_11eb_bb50_0242ac1c0002row12_col2,#T_8896a258_3e24_11eb_bb50_0242ac1c0002row13_col5,#T_8896a258_3e24_11eb_bb50_0242ac1c0002row16_col11{\n",
              "            background-color:  #d8d8ea;\n",
              "            color:  #000000;\n",
              "        }#T_8896a258_3e24_11eb_bb50_0242ac1c0002row6_col1{\n",
              "            background-color:  #d6d6e9;\n",
              "            color:  #000000;\n",
              "        }#T_8896a258_3e24_11eb_bb50_0242ac1c0002row6_col8{\n",
              "            background-color:  #d5d5e9;\n",
              "            color:  #000000;\n",
              "        }#T_8896a258_3e24_11eb_bb50_0242ac1c0002row6_col14{\n",
              "            background-color:  #dedeed;\n",
              "            color:  #000000;\n",
              "        }#T_8896a258_3e24_11eb_bb50_0242ac1c0002row6_col17{\n",
              "            background-color:  #afaed4;\n",
              "            color:  #000000;\n",
              "        }#T_8896a258_3e24_11eb_bb50_0242ac1c0002row6_col18,#T_8896a258_3e24_11eb_bb50_0242ac1c0002row9_col0,#T_8896a258_3e24_11eb_bb50_0242ac1c0002row10_col19,#T_8896a258_3e24_11eb_bb50_0242ac1c0002row11_col0,#T_8896a258_3e24_11eb_bb50_0242ac1c0002row12_col19,#T_8896a258_3e24_11eb_bb50_0242ac1c0002row16_col0,#T_8896a258_3e24_11eb_bb50_0242ac1c0002row18_col6{\n",
              "            background-color:  #f9f7fb;\n",
              "            color:  #000000;\n",
              "        }#T_8896a258_3e24_11eb_bb50_0242ac1c0002row8_col6,#T_8896a258_3e24_11eb_bb50_0242ac1c0002row14_col10,#T_8896a258_3e24_11eb_bb50_0242ac1c0002row18_col5{\n",
              "            background-color:  #eceaf3;\n",
              "            color:  #000000;\n",
              "        }#T_8896a258_3e24_11eb_bb50_0242ac1c0002row8_col15,#T_8896a258_3e24_11eb_bb50_0242ac1c0002row10_col8,#T_8896a258_3e24_11eb_bb50_0242ac1c0002row13_col3{\n",
              "            background-color:  #dcdcec;\n",
              "            color:  #000000;\n",
              "        }#T_8896a258_3e24_11eb_bb50_0242ac1c0002row9_col2{\n",
              "            background-color:  #bfc0de;\n",
              "            color:  #000000;\n",
              "        }#T_8896a258_3e24_11eb_bb50_0242ac1c0002row9_col4,#T_8896a258_3e24_11eb_bb50_0242ac1c0002row15_col5{\n",
              "            background-color:  #c4c5e0;\n",
              "            color:  #000000;\n",
              "        }#T_8896a258_3e24_11eb_bb50_0242ac1c0002row9_col11,#T_8896a258_3e24_11eb_bb50_0242ac1c0002row12_col8{\n",
              "            background-color:  #e8e6f2;\n",
              "            color:  #000000;\n",
              "        }#T_8896a258_3e24_11eb_bb50_0242ac1c0002row9_col18,#T_8896a258_3e24_11eb_bb50_0242ac1c0002row10_col12,#T_8896a258_3e24_11eb_bb50_0242ac1c0002row11_col2,#T_8896a258_3e24_11eb_bb50_0242ac1c0002row11_col12,#T_8896a258_3e24_11eb_bb50_0242ac1c0002row13_col10,#T_8896a258_3e24_11eb_bb50_0242ac1c0002row14_col12,#T_8896a258_3e24_11eb_bb50_0242ac1c0002row14_col13,#T_8896a258_3e24_11eb_bb50_0242ac1c0002row14_col18,#T_8896a258_3e24_11eb_bb50_0242ac1c0002row15_col10,#T_8896a258_3e24_11eb_bb50_0242ac1c0002row15_col16,#T_8896a258_3e24_11eb_bb50_0242ac1c0002row17_col18,#T_8896a258_3e24_11eb_bb50_0242ac1c0002row18_col10{\n",
              "            background-color:  #f7f6fa;\n",
              "            color:  #000000;\n",
              "        }#T_8896a258_3e24_11eb_bb50_0242ac1c0002row10_col5,#T_8896a258_3e24_11eb_bb50_0242ac1c0002row19_col2{\n",
              "            background-color:  #e8e7f2;\n",
              "            color:  #000000;\n",
              "        }#T_8896a258_3e24_11eb_bb50_0242ac1c0002row10_col6,#T_8896a258_3e24_11eb_bb50_0242ac1c0002row17_col8{\n",
              "            background-color:  #e0e0ee;\n",
              "            color:  #000000;\n",
              "        }#T_8896a258_3e24_11eb_bb50_0242ac1c0002row10_col7,#T_8896a258_3e24_11eb_bb50_0242ac1c0002row13_col2{\n",
              "            background-color:  #eeecf5;\n",
              "            color:  #000000;\n",
              "        }#T_8896a258_3e24_11eb_bb50_0242ac1c0002row11_col17{\n",
              "            background-color:  #b5b5d7;\n",
              "            color:  #000000;\n",
              "        }#T_8896a258_3e24_11eb_bb50_0242ac1c0002row12_col1,#T_8896a258_3e24_11eb_bb50_0242ac1c0002row14_col11{\n",
              "            background-color:  #dadaeb;\n",
              "            color:  #000000;\n",
              "        }#T_8896a258_3e24_11eb_bb50_0242ac1c0002row13_col4{\n",
              "            background-color:  #d9d9ea;\n",
              "            color:  #000000;\n",
              "        }#T_8896a258_3e24_11eb_bb50_0242ac1c0002row13_col17{\n",
              "            background-color:  #eae9f3;\n",
              "            color:  #000000;\n",
              "        }#T_8896a258_3e24_11eb_bb50_0242ac1c0002row13_col18,#T_8896a258_3e24_11eb_bb50_0242ac1c0002row13_col19,#T_8896a258_3e24_11eb_bb50_0242ac1c0002row18_col9,#T_8896a258_3e24_11eb_bb50_0242ac1c0002row19_col12{\n",
              "            background-color:  #f6f5f9;\n",
              "            color:  #000000;\n",
              "        }#T_8896a258_3e24_11eb_bb50_0242ac1c0002row14_col17{\n",
              "            background-color:  #aeadd3;\n",
              "            color:  #000000;\n",
              "        }#T_8896a258_3e24_11eb_bb50_0242ac1c0002row15_col8{\n",
              "            background-color:  #cbcbe3;\n",
              "            color:  #000000;\n",
              "        }#T_8896a258_3e24_11eb_bb50_0242ac1c0002row16_col17{\n",
              "            background-color:  #cecfe5;\n",
              "            color:  #000000;\n",
              "        }#T_8896a258_3e24_11eb_bb50_0242ac1c0002row17_col6{\n",
              "            background-color:  #c7c8e1;\n",
              "            color:  #000000;\n",
              "        }#T_8896a258_3e24_11eb_bb50_0242ac1c0002row17_col11{\n",
              "            background-color:  #c1c2df;\n",
              "            color:  #000000;\n",
              "        }#T_8896a258_3e24_11eb_bb50_0242ac1c0002row17_col14{\n",
              "            background-color:  #c2c3df;\n",
              "            color:  #000000;\n",
              "        }#T_8896a258_3e24_11eb_bb50_0242ac1c0002row17_col16{\n",
              "            background-color:  #dfdfed;\n",
              "            color:  #000000;\n",
              "        }#T_8896a258_3e24_11eb_bb50_0242ac1c0002row18_col1{\n",
              "            background-color:  #e3e2ef;\n",
              "            color:  #000000;\n",
              "        }#T_8896a258_3e24_11eb_bb50_0242ac1c0002row18_col8{\n",
              "            background-color:  #c8c8e2;\n",
              "            color:  #000000;\n",
              "        }</style><table id=\"T_8896a258_3e24_11eb_bb50_0242ac1c0002\" ><thead>    <tr>        <th class=\"blank level0\" ></th>        <th class=\"col_heading level0 col0\" >(no genres listed)</th>        <th class=\"col_heading level0 col1\" >Action</th>        <th class=\"col_heading level0 col2\" >Adventure</th>        <th class=\"col_heading level0 col3\" >Animation</th>        <th class=\"col_heading level0 col4\" >Children</th>        <th class=\"col_heading level0 col5\" >Comedy</th>        <th class=\"col_heading level0 col6\" >Crime</th>        <th class=\"col_heading level0 col7\" >Documentary</th>        <th class=\"col_heading level0 col8\" >Drama</th>        <th class=\"col_heading level0 col9\" >Fantasy</th>        <th class=\"col_heading level0 col10\" >Film-Noir</th>        <th class=\"col_heading level0 col11\" >Horror</th>        <th class=\"col_heading level0 col12\" >IMAX</th>        <th class=\"col_heading level0 col13\" >Musical</th>        <th class=\"col_heading level0 col14\" >Mystery</th>        <th class=\"col_heading level0 col15\" >Romance</th>        <th class=\"col_heading level0 col16\" >Sci-Fi</th>        <th class=\"col_heading level0 col17\" >Thriller</th>        <th class=\"col_heading level0 col18\" >War</th>        <th class=\"col_heading level0 col19\" >Western</th>    </tr></thead><tbody>\n",
              "                <tr>\n",
              "                        <th id=\"T_8896a258_3e24_11eb_bb50_0242ac1c0002level0_row0\" class=\"row_heading level0 row0\" >(no genres listed)</th>\n",
              "                        <td id=\"T_8896a258_3e24_11eb_bb50_0242ac1c0002row0_col0\" class=\"data row0 col0\" >1.000000</td>\n",
              "                        <td id=\"T_8896a258_3e24_11eb_bb50_0242ac1c0002row0_col1\" class=\"data row0 col1\" >-0.028442</td>\n",
              "                        <td id=\"T_8896a258_3e24_11eb_bb50_0242ac1c0002row0_col2\" class=\"data row0 col2\" >-0.022840</td>\n",
              "                        <td id=\"T_8896a258_3e24_11eb_bb50_0242ac1c0002row0_col3\" class=\"data row0 col3\" >-0.015309</td>\n",
              "                        <td id=\"T_8896a258_3e24_11eb_bb50_0242ac1c0002row0_col4\" class=\"data row0 col4\" >-0.016005</td>\n",
              "                        <td id=\"T_8896a258_3e24_11eb_bb50_0242ac1c0002row0_col5\" class=\"data row0 col5\" >-0.046878</td>\n",
              "                        <td id=\"T_8896a258_3e24_11eb_bb50_0242ac1c0002row0_col6\" class=\"data row0 col6\" >-0.022171</td>\n",
              "                        <td id=\"T_8896a258_3e24_11eb_bb50_0242ac1c0002row0_col7\" class=\"data row0 col7\" >-0.012871</td>\n",
              "                        <td id=\"T_8896a258_3e24_11eb_bb50_0242ac1c0002row0_col8\" class=\"data row0 col8\" >-0.053277</td>\n",
              "                        <td id=\"T_8896a258_3e24_11eb_bb50_0242ac1c0002row0_col9\" class=\"data row0 col9\" >-0.017447</td>\n",
              "                        <td id=\"T_8896a258_3e24_11eb_bb50_0242ac1c0002row0_col10\" class=\"data row0 col10\" >-0.005618</td>\n",
              "                        <td id=\"T_8896a258_3e24_11eb_bb50_0242ac1c0002row0_col11\" class=\"data row0 col11\" >-0.019769</td>\n",
              "                        <td id=\"T_8896a258_3e24_11eb_bb50_0242ac1c0002row0_col12\" class=\"data row0 col12\" >-0.007599</td>\n",
              "                        <td id=\"T_8896a258_3e24_11eb_bb50_0242ac1c0002row0_col13\" class=\"data row0 col13\" >-0.011151</td>\n",
              "                        <td id=\"T_8896a258_3e24_11eb_bb50_0242ac1c0002row0_col14\" class=\"data row0 col14\" >-0.014794</td>\n",
              "                        <td id=\"T_8896a258_3e24_11eb_bb50_0242ac1c0002row0_col15\" class=\"data row0 col15\" >-0.026195</td>\n",
              "                        <td id=\"T_8896a258_3e24_11eb_bb50_0242ac1c0002row0_col16\" class=\"data row0 col16\" >-0.019792</td>\n",
              "                        <td id=\"T_8896a258_3e24_11eb_bb50_0242ac1c0002row0_col17\" class=\"data row0 col17\" >-0.029073</td>\n",
              "                        <td id=\"T_8896a258_3e24_11eb_bb50_0242ac1c0002row0_col18\" class=\"data row0 col18\" >-0.011956</td>\n",
              "                        <td id=\"T_8896a258_3e24_11eb_bb50_0242ac1c0002row0_col19\" class=\"data row0 col19\" >-0.007816</td>\n",
              "            </tr>\n",
              "            <tr>\n",
              "                        <th id=\"T_8896a258_3e24_11eb_bb50_0242ac1c0002level0_row1\" class=\"row_heading level0 row1\" >Action</th>\n",
              "                        <td id=\"T_8896a258_3e24_11eb_bb50_0242ac1c0002row1_col0\" class=\"data row1 col0\" >-0.028442</td>\n",
              "                        <td id=\"T_8896a258_3e24_11eb_bb50_0242ac1c0002row1_col1\" class=\"data row1 col1\" >1.000000</td>\n",
              "                        <td id=\"T_8896a258_3e24_11eb_bb50_0242ac1c0002row1_col2\" class=\"data row1 col2\" >0.291949</td>\n",
              "                        <td id=\"T_8896a258_3e24_11eb_bb50_0242ac1c0002row1_col3\" class=\"data row1 col3\" >0.029659</td>\n",
              "                        <td id=\"T_8896a258_3e24_11eb_bb50_0242ac1c0002row1_col4\" class=\"data row1 col4\" >-0.049652</td>\n",
              "                        <td id=\"T_8896a258_3e24_11eb_bb50_0242ac1c0002row1_col5\" class=\"data row1 col5\" >-0.148968</td>\n",
              "                        <td id=\"T_8896a258_3e24_11eb_bb50_0242ac1c0002row1_col6\" class=\"data row1 col6\" >0.154471</td>\n",
              "                        <td id=\"T_8896a258_3e24_11eb_bb50_0242ac1c0002row1_col7\" class=\"data row1 col7\" >-0.099463</td>\n",
              "                        <td id=\"T_8896a258_3e24_11eb_bb50_0242ac1c0002row1_col8\" class=\"data row1 col8\" >-0.152964</td>\n",
              "                        <td id=\"T_8896a258_3e24_11eb_bb50_0242ac1c0002row1_col9\" class=\"data row1 col9\" >0.059931</td>\n",
              "                        <td id=\"T_8896a258_3e24_11eb_bb50_0242ac1c0002row1_col10\" class=\"data row1 col10\" >-0.031649</td>\n",
              "                        <td id=\"T_8896a258_3e24_11eb_bb50_0242ac1c0002row1_col11\" class=\"data row1 col11\" >-0.035443</td>\n",
              "                        <td id=\"T_8896a258_3e24_11eb_bb50_0242ac1c0002row1_col12\" class=\"data row1 col12\" >0.131864</td>\n",
              "                        <td id=\"T_8896a258_3e24_11eb_bb50_0242ac1c0002row1_col13\" class=\"data row1 col13\" >-0.083331</td>\n",
              "                        <td id=\"T_8896a258_3e24_11eb_bb50_0242ac1c0002row1_col14\" class=\"data row1 col14\" >-0.028515</td>\n",
              "                        <td id=\"T_8896a258_3e24_11eb_bb50_0242ac1c0002row1_col15\" class=\"data row1 col15\" >-0.146670</td>\n",
              "                        <td id=\"T_8896a258_3e24_11eb_bb50_0242ac1c0002row1_col16\" class=\"data row1 col16\" >0.233475</td>\n",
              "                        <td id=\"T_8896a258_3e24_11eb_bb50_0242ac1c0002row1_col17\" class=\"data row1 col17\" >0.199042</td>\n",
              "                        <td id=\"T_8896a258_3e24_11eb_bb50_0242ac1c0002row1_col18\" class=\"data row1 col18\" >0.076289</td>\n",
              "                        <td id=\"T_8896a258_3e24_11eb_bb50_0242ac1c0002row1_col19\" class=\"data row1 col19\" >0.021600</td>\n",
              "            </tr>\n",
              "            <tr>\n",
              "                        <th id=\"T_8896a258_3e24_11eb_bb50_0242ac1c0002level0_row2\" class=\"row_heading level0 row2\" >Adventure</th>\n",
              "                        <td id=\"T_8896a258_3e24_11eb_bb50_0242ac1c0002row2_col0\" class=\"data row2 col0\" >-0.022840</td>\n",
              "                        <td id=\"T_8896a258_3e24_11eb_bb50_0242ac1c0002row2_col1\" class=\"data row2 col1\" >0.291949</td>\n",
              "                        <td id=\"T_8896a258_3e24_11eb_bb50_0242ac1c0002row2_col2\" class=\"data row2 col2\" >1.000000</td>\n",
              "                        <td id=\"T_8896a258_3e24_11eb_bb50_0242ac1c0002row2_col3\" class=\"data row2 col3\" >0.211472</td>\n",
              "                        <td id=\"T_8896a258_3e24_11eb_bb50_0242ac1c0002row2_col4\" class=\"data row2 col4\" >0.273931</td>\n",
              "                        <td id=\"T_8896a258_3e24_11eb_bb50_0242ac1c0002row2_col5\" class=\"data row2 col5\" >-0.055215</td>\n",
              "                        <td id=\"T_8896a258_3e24_11eb_bb50_0242ac1c0002row2_col6\" class=\"data row2 col6\" >-0.085988</td>\n",
              "                        <td id=\"T_8896a258_3e24_11eb_bb50_0242ac1c0002row2_col7\" class=\"data row2 col7\" >-0.075111</td>\n",
              "                        <td id=\"T_8896a258_3e24_11eb_bb50_0242ac1c0002row2_col8\" class=\"data row2 col8\" >-0.156327</td>\n",
              "                        <td id=\"T_8896a258_3e24_11eb_bb50_0242ac1c0002row2_col9\" class=\"data row2 col9\" >0.262511</td>\n",
              "                        <td id=\"T_8896a258_3e24_11eb_bb50_0242ac1c0002row2_col10\" class=\"data row2 col10\" >-0.030140</td>\n",
              "                        <td id=\"T_8896a258_3e24_11eb_bb50_0242ac1c0002row2_col11\" class=\"data row2 col11\" >-0.098423</td>\n",
              "                        <td id=\"T_8896a258_3e24_11eb_bb50_0242ac1c0002row2_col12\" class=\"data row2 col12\" >0.143982</td>\n",
              "                        <td id=\"T_8896a258_3e24_11eb_bb50_0242ac1c0002row2_col13\" class=\"data row2 col13\" >-0.005544</td>\n",
              "                        <td id=\"T_8896a258_3e24_11eb_bb50_0242ac1c0002row2_col14\" class=\"data row2 col14\" >-0.048427</td>\n",
              "                        <td id=\"T_8896a258_3e24_11eb_bb50_0242ac1c0002row2_col15\" class=\"data row2 col15\" >-0.072584</td>\n",
              "                        <td id=\"T_8896a258_3e24_11eb_bb50_0242ac1c0002row2_col16\" class=\"data row2 col16\" >0.181797</td>\n",
              "                        <td id=\"T_8896a258_3e24_11eb_bb50_0242ac1c0002row2_col17\" class=\"data row2 col17\" >-0.035942</td>\n",
              "                        <td id=\"T_8896a258_3e24_11eb_bb50_0242ac1c0002row2_col18\" class=\"data row2 col18\" >0.010195</td>\n",
              "                        <td id=\"T_8896a258_3e24_11eb_bb50_0242ac1c0002row2_col19\" class=\"data row2 col19\" >0.036136</td>\n",
              "            </tr>\n",
              "            <tr>\n",
              "                        <th id=\"T_8896a258_3e24_11eb_bb50_0242ac1c0002level0_row3\" class=\"row_heading level0 row3\" >Animation</th>\n",
              "                        <td id=\"T_8896a258_3e24_11eb_bb50_0242ac1c0002row3_col0\" class=\"data row3 col0\" >-0.015309</td>\n",
              "                        <td id=\"T_8896a258_3e24_11eb_bb50_0242ac1c0002row3_col1\" class=\"data row3 col1\" >0.029659</td>\n",
              "                        <td id=\"T_8896a258_3e24_11eb_bb50_0242ac1c0002row3_col2\" class=\"data row3 col2\" >0.211472</td>\n",
              "                        <td id=\"T_8896a258_3e24_11eb_bb50_0242ac1c0002row3_col3\" class=\"data row3 col3\" >1.000000</td>\n",
              "                        <td id=\"T_8896a258_3e24_11eb_bb50_0242ac1c0002row3_col4\" class=\"data row3 col4\" >0.437376</td>\n",
              "                        <td id=\"T_8896a258_3e24_11eb_bb50_0242ac1c0002row3_col5\" class=\"data row3 col5\" >0.029079</td>\n",
              "                        <td id=\"T_8896a258_3e24_11eb_bb50_0242ac1c0002row3_col6\" class=\"data row3 col6\" >-0.069847</td>\n",
              "                        <td id=\"T_8896a258_3e24_11eb_bb50_0242ac1c0002row3_col7\" class=\"data row3 col7\" >-0.050144</td>\n",
              "                        <td id=\"T_8896a258_3e24_11eb_bb50_0242ac1c0002row3_col8\" class=\"data row3 col8\" >-0.160504</td>\n",
              "                        <td id=\"T_8896a258_3e24_11eb_bb50_0242ac1c0002row3_col9\" class=\"data row3 col9\" >0.196895</td>\n",
              "                        <td id=\"T_8896a258_3e24_11eb_bb50_0242ac1c0002row3_col10\" class=\"data row3 col10\" >-0.015555</td>\n",
              "                        <td id=\"T_8896a258_3e24_11eb_bb50_0242ac1c0002row3_col11\" class=\"data row3 col11\" >-0.062464</td>\n",
              "                        <td id=\"T_8896a258_3e24_11eb_bb50_0242ac1c0002row3_col12\" class=\"data row3 col12\" >0.080744</td>\n",
              "                        <td id=\"T_8896a258_3e24_11eb_bb50_0242ac1c0002row3_col13\" class=\"data row3 col13\" >0.111804</td>\n",
              "                        <td id=\"T_8896a258_3e24_11eb_bb50_0242ac1c0002row3_col14\" class=\"data row3 col14\" >-0.030477</td>\n",
              "                        <td id=\"T_8896a258_3e24_11eb_bb50_0242ac1c0002row3_col15\" class=\"data row3 col15\" >-0.061882</td>\n",
              "                        <td id=\"T_8896a258_3e24_11eb_bb50_0242ac1c0002row3_col16\" class=\"data row3 col16\" >0.064093</td>\n",
              "                        <td id=\"T_8896a258_3e24_11eb_bb50_0242ac1c0002row3_col17\" class=\"data row3 col17\" >-0.107822</td>\n",
              "                        <td id=\"T_8896a258_3e24_11eb_bb50_0242ac1c0002row3_col18\" class=\"data row3 col18\" >-0.036990</td>\n",
              "                        <td id=\"T_8896a258_3e24_11eb_bb50_0242ac1c0002row3_col19\" class=\"data row3 col19\" >-0.024378</td>\n",
              "            </tr>\n",
              "            <tr>\n",
              "                        <th id=\"T_8896a258_3e24_11eb_bb50_0242ac1c0002level0_row4\" class=\"row_heading level0 row4\" >Children</th>\n",
              "                        <td id=\"T_8896a258_3e24_11eb_bb50_0242ac1c0002row4_col0\" class=\"data row4 col0\" >-0.016005</td>\n",
              "                        <td id=\"T_8896a258_3e24_11eb_bb50_0242ac1c0002row4_col1\" class=\"data row4 col1\" >-0.049652</td>\n",
              "                        <td id=\"T_8896a258_3e24_11eb_bb50_0242ac1c0002row4_col2\" class=\"data row4 col2\" >0.273931</td>\n",
              "                        <td id=\"T_8896a258_3e24_11eb_bb50_0242ac1c0002row4_col3\" class=\"data row4 col3\" >0.437376</td>\n",
              "                        <td id=\"T_8896a258_3e24_11eb_bb50_0242ac1c0002row4_col4\" class=\"data row4 col4\" >1.000000</td>\n",
              "                        <td id=\"T_8896a258_3e24_11eb_bb50_0242ac1c0002row4_col5\" class=\"data row4 col5\" >0.088701</td>\n",
              "                        <td id=\"T_8896a258_3e24_11eb_bb50_0242ac1c0002row4_col6\" class=\"data row4 col6\" >-0.086442</td>\n",
              "                        <td id=\"T_8896a258_3e24_11eb_bb50_0242ac1c0002row4_col7\" class=\"data row4 col7\" >-0.056859</td>\n",
              "                        <td id=\"T_8896a258_3e24_11eb_bb50_0242ac1c0002row4_col8\" class=\"data row4 col8\" >-0.160742</td>\n",
              "                        <td id=\"T_8896a258_3e24_11eb_bb50_0242ac1c0002row4_col9\" class=\"data row4 col9\" >0.234117</td>\n",
              "                        <td id=\"T_8896a258_3e24_11eb_bb50_0242ac1c0002row4_col10\" class=\"data row4 col10\" >-0.025673</td>\n",
              "                        <td id=\"T_8896a258_3e24_11eb_bb50_0242ac1c0002row4_col11\" class=\"data row4 col11\" >-0.083569</td>\n",
              "                        <td id=\"T_8896a258_3e24_11eb_bb50_0242ac1c0002row4_col12\" class=\"data row4 col12\" >0.062011</td>\n",
              "                        <td id=\"T_8896a258_3e24_11eb_bb50_0242ac1c0002row4_col13\" class=\"data row4 col13\" >0.137072</td>\n",
              "                        <td id=\"T_8896a258_3e24_11eb_bb50_0242ac1c0002row4_col14\" class=\"data row4 col14\" >-0.036449</td>\n",
              "                        <td id=\"T_8896a258_3e24_11eb_bb50_0242ac1c0002row4_col15\" class=\"data row4 col15\" >-0.070189</td>\n",
              "                        <td id=\"T_8896a258_3e24_11eb_bb50_0242ac1c0002row4_col16\" class=\"data row4 col16\" >-0.011910</td>\n",
              "                        <td id=\"T_8896a258_3e24_11eb_bb50_0242ac1c0002row4_col17\" class=\"data row4 col17\" >-0.127716</td>\n",
              "                        <td id=\"T_8896a258_3e24_11eb_bb50_0242ac1c0002row4_col18\" class=\"data row4 col18\" >-0.048341</td>\n",
              "                        <td id=\"T_8896a258_3e24_11eb_bb50_0242ac1c0002row4_col19\" class=\"data row4 col19\" >-0.016890</td>\n",
              "            </tr>\n",
              "            <tr>\n",
              "                        <th id=\"T_8896a258_3e24_11eb_bb50_0242ac1c0002level0_row5\" class=\"row_heading level0 row5\" >Comedy</th>\n",
              "                        <td id=\"T_8896a258_3e24_11eb_bb50_0242ac1c0002row5_col0\" class=\"data row5 col0\" >-0.046878</td>\n",
              "                        <td id=\"T_8896a258_3e24_11eb_bb50_0242ac1c0002row5_col1\" class=\"data row5 col1\" >-0.148968</td>\n",
              "                        <td id=\"T_8896a258_3e24_11eb_bb50_0242ac1c0002row5_col2\" class=\"data row5 col2\" >-0.055215</td>\n",
              "                        <td id=\"T_8896a258_3e24_11eb_bb50_0242ac1c0002row5_col3\" class=\"data row5 col3\" >0.029079</td>\n",
              "                        <td id=\"T_8896a258_3e24_11eb_bb50_0242ac1c0002row5_col4\" class=\"data row5 col4\" >0.088701</td>\n",
              "                        <td id=\"T_8896a258_3e24_11eb_bb50_0242ac1c0002row5_col5\" class=\"data row5 col5\" >1.000000</td>\n",
              "                        <td id=\"T_8896a258_3e24_11eb_bb50_0242ac1c0002row5_col6\" class=\"data row5 col6\" >-0.075282</td>\n",
              "                        <td id=\"T_8896a258_3e24_11eb_bb50_0242ac1c0002row5_col7\" class=\"data row5 col7\" >-0.131657</td>\n",
              "                        <td id=\"T_8896a258_3e24_11eb_bb50_0242ac1c0002row5_col8\" class=\"data row5 col8\" >-0.283472</td>\n",
              "                        <td id=\"T_8896a258_3e24_11eb_bb50_0242ac1c0002row5_col9\" class=\"data row5 col9\" >-0.005708</td>\n",
              "                        <td id=\"T_8896a258_3e24_11eb_bb50_0242ac1c0002row5_col10\" class=\"data row5 col10\" >-0.070710</td>\n",
              "                        <td id=\"T_8896a258_3e24_11eb_bb50_0242ac1c0002row5_col11\" class=\"data row5 col11\" >-0.133382</td>\n",
              "                        <td id=\"T_8896a258_3e24_11eb_bb50_0242ac1c0002row5_col12\" class=\"data row5 col12\" >-0.056627</td>\n",
              "                        <td id=\"T_8896a258_3e24_11eb_bb50_0242ac1c0002row5_col13\" class=\"data row5 col13\" >0.045466</td>\n",
              "                        <td id=\"T_8896a258_3e24_11eb_bb50_0242ac1c0002row5_col14\" class=\"data row5 col14\" >-0.127209</td>\n",
              "                        <td id=\"T_8896a258_3e24_11eb_bb50_0242ac1c0002row5_col15\" class=\"data row5 col15\" >0.153088</td>\n",
              "                        <td id=\"T_8896a258_3e24_11eb_bb50_0242ac1c0002row5_col16\" class=\"data row5 col16\" >-0.132400</td>\n",
              "                        <td id=\"T_8896a258_3e24_11eb_bb50_0242ac1c0002row5_col17\" class=\"data row5 col17\" >-0.286289</td>\n",
              "                        <td id=\"T_8896a258_3e24_11eb_bb50_0242ac1c0002row5_col18\" class=\"data row5 col18\" >-0.095919</td>\n",
              "                        <td id=\"T_8896a258_3e24_11eb_bb50_0242ac1c0002row5_col19\" class=\"data row5 col19\" >-0.039622</td>\n",
              "            </tr>\n",
              "            <tr>\n",
              "                        <th id=\"T_8896a258_3e24_11eb_bb50_0242ac1c0002level0_row6\" class=\"row_heading level0 row6\" >Crime</th>\n",
              "                        <td id=\"T_8896a258_3e24_11eb_bb50_0242ac1c0002row6_col0\" class=\"data row6 col0\" >-0.022171</td>\n",
              "                        <td id=\"T_8896a258_3e24_11eb_bb50_0242ac1c0002row6_col1\" class=\"data row6 col1\" >0.154471</td>\n",
              "                        <td id=\"T_8896a258_3e24_11eb_bb50_0242ac1c0002row6_col2\" class=\"data row6 col2\" >-0.085988</td>\n",
              "                        <td id=\"T_8896a258_3e24_11eb_bb50_0242ac1c0002row6_col3\" class=\"data row6 col3\" >-0.069847</td>\n",
              "                        <td id=\"T_8896a258_3e24_11eb_bb50_0242ac1c0002row6_col4\" class=\"data row6 col4\" >-0.086442</td>\n",
              "                        <td id=\"T_8896a258_3e24_11eb_bb50_0242ac1c0002row6_col5\" class=\"data row6 col5\" >-0.075282</td>\n",
              "                        <td id=\"T_8896a258_3e24_11eb_bb50_0242ac1c0002row6_col6\" class=\"data row6 col6\" >1.000000</td>\n",
              "                        <td id=\"T_8896a258_3e24_11eb_bb50_0242ac1c0002row6_col7\" class=\"data row6 col7\" >-0.073955</td>\n",
              "                        <td id=\"T_8896a258_3e24_11eb_bb50_0242ac1c0002row6_col8\" class=\"data row6 col8\" >0.063005</td>\n",
              "                        <td id=\"T_8896a258_3e24_11eb_bb50_0242ac1c0002row6_col9\" class=\"data row6 col9\" >-0.086254</td>\n",
              "                        <td id=\"T_8896a258_3e24_11eb_bb50_0242ac1c0002row6_col10\" class=\"data row6 col10\" >0.137141</td>\n",
              "                        <td id=\"T_8896a258_3e24_11eb_bb50_0242ac1c0002row6_col11\" class=\"data row6 col11\" >-0.063805</td>\n",
              "                        <td id=\"T_8896a258_3e24_11eb_bb50_0242ac1c0002row6_col12\" class=\"data row6 col12\" >-0.020892</td>\n",
              "                        <td id=\"T_8896a258_3e24_11eb_bb50_0242ac1c0002row6_col13\" class=\"data row6 col13\" >-0.056850</td>\n",
              "                        <td id=\"T_8896a258_3e24_11eb_bb50_0242ac1c0002row6_col14\" class=\"data row6 col14\" >0.124138</td>\n",
              "                        <td id=\"T_8896a258_3e24_11eb_bb50_0242ac1c0002row6_col15\" class=\"data row6 col15\" >-0.097444</td>\n",
              "                        <td id=\"T_8896a258_3e24_11eb_bb50_0242ac1c0002row6_col16\" class=\"data row6 col16\" >-0.095166</td>\n",
              "                        <td id=\"T_8896a258_3e24_11eb_bb50_0242ac1c0002row6_col17\" class=\"data row6 col17\" >0.265196</td>\n",
              "                        <td id=\"T_8896a258_3e24_11eb_bb50_0242ac1c0002row6_col18\" class=\"data row6 col18\" >-0.059585</td>\n",
              "                        <td id=\"T_8896a258_3e24_11eb_bb50_0242ac1c0002row6_col19\" class=\"data row6 col19\" >-0.022997</td>\n",
              "            </tr>\n",
              "            <tr>\n",
              "                        <th id=\"T_8896a258_3e24_11eb_bb50_0242ac1c0002level0_row7\" class=\"row_heading level0 row7\" >Documentary</th>\n",
              "                        <td id=\"T_8896a258_3e24_11eb_bb50_0242ac1c0002row7_col0\" class=\"data row7 col0\" >-0.012871</td>\n",
              "                        <td id=\"T_8896a258_3e24_11eb_bb50_0242ac1c0002row7_col1\" class=\"data row7 col1\" >-0.099463</td>\n",
              "                        <td id=\"T_8896a258_3e24_11eb_bb50_0242ac1c0002row7_col2\" class=\"data row7 col2\" >-0.075111</td>\n",
              "                        <td id=\"T_8896a258_3e24_11eb_bb50_0242ac1c0002row7_col3\" class=\"data row7 col3\" >-0.050144</td>\n",
              "                        <td id=\"T_8896a258_3e24_11eb_bb50_0242ac1c0002row7_col4\" class=\"data row7 col4\" >-0.056859</td>\n",
              "                        <td id=\"T_8896a258_3e24_11eb_bb50_0242ac1c0002row7_col5\" class=\"data row7 col5\" >-0.131657</td>\n",
              "                        <td id=\"T_8896a258_3e24_11eb_bb50_0242ac1c0002row7_col6\" class=\"data row7 col6\" >-0.073955</td>\n",
              "                        <td id=\"T_8896a258_3e24_11eb_bb50_0242ac1c0002row7_col7\" class=\"data row7 col7\" >1.000000</td>\n",
              "                        <td id=\"T_8896a258_3e24_11eb_bb50_0242ac1c0002row7_col8\" class=\"data row7 col8\" >-0.173925</td>\n",
              "                        <td id=\"T_8896a258_3e24_11eb_bb50_0242ac1c0002row7_col9\" class=\"data row7 col9\" >-0.060473</td>\n",
              "                        <td id=\"T_8896a258_3e24_11eb_bb50_0242ac1c0002row7_col10\" class=\"data row7 col10\" >-0.020645</td>\n",
              "                        <td id=\"T_8896a258_3e24_11eb_bb50_0242ac1c0002row7_col11\" class=\"data row7 col11\" >-0.069364</td>\n",
              "                        <td id=\"T_8896a258_3e24_11eb_bb50_0242ac1c0002row7_col12\" class=\"data row7 col12\" >0.003381</td>\n",
              "                        <td id=\"T_8896a258_3e24_11eb_bb50_0242ac1c0002row7_col13\" class=\"data row7 col13\" >-0.005664</td>\n",
              "                        <td id=\"T_8896a258_3e24_11eb_bb50_0242ac1c0002row7_col14\" class=\"data row7 col14\" >-0.050168</td>\n",
              "                        <td id=\"T_8896a258_3e24_11eb_bb50_0242ac1c0002row7_col15\" class=\"data row7 col15\" >-0.093597</td>\n",
              "                        <td id=\"T_8896a258_3e24_11eb_bb50_0242ac1c0002row7_col16\" class=\"data row7 col16\" >-0.072736</td>\n",
              "                        <td id=\"T_8896a258_3e24_11eb_bb50_0242ac1c0002row7_col17\" class=\"data row7 col17\" >-0.104346</td>\n",
              "                        <td id=\"T_8896a258_3e24_11eb_bb50_0242ac1c0002row7_col18\" class=\"data row7 col18\" >-0.013378</td>\n",
              "                        <td id=\"T_8896a258_3e24_11eb_bb50_0242ac1c0002row7_col19\" class=\"data row7 col19\" >-0.024915</td>\n",
              "            </tr>\n",
              "            <tr>\n",
              "                        <th id=\"T_8896a258_3e24_11eb_bb50_0242ac1c0002level0_row8\" class=\"row_heading level0 row8\" >Drama</th>\n",
              "                        <td id=\"T_8896a258_3e24_11eb_bb50_0242ac1c0002row8_col0\" class=\"data row8 col0\" >-0.053277</td>\n",
              "                        <td id=\"T_8896a258_3e24_11eb_bb50_0242ac1c0002row8_col1\" class=\"data row8 col1\" >-0.152964</td>\n",
              "                        <td id=\"T_8896a258_3e24_11eb_bb50_0242ac1c0002row8_col2\" class=\"data row8 col2\" >-0.156327</td>\n",
              "                        <td id=\"T_8896a258_3e24_11eb_bb50_0242ac1c0002row8_col3\" class=\"data row8 col3\" >-0.160504</td>\n",
              "                        <td id=\"T_8896a258_3e24_11eb_bb50_0242ac1c0002row8_col4\" class=\"data row8 col4\" >-0.160742</td>\n",
              "                        <td id=\"T_8896a258_3e24_11eb_bb50_0242ac1c0002row8_col5\" class=\"data row8 col5\" >-0.283472</td>\n",
              "                        <td id=\"T_8896a258_3e24_11eb_bb50_0242ac1c0002row8_col6\" class=\"data row8 col6\" >0.063005</td>\n",
              "                        <td id=\"T_8896a258_3e24_11eb_bb50_0242ac1c0002row8_col7\" class=\"data row8 col7\" >-0.173925</td>\n",
              "                        <td id=\"T_8896a258_3e24_11eb_bb50_0242ac1c0002row8_col8\" class=\"data row8 col8\" >1.000000</td>\n",
              "                        <td id=\"T_8896a258_3e24_11eb_bb50_0242ac1c0002row8_col9\" class=\"data row8 col9\" >-0.106337</td>\n",
              "                        <td id=\"T_8896a258_3e24_11eb_bb50_0242ac1c0002row8_col10\" class=\"data row8 col10\" >0.024256</td>\n",
              "                        <td id=\"T_8896a258_3e24_11eb_bb50_0242ac1c0002row8_col11\" class=\"data row8 col11\" >-0.187391</td>\n",
              "                        <td id=\"T_8896a258_3e24_11eb_bb50_0242ac1c0002row8_col12\" class=\"data row8 col12\" >-0.063293</td>\n",
              "                        <td id=\"T_8896a258_3e24_11eb_bb50_0242ac1c0002row8_col13\" class=\"data row8 col13\" >-0.038022</td>\n",
              "                        <td id=\"T_8896a258_3e24_11eb_bb50_0242ac1c0002row8_col14\" class=\"data row8 col14\" >0.027635</td>\n",
              "                        <td id=\"T_8896a258_3e24_11eb_bb50_0242ac1c0002row8_col15\" class=\"data row8 col15\" >0.122454</td>\n",
              "                        <td id=\"T_8896a258_3e24_11eb_bb50_0242ac1c0002row8_col16\" class=\"data row8 col16\" >-0.158325</td>\n",
              "                        <td id=\"T_8896a258_3e24_11eb_bb50_0242ac1c0002row8_col17\" class=\"data row8 col17\" >-0.008267</td>\n",
              "                        <td id=\"T_8896a258_3e24_11eb_bb50_0242ac1c0002row8_col18\" class=\"data row8 col18\" >0.135067</td>\n",
              "                        <td id=\"T_8896a258_3e24_11eb_bb50_0242ac1c0002row8_col19\" class=\"data row8 col19\" >-0.025060</td>\n",
              "            </tr>\n",
              "            <tr>\n",
              "                        <th id=\"T_8896a258_3e24_11eb_bb50_0242ac1c0002level0_row9\" class=\"row_heading level0 row9\" >Fantasy</th>\n",
              "                        <td id=\"T_8896a258_3e24_11eb_bb50_0242ac1c0002row9_col0\" class=\"data row9 col0\" >-0.017447</td>\n",
              "                        <td id=\"T_8896a258_3e24_11eb_bb50_0242ac1c0002row9_col1\" class=\"data row9 col1\" >0.059931</td>\n",
              "                        <td id=\"T_8896a258_3e24_11eb_bb50_0242ac1c0002row9_col2\" class=\"data row9 col2\" >0.262511</td>\n",
              "                        <td id=\"T_8896a258_3e24_11eb_bb50_0242ac1c0002row9_col3\" class=\"data row9 col3\" >0.196895</td>\n",
              "                        <td id=\"T_8896a258_3e24_11eb_bb50_0242ac1c0002row9_col4\" class=\"data row9 col4\" >0.234117</td>\n",
              "                        <td id=\"T_8896a258_3e24_11eb_bb50_0242ac1c0002row9_col5\" class=\"data row9 col5\" >-0.005708</td>\n",
              "                        <td id=\"T_8896a258_3e24_11eb_bb50_0242ac1c0002row9_col6\" class=\"data row9 col6\" >-0.086254</td>\n",
              "                        <td id=\"T_8896a258_3e24_11eb_bb50_0242ac1c0002row9_col7\" class=\"data row9 col7\" >-0.060473</td>\n",
              "                        <td id=\"T_8896a258_3e24_11eb_bb50_0242ac1c0002row9_col8\" class=\"data row9 col8\" >-0.106337</td>\n",
              "                        <td id=\"T_8896a258_3e24_11eb_bb50_0242ac1c0002row9_col9\" class=\"data row9 col9\" >1.000000</td>\n",
              "                        <td id=\"T_8896a258_3e24_11eb_bb50_0242ac1c0002row9_col10\" class=\"data row9 col10\" >-0.023962</td>\n",
              "                        <td id=\"T_8896a258_3e24_11eb_bb50_0242ac1c0002row9_col11\" class=\"data row9 col11\" >0.012336</td>\n",
              "                        <td id=\"T_8896a258_3e24_11eb_bb50_0242ac1c0002row9_col12\" class=\"data row9 col12\" >0.102962</td>\n",
              "                        <td id=\"T_8896a258_3e24_11eb_bb50_0242ac1c0002row9_col13\" class=\"data row9 col13\" >0.050524</td>\n",
              "                        <td id=\"T_8896a258_3e24_11eb_bb50_0242ac1c0002row9_col14\" class=\"data row9 col14\" >0.014768</td>\n",
              "                        <td id=\"T_8896a258_3e24_11eb_bb50_0242ac1c0002row9_col15\" class=\"data row9 col15\" >-0.000635</td>\n",
              "                        <td id=\"T_8896a258_3e24_11eb_bb50_0242ac1c0002row9_col16\" class=\"data row9 col16\" >0.046094</td>\n",
              "                        <td id=\"T_8896a258_3e24_11eb_bb50_0242ac1c0002row9_col17\" class=\"data row9 col17\" >-0.057807</td>\n",
              "                        <td id=\"T_8896a258_3e24_11eb_bb50_0242ac1c0002row9_col18\" class=\"data row9 col18\" >-0.043959</td>\n",
              "                        <td id=\"T_8896a258_3e24_11eb_bb50_0242ac1c0002row9_col19\" class=\"data row9 col19\" >-0.021441</td>\n",
              "            </tr>\n",
              "            <tr>\n",
              "                        <th id=\"T_8896a258_3e24_11eb_bb50_0242ac1c0002level0_row10\" class=\"row_heading level0 row10\" >Film-Noir</th>\n",
              "                        <td id=\"T_8896a258_3e24_11eb_bb50_0242ac1c0002row10_col0\" class=\"data row10 col0\" >-0.005618</td>\n",
              "                        <td id=\"T_8896a258_3e24_11eb_bb50_0242ac1c0002row10_col1\" class=\"data row10 col1\" >-0.031649</td>\n",
              "                        <td id=\"T_8896a258_3e24_11eb_bb50_0242ac1c0002row10_col2\" class=\"data row10 col2\" >-0.030140</td>\n",
              "                        <td id=\"T_8896a258_3e24_11eb_bb50_0242ac1c0002row10_col3\" class=\"data row10 col3\" >-0.015555</td>\n",
              "                        <td id=\"T_8896a258_3e24_11eb_bb50_0242ac1c0002row10_col4\" class=\"data row10 col4\" >-0.025673</td>\n",
              "                        <td id=\"T_8896a258_3e24_11eb_bb50_0242ac1c0002row10_col5\" class=\"data row10 col5\" >-0.070710</td>\n",
              "                        <td id=\"T_8896a258_3e24_11eb_bb50_0242ac1c0002row10_col6\" class=\"data row10 col6\" >0.137141</td>\n",
              "                        <td id=\"T_8896a258_3e24_11eb_bb50_0242ac1c0002row10_col7\" class=\"data row10 col7\" >-0.020645</td>\n",
              "                        <td id=\"T_8896a258_3e24_11eb_bb50_0242ac1c0002row10_col8\" class=\"data row10 col8\" >0.024256</td>\n",
              "                        <td id=\"T_8896a258_3e24_11eb_bb50_0242ac1c0002row10_col9\" class=\"data row10 col9\" >-0.023962</td>\n",
              "                        <td id=\"T_8896a258_3e24_11eb_bb50_0242ac1c0002row10_col10\" class=\"data row10 col10\" >1.000000</td>\n",
              "                        <td id=\"T_8896a258_3e24_11eb_bb50_0242ac1c0002row10_col11\" class=\"data row10 col11\" >-0.024449</td>\n",
              "                        <td id=\"T_8896a258_3e24_11eb_bb50_0242ac1c0002row10_col12\" class=\"data row10 col12\" >-0.012188</td>\n",
              "                        <td id=\"T_8896a258_3e24_11eb_bb50_0242ac1c0002row10_col13\" class=\"data row10 col13\" >-0.017886</td>\n",
              "                        <td id=\"T_8896a258_3e24_11eb_bb50_0242ac1c0002row10_col14\" class=\"data row10 col14\" >0.087567</td>\n",
              "                        <td id=\"T_8896a258_3e24_11eb_bb50_0242ac1c0002row10_col15\" class=\"data row10 col15\" >-0.018433</td>\n",
              "                        <td id=\"T_8896a258_3e24_11eb_bb50_0242ac1c0002row10_col16\" class=\"data row10 col16\" >-0.020864</td>\n",
              "                        <td id=\"T_8896a258_3e24_11eb_bb50_0242ac1c0002row10_col17\" class=\"data row10 col17\" >0.066406</td>\n",
              "                        <td id=\"T_8896a258_3e24_11eb_bb50_0242ac1c0002row10_col18\" class=\"data row10 col18\" >-0.019177</td>\n",
              "                        <td id=\"T_8896a258_3e24_11eb_bb50_0242ac1c0002row10_col19\" class=\"data row10 col19\" >-0.004130</td>\n",
              "            </tr>\n",
              "            <tr>\n",
              "                        <th id=\"T_8896a258_3e24_11eb_bb50_0242ac1c0002level0_row11\" class=\"row_heading level0 row11\" >Horror</th>\n",
              "                        <td id=\"T_8896a258_3e24_11eb_bb50_0242ac1c0002row11_col0\" class=\"data row11 col0\" >-0.019769</td>\n",
              "                        <td id=\"T_8896a258_3e24_11eb_bb50_0242ac1c0002row11_col1\" class=\"data row11 col1\" >-0.035443</td>\n",
              "                        <td id=\"T_8896a258_3e24_11eb_bb50_0242ac1c0002row11_col2\" class=\"data row11 col2\" >-0.098423</td>\n",
              "                        <td id=\"T_8896a258_3e24_11eb_bb50_0242ac1c0002row11_col3\" class=\"data row11 col3\" >-0.062464</td>\n",
              "                        <td id=\"T_8896a258_3e24_11eb_bb50_0242ac1c0002row11_col4\" class=\"data row11 col4\" >-0.083569</td>\n",
              "                        <td id=\"T_8896a258_3e24_11eb_bb50_0242ac1c0002row11_col5\" class=\"data row11 col5\" >-0.133382</td>\n",
              "                        <td id=\"T_8896a258_3e24_11eb_bb50_0242ac1c0002row11_col6\" class=\"data row11 col6\" >-0.063805</td>\n",
              "                        <td id=\"T_8896a258_3e24_11eb_bb50_0242ac1c0002row11_col7\" class=\"data row11 col7\" >-0.069364</td>\n",
              "                        <td id=\"T_8896a258_3e24_11eb_bb50_0242ac1c0002row11_col8\" class=\"data row11 col8\" >-0.187391</td>\n",
              "                        <td id=\"T_8896a258_3e24_11eb_bb50_0242ac1c0002row11_col9\" class=\"data row11 col9\" >0.012336</td>\n",
              "                        <td id=\"T_8896a258_3e24_11eb_bb50_0242ac1c0002row11_col10\" class=\"data row11 col10\" >-0.024449</td>\n",
              "                        <td id=\"T_8896a258_3e24_11eb_bb50_0242ac1c0002row11_col11\" class=\"data row11 col11\" >1.000000</td>\n",
              "                        <td id=\"T_8896a258_3e24_11eb_bb50_0242ac1c0002row11_col12\" class=\"data row11 col12\" >-0.010442</td>\n",
              "                        <td id=\"T_8896a258_3e24_11eb_bb50_0242ac1c0002row11_col13\" class=\"data row11 col13\" >-0.049802</td>\n",
              "                        <td id=\"T_8896a258_3e24_11eb_bb50_0242ac1c0002row11_col14\" class=\"data row11 col14\" >0.109572</td>\n",
              "                        <td id=\"T_8896a258_3e24_11eb_bb50_0242ac1c0002row11_col15\" class=\"data row11 col15\" >-0.125715</td>\n",
              "                        <td id=\"T_8896a258_3e24_11eb_bb50_0242ac1c0002row11_col16\" class=\"data row11 col16\" >0.123343</td>\n",
              "                        <td id=\"T_8896a258_3e24_11eb_bb50_0242ac1c0002row11_col17\" class=\"data row11 col17\" >0.232052</td>\n",
              "                        <td id=\"T_8896a258_3e24_11eb_bb50_0242ac1c0002row11_col18\" class=\"data row11 col18\" >-0.062206</td>\n",
              "                        <td id=\"T_8896a258_3e24_11eb_bb50_0242ac1c0002row11_col19\" class=\"data row11 col19\" >-0.023065</td>\n",
              "            </tr>\n",
              "            <tr>\n",
              "                        <th id=\"T_8896a258_3e24_11eb_bb50_0242ac1c0002level0_row12\" class=\"row_heading level0 row12\" >IMAX</th>\n",
              "                        <td id=\"T_8896a258_3e24_11eb_bb50_0242ac1c0002row12_col0\" class=\"data row12 col0\" >-0.007599</td>\n",
              "                        <td id=\"T_8896a258_3e24_11eb_bb50_0242ac1c0002row12_col1\" class=\"data row12 col1\" >0.131864</td>\n",
              "                        <td id=\"T_8896a258_3e24_11eb_bb50_0242ac1c0002row12_col2\" class=\"data row12 col2\" >0.143982</td>\n",
              "                        <td id=\"T_8896a258_3e24_11eb_bb50_0242ac1c0002row12_col3\" class=\"data row12 col3\" >0.080744</td>\n",
              "                        <td id=\"T_8896a258_3e24_11eb_bb50_0242ac1c0002row12_col4\" class=\"data row12 col4\" >0.062011</td>\n",
              "                        <td id=\"T_8896a258_3e24_11eb_bb50_0242ac1c0002row12_col5\" class=\"data row12 col5\" >-0.056627</td>\n",
              "                        <td id=\"T_8896a258_3e24_11eb_bb50_0242ac1c0002row12_col6\" class=\"data row12 col6\" >-0.020892</td>\n",
              "                        <td id=\"T_8896a258_3e24_11eb_bb50_0242ac1c0002row12_col7\" class=\"data row12 col7\" >0.003381</td>\n",
              "                        <td id=\"T_8896a258_3e24_11eb_bb50_0242ac1c0002row12_col8\" class=\"data row12 col8\" >-0.063293</td>\n",
              "                        <td id=\"T_8896a258_3e24_11eb_bb50_0242ac1c0002row12_col9\" class=\"data row12 col9\" >0.102962</td>\n",
              "                        <td id=\"T_8896a258_3e24_11eb_bb50_0242ac1c0002row12_col10\" class=\"data row12 col10\" >-0.012188</td>\n",
              "                        <td id=\"T_8896a258_3e24_11eb_bb50_0242ac1c0002row12_col11\" class=\"data row12 col11\" >-0.010442</td>\n",
              "                        <td id=\"T_8896a258_3e24_11eb_bb50_0242ac1c0002row12_col12\" class=\"data row12 col12\" >1.000000</td>\n",
              "                        <td id=\"T_8896a258_3e24_11eb_bb50_0242ac1c0002row12_col13\" class=\"data row12 col13\" >0.011536</td>\n",
              "                        <td id=\"T_8896a258_3e24_11eb_bb50_0242ac1c0002row12_col14\" class=\"data row12 col14\" >-0.011374</td>\n",
              "                        <td id=\"T_8896a258_3e24_11eb_bb50_0242ac1c0002row12_col15\" class=\"data row12 col15\" >-0.037072</td>\n",
              "                        <td id=\"T_8896a258_3e24_11eb_bb50_0242ac1c0002row12_col16\" class=\"data row12 col16\" >0.124563</td>\n",
              "                        <td id=\"T_8896a258_3e24_11eb_bb50_0242ac1c0002row12_col17\" class=\"data row12 col17\" >0.008793</td>\n",
              "                        <td id=\"T_8896a258_3e24_11eb_bb50_0242ac1c0002row12_col18\" class=\"data row12 col18\" >-0.009192</td>\n",
              "                        <td id=\"T_8896a258_3e24_11eb_bb50_0242ac1c0002row12_col19\" class=\"data row12 col19\" >-0.004436</td>\n",
              "            </tr>\n",
              "            <tr>\n",
              "                        <th id=\"T_8896a258_3e24_11eb_bb50_0242ac1c0002level0_row13\" class=\"row_heading level0 row13\" >Musical</th>\n",
              "                        <td id=\"T_8896a258_3e24_11eb_bb50_0242ac1c0002row13_col0\" class=\"data row13 col0\" >-0.011151</td>\n",
              "                        <td id=\"T_8896a258_3e24_11eb_bb50_0242ac1c0002row13_col1\" class=\"data row13 col1\" >-0.083331</td>\n",
              "                        <td id=\"T_8896a258_3e24_11eb_bb50_0242ac1c0002row13_col2\" class=\"data row13 col2\" >-0.005544</td>\n",
              "                        <td id=\"T_8896a258_3e24_11eb_bb50_0242ac1c0002row13_col3\" class=\"data row13 col3\" >0.111804</td>\n",
              "                        <td id=\"T_8896a258_3e24_11eb_bb50_0242ac1c0002row13_col4\" class=\"data row13 col4\" >0.137072</td>\n",
              "                        <td id=\"T_8896a258_3e24_11eb_bb50_0242ac1c0002row13_col5\" class=\"data row13 col5\" >0.045466</td>\n",
              "                        <td id=\"T_8896a258_3e24_11eb_bb50_0242ac1c0002row13_col6\" class=\"data row13 col6\" >-0.056850</td>\n",
              "                        <td id=\"T_8896a258_3e24_11eb_bb50_0242ac1c0002row13_col7\" class=\"data row13 col7\" >-0.005664</td>\n",
              "                        <td id=\"T_8896a258_3e24_11eb_bb50_0242ac1c0002row13_col8\" class=\"data row13 col8\" >-0.038022</td>\n",
              "                        <td id=\"T_8896a258_3e24_11eb_bb50_0242ac1c0002row13_col9\" class=\"data row13 col9\" >0.050524</td>\n",
              "                        <td id=\"T_8896a258_3e24_11eb_bb50_0242ac1c0002row13_col10\" class=\"data row13 col10\" >-0.017886</td>\n",
              "                        <td id=\"T_8896a258_3e24_11eb_bb50_0242ac1c0002row13_col11\" class=\"data row13 col11\" >-0.049802</td>\n",
              "                        <td id=\"T_8896a258_3e24_11eb_bb50_0242ac1c0002row13_col12\" class=\"data row13 col12\" >0.011536</td>\n",
              "                        <td id=\"T_8896a258_3e24_11eb_bb50_0242ac1c0002row13_col13\" class=\"data row13 col13\" >1.000000</td>\n",
              "                        <td id=\"T_8896a258_3e24_11eb_bb50_0242ac1c0002row13_col14\" class=\"data row13 col14\" >-0.035114</td>\n",
              "                        <td id=\"T_8896a258_3e24_11eb_bb50_0242ac1c0002row13_col15\" class=\"data row13 col15\" >0.062921</td>\n",
              "                        <td id=\"T_8896a258_3e24_11eb_bb50_0242ac1c0002row13_col16\" class=\"data row13 col16\" >-0.048010</td>\n",
              "                        <td id=\"T_8896a258_3e24_11eb_bb50_0242ac1c0002row13_col17\" class=\"data row13 col17\" >-0.088286</td>\n",
              "                        <td id=\"T_8896a258_3e24_11eb_bb50_0242ac1c0002row13_col18\" class=\"data row13 col18\" >-0.032252</td>\n",
              "                        <td id=\"T_8896a258_3e24_11eb_bb50_0242ac1c0002row13_col19\" class=\"data row13 col19\" >0.018577</td>\n",
              "            </tr>\n",
              "            <tr>\n",
              "                        <th id=\"T_8896a258_3e24_11eb_bb50_0242ac1c0002level0_row14\" class=\"row_heading level0 row14\" >Mystery</th>\n",
              "                        <td id=\"T_8896a258_3e24_11eb_bb50_0242ac1c0002row14_col0\" class=\"data row14 col0\" >-0.014794</td>\n",
              "                        <td id=\"T_8896a258_3e24_11eb_bb50_0242ac1c0002row14_col1\" class=\"data row14 col1\" >-0.028515</td>\n",
              "                        <td id=\"T_8896a258_3e24_11eb_bb50_0242ac1c0002row14_col2\" class=\"data row14 col2\" >-0.048427</td>\n",
              "                        <td id=\"T_8896a258_3e24_11eb_bb50_0242ac1c0002row14_col3\" class=\"data row14 col3\" >-0.030477</td>\n",
              "                        <td id=\"T_8896a258_3e24_11eb_bb50_0242ac1c0002row14_col4\" class=\"data row14 col4\" >-0.036449</td>\n",
              "                        <td id=\"T_8896a258_3e24_11eb_bb50_0242ac1c0002row14_col5\" class=\"data row14 col5\" >-0.127209</td>\n",
              "                        <td id=\"T_8896a258_3e24_11eb_bb50_0242ac1c0002row14_col6\" class=\"data row14 col6\" >0.124138</td>\n",
              "                        <td id=\"T_8896a258_3e24_11eb_bb50_0242ac1c0002row14_col7\" class=\"data row14 col7\" >-0.050168</td>\n",
              "                        <td id=\"T_8896a258_3e24_11eb_bb50_0242ac1c0002row14_col8\" class=\"data row14 col8\" >0.027635</td>\n",
              "                        <td id=\"T_8896a258_3e24_11eb_bb50_0242ac1c0002row14_col9\" class=\"data row14 col9\" >0.014768</td>\n",
              "                        <td id=\"T_8896a258_3e24_11eb_bb50_0242ac1c0002row14_col10\" class=\"data row14 col10\" >0.087567</td>\n",
              "                        <td id=\"T_8896a258_3e24_11eb_bb50_0242ac1c0002row14_col11\" class=\"data row14 col11\" >0.109572</td>\n",
              "                        <td id=\"T_8896a258_3e24_11eb_bb50_0242ac1c0002row14_col12\" class=\"data row14 col12\" >-0.011374</td>\n",
              "                        <td id=\"T_8896a258_3e24_11eb_bb50_0242ac1c0002row14_col13\" class=\"data row14 col13\" >-0.035114</td>\n",
              "                        <td id=\"T_8896a258_3e24_11eb_bb50_0242ac1c0002row14_col14\" class=\"data row14 col14\" >1.000000</td>\n",
              "                        <td id=\"T_8896a258_3e24_11eb_bb50_0242ac1c0002row14_col15\" class=\"data row14 col15\" >-0.037570</td>\n",
              "                        <td id=\"T_8896a258_3e24_11eb_bb50_0242ac1c0002row14_col16\" class=\"data row14 col16\" >0.016475</td>\n",
              "                        <td id=\"T_8896a258_3e24_11eb_bb50_0242ac1c0002row14_col17\" class=\"data row14 col17\" >0.267443</td>\n",
              "                        <td id=\"T_8896a258_3e24_11eb_bb50_0242ac1c0002row14_col18\" class=\"data row14 col18\" >-0.043759</td>\n",
              "                        <td id=\"T_8896a258_3e24_11eb_bb50_0242ac1c0002row14_col19\" class=\"data row14 col19\" >-0.019570</td>\n",
              "            </tr>\n",
              "            <tr>\n",
              "                        <th id=\"T_8896a258_3e24_11eb_bb50_0242ac1c0002level0_row15\" class=\"row_heading level0 row15\" >Romance</th>\n",
              "                        <td id=\"T_8896a258_3e24_11eb_bb50_0242ac1c0002row15_col0\" class=\"data row15 col0\" >-0.026195</td>\n",
              "                        <td id=\"T_8896a258_3e24_11eb_bb50_0242ac1c0002row15_col1\" class=\"data row15 col1\" >-0.146670</td>\n",
              "                        <td id=\"T_8896a258_3e24_11eb_bb50_0242ac1c0002row15_col2\" class=\"data row15 col2\" >-0.072584</td>\n",
              "                        <td id=\"T_8896a258_3e24_11eb_bb50_0242ac1c0002row15_col3\" class=\"data row15 col3\" >-0.061882</td>\n",
              "                        <td id=\"T_8896a258_3e24_11eb_bb50_0242ac1c0002row15_col4\" class=\"data row15 col4\" >-0.070189</td>\n",
              "                        <td id=\"T_8896a258_3e24_11eb_bb50_0242ac1c0002row15_col5\" class=\"data row15 col5\" >0.153088</td>\n",
              "                        <td id=\"T_8896a258_3e24_11eb_bb50_0242ac1c0002row15_col6\" class=\"data row15 col6\" >-0.097444</td>\n",
              "                        <td id=\"T_8896a258_3e24_11eb_bb50_0242ac1c0002row15_col7\" class=\"data row15 col7\" >-0.093597</td>\n",
              "                        <td id=\"T_8896a258_3e24_11eb_bb50_0242ac1c0002row15_col8\" class=\"data row15 col8\" >0.122454</td>\n",
              "                        <td id=\"T_8896a258_3e24_11eb_bb50_0242ac1c0002row15_col9\" class=\"data row15 col9\" >-0.000635</td>\n",
              "                        <td id=\"T_8896a258_3e24_11eb_bb50_0242ac1c0002row15_col10\" class=\"data row15 col10\" >-0.018433</td>\n",
              "                        <td id=\"T_8896a258_3e24_11eb_bb50_0242ac1c0002row15_col11\" class=\"data row15 col11\" >-0.125715</td>\n",
              "                        <td id=\"T_8896a258_3e24_11eb_bb50_0242ac1c0002row15_col12\" class=\"data row15 col12\" >-0.037072</td>\n",
              "                        <td id=\"T_8896a258_3e24_11eb_bb50_0242ac1c0002row15_col13\" class=\"data row15 col13\" >0.062921</td>\n",
              "                        <td id=\"T_8896a258_3e24_11eb_bb50_0242ac1c0002row15_col14\" class=\"data row15 col14\" >-0.037570</td>\n",
              "                        <td id=\"T_8896a258_3e24_11eb_bb50_0242ac1c0002row15_col15\" class=\"data row15 col15\" >1.000000</td>\n",
              "                        <td id=\"T_8896a258_3e24_11eb_bb50_0242ac1c0002row15_col16\" class=\"data row15 col16\" >-0.101009</td>\n",
              "                        <td id=\"T_8896a258_3e24_11eb_bb50_0242ac1c0002row15_col17\" class=\"data row15 col17\" >-0.137557</td>\n",
              "                        <td id=\"T_8896a258_3e24_11eb_bb50_0242ac1c0002row15_col18\" class=\"data row15 col18\" >-0.012262</td>\n",
              "                        <td id=\"T_8896a258_3e24_11eb_bb50_0242ac1c0002row15_col19\" class=\"data row15 col19\" >-0.015724</td>\n",
              "            </tr>\n",
              "            <tr>\n",
              "                        <th id=\"T_8896a258_3e24_11eb_bb50_0242ac1c0002level0_row16\" class=\"row_heading level0 row16\" >Sci-Fi</th>\n",
              "                        <td id=\"T_8896a258_3e24_11eb_bb50_0242ac1c0002row16_col0\" class=\"data row16 col0\" >-0.019792</td>\n",
              "                        <td id=\"T_8896a258_3e24_11eb_bb50_0242ac1c0002row16_col1\" class=\"data row16 col1\" >0.233475</td>\n",
              "                        <td id=\"T_8896a258_3e24_11eb_bb50_0242ac1c0002row16_col2\" class=\"data row16 col2\" >0.181797</td>\n",
              "                        <td id=\"T_8896a258_3e24_11eb_bb50_0242ac1c0002row16_col3\" class=\"data row16 col3\" >0.064093</td>\n",
              "                        <td id=\"T_8896a258_3e24_11eb_bb50_0242ac1c0002row16_col4\" class=\"data row16 col4\" >-0.011910</td>\n",
              "                        <td id=\"T_8896a258_3e24_11eb_bb50_0242ac1c0002row16_col5\" class=\"data row16 col5\" >-0.132400</td>\n",
              "                        <td id=\"T_8896a258_3e24_11eb_bb50_0242ac1c0002row16_col6\" class=\"data row16 col6\" >-0.095166</td>\n",
              "                        <td id=\"T_8896a258_3e24_11eb_bb50_0242ac1c0002row16_col7\" class=\"data row16 col7\" >-0.072736</td>\n",
              "                        <td id=\"T_8896a258_3e24_11eb_bb50_0242ac1c0002row16_col8\" class=\"data row16 col8\" >-0.158325</td>\n",
              "                        <td id=\"T_8896a258_3e24_11eb_bb50_0242ac1c0002row16_col9\" class=\"data row16 col9\" >0.046094</td>\n",
              "                        <td id=\"T_8896a258_3e24_11eb_bb50_0242ac1c0002row16_col10\" class=\"data row16 col10\" >-0.020864</td>\n",
              "                        <td id=\"T_8896a258_3e24_11eb_bb50_0242ac1c0002row16_col11\" class=\"data row16 col11\" >0.123343</td>\n",
              "                        <td id=\"T_8896a258_3e24_11eb_bb50_0242ac1c0002row16_col12\" class=\"data row16 col12\" >0.124563</td>\n",
              "                        <td id=\"T_8896a258_3e24_11eb_bb50_0242ac1c0002row16_col13\" class=\"data row16 col13\" >-0.048010</td>\n",
              "                        <td id=\"T_8896a258_3e24_11eb_bb50_0242ac1c0002row16_col14\" class=\"data row16 col14\" >0.016475</td>\n",
              "                        <td id=\"T_8896a258_3e24_11eb_bb50_0242ac1c0002row16_col15\" class=\"data row16 col15\" >-0.101009</td>\n",
              "                        <td id=\"T_8896a258_3e24_11eb_bb50_0242ac1c0002row16_col16\" class=\"data row16 col16\" >1.000000</td>\n",
              "                        <td id=\"T_8896a258_3e24_11eb_bb50_0242ac1c0002row16_col17\" class=\"data row16 col17\" >0.096124</td>\n",
              "                        <td id=\"T_8896a258_3e24_11eb_bb50_0242ac1c0002row16_col18\" class=\"data row16 col18\" >-0.046464</td>\n",
              "                        <td id=\"T_8896a258_3e24_11eb_bb50_0242ac1c0002row16_col19\" class=\"data row16 col19\" >-0.023135</td>\n",
              "            </tr>\n",
              "            <tr>\n",
              "                        <th id=\"T_8896a258_3e24_11eb_bb50_0242ac1c0002level0_row17\" class=\"row_heading level0 row17\" >Thriller</th>\n",
              "                        <td id=\"T_8896a258_3e24_11eb_bb50_0242ac1c0002row17_col0\" class=\"data row17 col0\" >-0.029073</td>\n",
              "                        <td id=\"T_8896a258_3e24_11eb_bb50_0242ac1c0002row17_col1\" class=\"data row17 col1\" >0.199042</td>\n",
              "                        <td id=\"T_8896a258_3e24_11eb_bb50_0242ac1c0002row17_col2\" class=\"data row17 col2\" >-0.035942</td>\n",
              "                        <td id=\"T_8896a258_3e24_11eb_bb50_0242ac1c0002row17_col3\" class=\"data row17 col3\" >-0.107822</td>\n",
              "                        <td id=\"T_8896a258_3e24_11eb_bb50_0242ac1c0002row17_col4\" class=\"data row17 col4\" >-0.127716</td>\n",
              "                        <td id=\"T_8896a258_3e24_11eb_bb50_0242ac1c0002row17_col5\" class=\"data row17 col5\" >-0.286289</td>\n",
              "                        <td id=\"T_8896a258_3e24_11eb_bb50_0242ac1c0002row17_col6\" class=\"data row17 col6\" >0.265196</td>\n",
              "                        <td id=\"T_8896a258_3e24_11eb_bb50_0242ac1c0002row17_col7\" class=\"data row17 col7\" >-0.104346</td>\n",
              "                        <td id=\"T_8896a258_3e24_11eb_bb50_0242ac1c0002row17_col8\" class=\"data row17 col8\" >-0.008267</td>\n",
              "                        <td id=\"T_8896a258_3e24_11eb_bb50_0242ac1c0002row17_col9\" class=\"data row17 col9\" >-0.057807</td>\n",
              "                        <td id=\"T_8896a258_3e24_11eb_bb50_0242ac1c0002row17_col10\" class=\"data row17 col10\" >0.066406</td>\n",
              "                        <td id=\"T_8896a258_3e24_11eb_bb50_0242ac1c0002row17_col11\" class=\"data row17 col11\" >0.232052</td>\n",
              "                        <td id=\"T_8896a258_3e24_11eb_bb50_0242ac1c0002row17_col12\" class=\"data row17 col12\" >0.008793</td>\n",
              "                        <td id=\"T_8896a258_3e24_11eb_bb50_0242ac1c0002row17_col13\" class=\"data row17 col13\" >-0.088286</td>\n",
              "                        <td id=\"T_8896a258_3e24_11eb_bb50_0242ac1c0002row17_col14\" class=\"data row17 col14\" >0.267443</td>\n",
              "                        <td id=\"T_8896a258_3e24_11eb_bb50_0242ac1c0002row17_col15\" class=\"data row17 col15\" >-0.137557</td>\n",
              "                        <td id=\"T_8896a258_3e24_11eb_bb50_0242ac1c0002row17_col16\" class=\"data row17 col16\" >0.096124</td>\n",
              "                        <td id=\"T_8896a258_3e24_11eb_bb50_0242ac1c0002row17_col17\" class=\"data row17 col17\" >1.000000</td>\n",
              "                        <td id=\"T_8896a258_3e24_11eb_bb50_0242ac1c0002row17_col18\" class=\"data row17 col18\" >-0.044455</td>\n",
              "                        <td id=\"T_8896a258_3e24_11eb_bb50_0242ac1c0002row17_col19\" class=\"data row17 col19\" >-0.028910</td>\n",
              "            </tr>\n",
              "            <tr>\n",
              "                        <th id=\"T_8896a258_3e24_11eb_bb50_0242ac1c0002level0_row18\" class=\"row_heading level0 row18\" >War</th>\n",
              "                        <td id=\"T_8896a258_3e24_11eb_bb50_0242ac1c0002row18_col0\" class=\"data row18 col0\" >-0.011956</td>\n",
              "                        <td id=\"T_8896a258_3e24_11eb_bb50_0242ac1c0002row18_col1\" class=\"data row18 col1\" >0.076289</td>\n",
              "                        <td id=\"T_8896a258_3e24_11eb_bb50_0242ac1c0002row18_col2\" class=\"data row18 col2\" >0.010195</td>\n",
              "                        <td id=\"T_8896a258_3e24_11eb_bb50_0242ac1c0002row18_col3\" class=\"data row18 col3\" >-0.036990</td>\n",
              "                        <td id=\"T_8896a258_3e24_11eb_bb50_0242ac1c0002row18_col4\" class=\"data row18 col4\" >-0.048341</td>\n",
              "                        <td id=\"T_8896a258_3e24_11eb_bb50_0242ac1c0002row18_col5\" class=\"data row18 col5\" >-0.095919</td>\n",
              "                        <td id=\"T_8896a258_3e24_11eb_bb50_0242ac1c0002row18_col6\" class=\"data row18 col6\" >-0.059585</td>\n",
              "                        <td id=\"T_8896a258_3e24_11eb_bb50_0242ac1c0002row18_col7\" class=\"data row18 col7\" >-0.013378</td>\n",
              "                        <td id=\"T_8896a258_3e24_11eb_bb50_0242ac1c0002row18_col8\" class=\"data row18 col8\" >0.135067</td>\n",
              "                        <td id=\"T_8896a258_3e24_11eb_bb50_0242ac1c0002row18_col9\" class=\"data row18 col9\" >-0.043959</td>\n",
              "                        <td id=\"T_8896a258_3e24_11eb_bb50_0242ac1c0002row18_col10\" class=\"data row18 col10\" >-0.019177</td>\n",
              "                        <td id=\"T_8896a258_3e24_11eb_bb50_0242ac1c0002row18_col11\" class=\"data row18 col11\" >-0.062206</td>\n",
              "                        <td id=\"T_8896a258_3e24_11eb_bb50_0242ac1c0002row18_col12\" class=\"data row18 col12\" >-0.009192</td>\n",
              "                        <td id=\"T_8896a258_3e24_11eb_bb50_0242ac1c0002row18_col13\" class=\"data row18 col13\" >-0.032252</td>\n",
              "                        <td id=\"T_8896a258_3e24_11eb_bb50_0242ac1c0002row18_col14\" class=\"data row18 col14\" >-0.043759</td>\n",
              "                        <td id=\"T_8896a258_3e24_11eb_bb50_0242ac1c0002row18_col15\" class=\"data row18 col15\" >-0.012262</td>\n",
              "                        <td id=\"T_8896a258_3e24_11eb_bb50_0242ac1c0002row18_col16\" class=\"data row18 col16\" >-0.046464</td>\n",
              "                        <td id=\"T_8896a258_3e24_11eb_bb50_0242ac1c0002row18_col17\" class=\"data row18 col17\" >-0.044455</td>\n",
              "                        <td id=\"T_8896a258_3e24_11eb_bb50_0242ac1c0002row18_col18\" class=\"data row18 col18\" >1.000000</td>\n",
              "                        <td id=\"T_8896a258_3e24_11eb_bb50_0242ac1c0002row18_col19\" class=\"data row18 col19\" >0.014063</td>\n",
              "            </tr>\n",
              "            <tr>\n",
              "                        <th id=\"T_8896a258_3e24_11eb_bb50_0242ac1c0002level0_row19\" class=\"row_heading level0 row19\" >Western</th>\n",
              "                        <td id=\"T_8896a258_3e24_11eb_bb50_0242ac1c0002row19_col0\" class=\"data row19 col0\" >-0.007816</td>\n",
              "                        <td id=\"T_8896a258_3e24_11eb_bb50_0242ac1c0002row19_col1\" class=\"data row19 col1\" >0.021600</td>\n",
              "                        <td id=\"T_8896a258_3e24_11eb_bb50_0242ac1c0002row19_col2\" class=\"data row19 col2\" >0.036136</td>\n",
              "                        <td id=\"T_8896a258_3e24_11eb_bb50_0242ac1c0002row19_col3\" class=\"data row19 col3\" >-0.024378</td>\n",
              "                        <td id=\"T_8896a258_3e24_11eb_bb50_0242ac1c0002row19_col4\" class=\"data row19 col4\" >-0.016890</td>\n",
              "                        <td id=\"T_8896a258_3e24_11eb_bb50_0242ac1c0002row19_col5\" class=\"data row19 col5\" >-0.039622</td>\n",
              "                        <td id=\"T_8896a258_3e24_11eb_bb50_0242ac1c0002row19_col6\" class=\"data row19 col6\" >-0.022997</td>\n",
              "                        <td id=\"T_8896a258_3e24_11eb_bb50_0242ac1c0002row19_col7\" class=\"data row19 col7\" >-0.024915</td>\n",
              "                        <td id=\"T_8896a258_3e24_11eb_bb50_0242ac1c0002row19_col8\" class=\"data row19 col8\" >-0.025060</td>\n",
              "                        <td id=\"T_8896a258_3e24_11eb_bb50_0242ac1c0002row19_col9\" class=\"data row19 col9\" >-0.021441</td>\n",
              "                        <td id=\"T_8896a258_3e24_11eb_bb50_0242ac1c0002row19_col10\" class=\"data row19 col10\" >-0.004130</td>\n",
              "                        <td id=\"T_8896a258_3e24_11eb_bb50_0242ac1c0002row19_col11\" class=\"data row19 col11\" >-0.023065</td>\n",
              "                        <td id=\"T_8896a258_3e24_11eb_bb50_0242ac1c0002row19_col12\" class=\"data row19 col12\" >-0.004436</td>\n",
              "                        <td id=\"T_8896a258_3e24_11eb_bb50_0242ac1c0002row19_col13\" class=\"data row19 col13\" >0.018577</td>\n",
              "                        <td id=\"T_8896a258_3e24_11eb_bb50_0242ac1c0002row19_col14\" class=\"data row19 col14\" >-0.019570</td>\n",
              "                        <td id=\"T_8896a258_3e24_11eb_bb50_0242ac1c0002row19_col15\" class=\"data row19 col15\" >-0.015724</td>\n",
              "                        <td id=\"T_8896a258_3e24_11eb_bb50_0242ac1c0002row19_col16\" class=\"data row19 col16\" >-0.023135</td>\n",
              "                        <td id=\"T_8896a258_3e24_11eb_bb50_0242ac1c0002row19_col17\" class=\"data row19 col17\" >-0.028910</td>\n",
              "                        <td id=\"T_8896a258_3e24_11eb_bb50_0242ac1c0002row19_col18\" class=\"data row19 col18\" >0.014063</td>\n",
              "                        <td id=\"T_8896a258_3e24_11eb_bb50_0242ac1c0002row19_col19\" class=\"data row19 col19\" >1.000000</td>\n",
              "            </tr>\n",
              "    </tbody></table>"
            ],
            "text/plain": [
              "<pandas.io.formats.style.Styler at 0x7ff201616128>"
            ]
          },
          "metadata": {
            "tags": []
          },
          "execution_count": 19
        }
      ]
    },
    {
      "cell_type": "markdown",
      "metadata": {
        "id": "LgOo09Cx2srZ"
      },
      "source": [
        "# 영화 평점 데이터 분석"
      ]
    },
    {
      "cell_type": "markdown",
      "metadata": {
        "id": "Z588FkKX50uH"
      },
      "source": [
        "## 영화 평점 분포 확인하기\r\n",
        "* hist()를 활용하면 히스토그램을 그릴 수 있다"
      ]
    },
    {
      "cell_type": "code",
      "metadata": {
        "id": "4gWR6fkGG_MU",
        "colab": {
          "base_uri": "https://localhost:8080/",
          "height": 136
        },
        "outputId": "4a0ed67f-6e32-4a59-895f-0cd5b39bfaf0"
      },
      "source": [
        "ratings = pd.read_csv('/content/drive/MyDrive/추천시스템 입문반/DATA/ml-latest-small/ratings.csv')\r\n",
        "ratings.sample(3)"
      ],
      "execution_count": null,
      "outputs": [
        {
          "output_type": "execute_result",
          "data": {
            "text/html": [
              "<div>\n",
              "<style scoped>\n",
              "    .dataframe tbody tr th:only-of-type {\n",
              "        vertical-align: middle;\n",
              "    }\n",
              "\n",
              "    .dataframe tbody tr th {\n",
              "        vertical-align: top;\n",
              "    }\n",
              "\n",
              "    .dataframe thead th {\n",
              "        text-align: right;\n",
              "    }\n",
              "</style>\n",
              "<table border=\"1\" class=\"dataframe\">\n",
              "  <thead>\n",
              "    <tr style=\"text-align: right;\">\n",
              "      <th></th>\n",
              "      <th>userId</th>\n",
              "      <th>movieId</th>\n",
              "      <th>rating</th>\n",
              "      <th>timestamp</th>\n",
              "    </tr>\n",
              "  </thead>\n",
              "  <tbody>\n",
              "    <tr>\n",
              "      <th>11622</th>\n",
              "      <td>69</td>\n",
              "      <td>296</td>\n",
              "      <td>5.0</td>\n",
              "      <td>1021644176</td>\n",
              "    </tr>\n",
              "    <tr>\n",
              "      <th>97244</th>\n",
              "      <td>605</td>\n",
              "      <td>3988</td>\n",
              "      <td>3.0</td>\n",
              "      <td>1277176175</td>\n",
              "    </tr>\n",
              "    <tr>\n",
              "      <th>73433</th>\n",
              "      <td>474</td>\n",
              "      <td>1230</td>\n",
              "      <td>4.0</td>\n",
              "      <td>1082256456</td>\n",
              "    </tr>\n",
              "  </tbody>\n",
              "</table>\n",
              "</div>"
            ],
            "text/plain": [
              "       userId  movieId  rating   timestamp\n",
              "11622      69      296     5.0  1021644176\n",
              "97244     605     3988     3.0  1277176175\n",
              "73433     474     1230     4.0  1082256456"
            ]
          },
          "metadata": {
            "tags": []
          },
          "execution_count": 23
        }
      ]
    },
    {
      "cell_type": "code",
      "metadata": {
        "id": "zeFSy6EMG_S-",
        "colab": {
          "base_uri": "https://localhost:8080/"
        },
        "outputId": "2e8b2a30-a465-431d-ff80-2a2a605d8e04"
      },
      "source": [
        "ratings.shape"
      ],
      "execution_count": null,
      "outputs": [
        {
          "output_type": "execute_result",
          "data": {
            "text/plain": [
              "(100836, 4)"
            ]
          },
          "metadata": {
            "tags": []
          },
          "execution_count": 25
        }
      ]
    },
    {
      "cell_type": "code",
      "metadata": {
        "id": "gtbdZuz1GeCw",
        "colab": {
          "base_uri": "https://localhost:8080/"
        },
        "outputId": "8a454eb5-46d5-4933-ee8d-b020ce118baa"
      },
      "source": [
        "print(len(ratings['userId'].unique())) # 평가한 사람은 610명\r\n",
        "print(len(ratings['movieId'].unique())) # 평가당한 영화는 9724개"
      ],
      "execution_count": null,
      "outputs": [
        {
          "output_type": "stream",
          "text": [
            "610\n",
            "9724\n"
          ],
          "name": "stdout"
        }
      ]
    },
    {
      "cell_type": "code",
      "metadata": {
        "colab": {
          "base_uri": "https://localhost:8080/"
        },
        "id": "euNE_cIh4Yrk",
        "outputId": "111bb295-0d4b-477b-d7d9-3c184f7f3e18"
      },
      "source": [
        "ratings['rating'].describe() # 이 평점 데이터는 1부터 시작하는 것이 아닌 0.5부터 시작하는 것을 알 수 있다"
      ],
      "execution_count": null,
      "outputs": [
        {
          "output_type": "execute_result",
          "data": {
            "text/plain": [
              "count    100836.000000\n",
              "mean          3.501557\n",
              "std           1.042529\n",
              "min           0.500000\n",
              "25%           3.000000\n",
              "50%           3.500000\n",
              "75%           4.000000\n",
              "max           5.000000\n",
              "Name: rating, dtype: float64"
            ]
          },
          "metadata": {
            "tags": []
          },
          "execution_count": 29
        }
      ]
    },
    {
      "cell_type": "code",
      "metadata": {
        "colab": {
          "base_uri": "https://localhost:8080/",
          "height": 283
        },
        "id": "_vBZtfYz4t7f",
        "outputId": "646fa16f-4c3f-4c4e-cb20-e19f6589aca3"
      },
      "source": [
        "# sns 안쓰고 판다스 기본으로 시각화\r\n",
        "\r\n",
        "ratings['rating'].hist()"
      ],
      "execution_count": null,
      "outputs": [
        {
          "output_type": "execute_result",
          "data": {
            "text/plain": [
              "<matplotlib.axes._subplots.AxesSubplot at 0x7ff1488fe320>"
            ]
          },
          "metadata": {
            "tags": []
          },
          "execution_count": 30
        },
        {
          "output_type": "display_data",
          "data": {
            "image/png": "[encoded data removed]",
            "text/plain": [
              "<Figure size 432x288 with 1 Axes>"
            ]
          },
          "metadata": {
            "tags": [],
            "needs_background": "light"
          }
        }
      ]
    },
    {
      "cell_type": "markdown",
      "metadata": {
        "id": "QtaT8exi6HXj"
      },
      "source": [
        "## 인당 평균 평가 영화 개수 구하기\r\n",
        "* power law distribution, 멱함수 분포 : 우리가 기존에 생각하는 정규분포가 아닌, 0값에 몰려있는 극단적인 형태의 함수\r\n",
        "* dist()는 distribution plot을 그려준다\r\n"
      ]
    },
    {
      "cell_type": "code",
      "metadata": {
        "colab": {
          "base_uri": "https://localhost:8080/"
        },
        "id": "A55qZlWF5Sui",
        "outputId": "7756cf3e-f5f2-4242-9b61-f4ff1f009817"
      },
      "source": [
        "# groupby해주고 count해주는 방식으로 구함\r\n",
        "movie_per_user = ratings.groupby('userId')['movieId'].count()\r\n",
        "movie_per_user.mean()"
      ],
      "execution_count": null,
      "outputs": [
        {
          "output_type": "execute_result",
          "data": {
            "text/plain": [
              "165.30491803278687"
            ]
          },
          "metadata": {
            "tags": []
          },
          "execution_count": 35
        }
      ]
    },
    {
      "cell_type": "code",
      "metadata": {
        "colab": {
          "base_uri": "https://localhost:8080/"
        },
        "id": "8EKL-UJk6VjW",
        "outputId": "23aaab32-a8fc-42d2-b36e-958b619abaa9"
      },
      "source": [
        "movie_per_user.describe()"
      ],
      "execution_count": null,
      "outputs": [
        {
          "output_type": "execute_result",
          "data": {
            "text/plain": [
              "count     610.000000\n",
              "mean      165.304918\n",
              "std       269.480584\n",
              "min        20.000000\n",
              "25%        35.000000\n",
              "50%        70.500000\n",
              "75%       168.000000\n",
              "max      2698.000000\n",
              "Name: movieId, dtype: float64"
            ]
          },
          "metadata": {
            "tags": []
          },
          "execution_count": 37
        }
      ]
    },
    {
      "cell_type": "code",
      "metadata": {
        "colab": {
          "base_uri": "https://localhost:8080/",
          "height": 322
        },
        "id": "FnvpUG8v65mL",
        "outputId": "ef3aab26-3d5e-4f25-df64-7f1889d24c9e"
      },
      "source": [
        "g = sns.distplot(movie_per_user.values)"
      ],
      "execution_count": null,
      "outputs": [
        {
          "output_type": "stream",
          "text": [
            "/usr/local/lib/python3.6/dist-packages/seaborn/distributions.py:2551: FutureWarning: `distplot` is a deprecated function and will be removed in a future version. Please adapt your code to use either `displot` (a figure-level function with similar flexibility) or `histplot` (an axes-level function for histograms).\n",
            "  warnings.warn(msg, FutureWarning)\n"
          ],
          "name": "stderr"
        },
        {
          "output_type": "display_data",
          "data": {
            "image/png": "[encoded data removed]",
            "text/plain": [
              "<Figure size 432x288 with 1 Axes>"
            ]
          },
          "metadata": {
            "tags": [],
            "needs_background": "light"
          }
        }
      ]
    },
    {
      "cell_type": "markdown",
      "metadata": {
        "id": "odD8RTfs7t--"
      },
      "source": [
        "## 가장 많이 평가당한 영화 구하기"
      ]
    },
    {
      "cell_type": "code",
      "metadata": {
        "colab": {
          "base_uri": "https://localhost:8080/"
        },
        "id": "Hf8YP2cE7C2B",
        "outputId": "1a1df9b0-55ee-4e9d-fe58-39c113bc7e37"
      },
      "source": [
        "films = ratings.groupby('movieId')['userId'].count()\r\n",
        "films.describe()"
      ],
      "execution_count": null,
      "outputs": [
        {
          "output_type": "execute_result",
          "data": {
            "text/plain": [
              "count    9724.000000\n",
              "mean       10.369807\n",
              "std        22.401005\n",
              "min         1.000000\n",
              "25%         1.000000\n",
              "50%         3.000000\n",
              "75%         9.000000\n",
              "max       329.000000\n",
              "Name: userId, dtype: float64"
            ]
          },
          "metadata": {
            "tags": []
          },
          "execution_count": 44
        }
      ]
    },
    {
      "cell_type": "code",
      "metadata": {
        "colab": {
          "base_uri": "https://localhost:8080/",
          "height": 340
        },
        "id": "AkdmS061714d",
        "outputId": "5a2a3513-2aa3-452a-8a40-7822a7092f74"
      },
      "source": [
        "sns.distplot(films.values)"
      ],
      "execution_count": null,
      "outputs": [
        {
          "output_type": "stream",
          "text": [
            "/usr/local/lib/python3.6/dist-packages/seaborn/distributions.py:2551: FutureWarning: `distplot` is a deprecated function and will be removed in a future version. Please adapt your code to use either `displot` (a figure-level function with similar flexibility) or `histplot` (an axes-level function for histograms).\n",
            "  warnings.warn(msg, FutureWarning)\n"
          ],
          "name": "stderr"
        },
        {
          "output_type": "execute_result",
          "data": {
            "text/plain": [
              "<matplotlib.axes._subplots.AxesSubplot at 0x7ff148144240>"
            ]
          },
          "metadata": {
            "tags": []
          },
          "execution_count": 45
        },
        {
          "output_type": "display_data",
          "data": {
            "image/png": "[encoded data removed]",
            "text/plain": [
              "<Figure size 432x288 with 1 Axes>"
            ]
          },
          "metadata": {
            "tags": [],
            "needs_background": "light"
          }
        }
      ]
    },
    {
      "cell_type": "markdown",
      "metadata": {
        "id": "BBwRqXhp8YdN"
      },
      "source": [
        "## 가장 많이 평가당한 영화 이름 찾기\r\n",
        "* 굳이 merge 하지 않아도 loc으로 찾을 수 있겠다\r\n",
        "* isin으로도 찾을 수 있을까? = 있다. 하지만 주의할 게, movie_id = index이므로 굳이 필요없고, 그냥 ranking이라는 top5 리스트를 만들어서 loc으로 가져와주었다"
      ]
    },
    {
      "cell_type": "code",
      "metadata": {
        "colab": {
          "base_uri": "https://localhost:8080/"
        },
        "id": "HZHtS-Ks8A9V",
        "outputId": "1d0b9dcb-68e4-423f-f878-0f15275d3fa4"
      },
      "source": [
        "films.sort_values(ascending= False)"
      ],
      "execution_count": null,
      "outputs": [
        {
          "output_type": "execute_result",
          "data": {
            "text/plain": [
              "movieId\n",
              "356       329\n",
              "318       317\n",
              "296       307\n",
              "593       279\n",
              "2571      278\n",
              "         ... \n",
              "57502       1\n",
              "57522       1\n",
              "57526       1\n",
              "4032        1\n",
              "193609      1\n",
              "Name: userId, Length: 9724, dtype: int64"
            ]
          },
          "metadata": {
            "tags": []
          },
          "execution_count": 47
        }
      ]
    },
    {
      "cell_type": "code",
      "metadata": {
        "colab": {
          "base_uri": "https://localhost:8080/",
          "height": 225
        },
        "id": "Lp69lwSb8tUP",
        "outputId": "3532648b-ff99-43a0-ed1c-68553f1057b0"
      },
      "source": [
        "movies.loc[[356,318,296,593,2571]]"
      ],
      "execution_count": null,
      "outputs": [
        {
          "output_type": "execute_result",
          "data": {
            "text/html": [
              "<div>\n",
              "<style scoped>\n",
              "    .dataframe tbody tr th:only-of-type {\n",
              "        vertical-align: middle;\n",
              "    }\n",
              "\n",
              "    .dataframe tbody tr th {\n",
              "        vertical-align: top;\n",
              "    }\n",
              "\n",
              "    .dataframe thead th {\n",
              "        text-align: right;\n",
              "    }\n",
              "</style>\n",
              "<table border=\"1\" class=\"dataframe\">\n",
              "  <thead>\n",
              "    <tr style=\"text-align: right;\">\n",
              "      <th></th>\n",
              "      <th>title</th>\n",
              "      <th>genres</th>\n",
              "      <th>year</th>\n",
              "    </tr>\n",
              "    <tr>\n",
              "      <th>movieId</th>\n",
              "      <th></th>\n",
              "      <th></th>\n",
              "      <th></th>\n",
              "    </tr>\n",
              "  </thead>\n",
              "  <tbody>\n",
              "    <tr>\n",
              "      <th>356</th>\n",
              "      <td>Forrest Gump (1994)</td>\n",
              "      <td>Comedy|Drama|Romance|War</td>\n",
              "      <td>1994</td>\n",
              "    </tr>\n",
              "    <tr>\n",
              "      <th>318</th>\n",
              "      <td>Shawshank Redemption, The (1994)</td>\n",
              "      <td>Crime|Drama</td>\n",
              "      <td>1994</td>\n",
              "    </tr>\n",
              "    <tr>\n",
              "      <th>296</th>\n",
              "      <td>Pulp Fiction (1994)</td>\n",
              "      <td>Comedy|Crime|Drama|Thriller</td>\n",
              "      <td>1994</td>\n",
              "    </tr>\n",
              "    <tr>\n",
              "      <th>593</th>\n",
              "      <td>Silence of the Lambs, The (1991)</td>\n",
              "      <td>Crime|Horror|Thriller</td>\n",
              "      <td>1991</td>\n",
              "    </tr>\n",
              "    <tr>\n",
              "      <th>2571</th>\n",
              "      <td>Matrix, The (1999)</td>\n",
              "      <td>Action|Sci-Fi|Thriller</td>\n",
              "      <td>1999</td>\n",
              "    </tr>\n",
              "  </tbody>\n",
              "</table>\n",
              "</div>"
            ],
            "text/plain": [
              "                                    title                       genres  year\n",
              "movieId                                                                     \n",
              "356                   Forrest Gump (1994)     Comedy|Drama|Romance|War  1994\n",
              "318      Shawshank Redemption, The (1994)                  Crime|Drama  1994\n",
              "296                   Pulp Fiction (1994)  Comedy|Crime|Drama|Thriller  1994\n",
              "593      Silence of the Lambs, The (1991)        Crime|Horror|Thriller  1991\n",
              "2571                   Matrix, The (1999)       Action|Sci-Fi|Thriller  1999"
            ]
          },
          "metadata": {
            "tags": []
          },
          "execution_count": 49
        }
      ]
    },
    {
      "cell_type": "code",
      "metadata": {
        "colab": {
          "base_uri": "https://localhost:8080/"
        },
        "id": "G6XIQcpd8tiO",
        "outputId": "df5a6892-aaad-4fbb-c183-95743df6ba91"
      },
      "source": [
        "# 위 방법과 똑같지만 순위가 100개를 넘어가거나 해서 손으로 일일히 칠 수 없을 때는 리스트로 만들어서도 가능\r\n",
        "\r\n",
        "ranking = films.sort_values(ascending=False).index\r\n",
        "ranking = list(ranking[0:6])\r\n",
        "ranking"
      ],
      "execution_count": null,
      "outputs": [
        {
          "output_type": "execute_result",
          "data": {
            "text/plain": [
              "[356, 318, 296, 593, 2571, 260]"
            ]
          },
          "metadata": {
            "tags": []
          },
          "execution_count": 64
        }
      ]
    },
    {
      "cell_type": "code",
      "metadata": {
        "colab": {
          "base_uri": "https://localhost:8080/",
          "height": 254
        },
        "id": "f5xq5naG-ecI",
        "outputId": "925a6b5f-d0f5-42d2-b989-1ad9311211db"
      },
      "source": [
        "movies.loc[ranking]"
      ],
      "execution_count": null,
      "outputs": [
        {
          "output_type": "execute_result",
          "data": {
            "text/html": [
              "<div>\n",
              "<style scoped>\n",
              "    .dataframe tbody tr th:only-of-type {\n",
              "        vertical-align: middle;\n",
              "    }\n",
              "\n",
              "    .dataframe tbody tr th {\n",
              "        vertical-align: top;\n",
              "    }\n",
              "\n",
              "    .dataframe thead th {\n",
              "        text-align: right;\n",
              "    }\n",
              "</style>\n",
              "<table border=\"1\" class=\"dataframe\">\n",
              "  <thead>\n",
              "    <tr style=\"text-align: right;\">\n",
              "      <th></th>\n",
              "      <th>title</th>\n",
              "      <th>genres</th>\n",
              "      <th>year</th>\n",
              "    </tr>\n",
              "    <tr>\n",
              "      <th>movieId</th>\n",
              "      <th></th>\n",
              "      <th></th>\n",
              "      <th></th>\n",
              "    </tr>\n",
              "  </thead>\n",
              "  <tbody>\n",
              "    <tr>\n",
              "      <th>356</th>\n",
              "      <td>Forrest Gump (1994)</td>\n",
              "      <td>Comedy|Drama|Romance|War</td>\n",
              "      <td>1994</td>\n",
              "    </tr>\n",
              "    <tr>\n",
              "      <th>318</th>\n",
              "      <td>Shawshank Redemption, The (1994)</td>\n",
              "      <td>Crime|Drama</td>\n",
              "      <td>1994</td>\n",
              "    </tr>\n",
              "    <tr>\n",
              "      <th>296</th>\n",
              "      <td>Pulp Fiction (1994)</td>\n",
              "      <td>Comedy|Crime|Drama|Thriller</td>\n",
              "      <td>1994</td>\n",
              "    </tr>\n",
              "    <tr>\n",
              "      <th>593</th>\n",
              "      <td>Silence of the Lambs, The (1991)</td>\n",
              "      <td>Crime|Horror|Thriller</td>\n",
              "      <td>1991</td>\n",
              "    </tr>\n",
              "    <tr>\n",
              "      <th>2571</th>\n",
              "      <td>Matrix, The (1999)</td>\n",
              "      <td>Action|Sci-Fi|Thriller</td>\n",
              "      <td>1999</td>\n",
              "    </tr>\n",
              "    <tr>\n",
              "      <th>260</th>\n",
              "      <td>Star Wars: Episode IV - A New Hope (1977)</td>\n",
              "      <td>Action|Adventure|Sci-Fi</td>\n",
              "      <td>1977</td>\n",
              "    </tr>\n",
              "  </tbody>\n",
              "</table>\n",
              "</div>"
            ],
            "text/plain": [
              "                                             title  ...  year\n",
              "movieId                                             ...      \n",
              "356                            Forrest Gump (1994)  ...  1994\n",
              "318               Shawshank Redemption, The (1994)  ...  1994\n",
              "296                            Pulp Fiction (1994)  ...  1994\n",
              "593               Silence of the Lambs, The (1991)  ...  1991\n",
              "2571                            Matrix, The (1999)  ...  1999\n",
              "260      Star Wars: Episode IV - A New Hope (1977)  ...  1977\n",
              "\n",
              "[6 rows x 3 columns]"
            ]
          },
          "metadata": {
            "tags": []
          },
          "execution_count": 71
        }
      ]
    },
    {
      "cell_type": "markdown",
      "metadata": {
        "id": "Xc6nLmB5AgPm"
      },
      "source": [
        "## 겨울왕국 평점보기"
      ]
    },
    {
      "cell_type": "code",
      "metadata": {
        "colab": {
          "base_uri": "https://localhost:8080/",
          "height": 195
        },
        "id": "STF88zT4_5jl",
        "outputId": "ee78f982-b012-4e75-8323-7493f7536fc2"
      },
      "source": [
        "# 겨울왕국의 movieId 찾기 = 2013년도 개봉한 106696번\r\n",
        "\r\n",
        "movies.loc[movies['title'].str.contains('Frozen')]"
      ],
      "execution_count": null,
      "outputs": [
        {
          "output_type": "execute_result",
          "data": {
            "text/html": [
              "<div>\n",
              "<style scoped>\n",
              "    .dataframe tbody tr th:only-of-type {\n",
              "        vertical-align: middle;\n",
              "    }\n",
              "\n",
              "    .dataframe tbody tr th {\n",
              "        vertical-align: top;\n",
              "    }\n",
              "\n",
              "    .dataframe thead th {\n",
              "        text-align: right;\n",
              "    }\n",
              "</style>\n",
              "<table border=\"1\" class=\"dataframe\">\n",
              "  <thead>\n",
              "    <tr style=\"text-align: right;\">\n",
              "      <th></th>\n",
              "      <th>title</th>\n",
              "      <th>genres</th>\n",
              "      <th>year</th>\n",
              "    </tr>\n",
              "    <tr>\n",
              "      <th>movieId</th>\n",
              "      <th></th>\n",
              "      <th></th>\n",
              "      <th></th>\n",
              "    </tr>\n",
              "  </thead>\n",
              "  <tbody>\n",
              "    <tr>\n",
              "      <th>60943</th>\n",
              "      <td>Frozen River (2008)</td>\n",
              "      <td>Drama</td>\n",
              "      <td>2008</td>\n",
              "    </tr>\n",
              "    <tr>\n",
              "      <th>75395</th>\n",
              "      <td>Frozen (2010)</td>\n",
              "      <td>Drama|Horror|Thriller</td>\n",
              "      <td>2010</td>\n",
              "    </tr>\n",
              "    <tr>\n",
              "      <th>100553</th>\n",
              "      <td>Frozen Planet (2011)</td>\n",
              "      <td>Documentary</td>\n",
              "      <td>2011</td>\n",
              "    </tr>\n",
              "    <tr>\n",
              "      <th>106696</th>\n",
              "      <td>Frozen (2013)</td>\n",
              "      <td>Adventure|Animation|Comedy|Fantasy|Musical|Rom...</td>\n",
              "      <td>2013</td>\n",
              "    </tr>\n",
              "  </tbody>\n",
              "</table>\n",
              "</div>"
            ],
            "text/plain": [
              "                        title  ...  year\n",
              "movieId                        ...      \n",
              "60943     Frozen River (2008)  ...  2008\n",
              "75395           Frozen (2010)  ...  2010\n",
              "100553   Frozen Planet (2011)  ...  2011\n",
              "106696          Frozen (2013)  ...  2013\n",
              "\n",
              "[4 rows x 3 columns]"
            ]
          },
          "metadata": {
            "tags": []
          },
          "execution_count": 73
        }
      ]
    },
    {
      "cell_type": "code",
      "metadata": {
        "id": "mHkccieSA2va"
      },
      "source": [
        "# Frozen을 평가한 사람들과 그들의 점수에 대한 데이터를 겨울왕국 movieId를 활용해 불러왔다\r\n",
        "\r\n",
        "frozen = ratings[ratings['movieId'] == 106696]"
      ],
      "execution_count": null,
      "outputs": []
    },
    {
      "cell_type": "code",
      "metadata": {
        "colab": {
          "base_uri": "https://localhost:8080/"
        },
        "id": "UeFJExegA8zv",
        "outputId": "c2f874b5-b3e7-4a7a-e440-557f5c673cb3"
      },
      "source": [
        "len(frozen) # 총 29명이 평가함"
      ],
      "execution_count": null,
      "outputs": [
        {
          "output_type": "execute_result",
          "data": {
            "text/plain": [
              "29"
            ]
          },
          "metadata": {
            "tags": []
          },
          "execution_count": 76
        }
      ]
    },
    {
      "cell_type": "code",
      "metadata": {
        "colab": {
          "base_uri": "https://localhost:8080/",
          "height": 136
        },
        "id": "mddgZ-ybBKuA",
        "outputId": "b301217a-0ed1-4dbb-96db-0bad7e3cca21"
      },
      "source": [
        "frozen.head(3)"
      ],
      "execution_count": null,
      "outputs": [
        {
          "output_type": "execute_result",
          "data": {
            "text/html": [
              "<div>\n",
              "<style scoped>\n",
              "    .dataframe tbody tr th:only-of-type {\n",
              "        vertical-align: middle;\n",
              "    }\n",
              "\n",
              "    .dataframe tbody tr th {\n",
              "        vertical-align: top;\n",
              "    }\n",
              "\n",
              "    .dataframe thead th {\n",
              "        text-align: right;\n",
              "    }\n",
              "</style>\n",
              "<table border=\"1\" class=\"dataframe\">\n",
              "  <thead>\n",
              "    <tr style=\"text-align: right;\">\n",
              "      <th></th>\n",
              "      <th>userId</th>\n",
              "      <th>movieId</th>\n",
              "      <th>rating</th>\n",
              "      <th>timestamp</th>\n",
              "    </tr>\n",
              "  </thead>\n",
              "  <tbody>\n",
              "    <tr>\n",
              "      <th>1245</th>\n",
              "      <td>10</td>\n",
              "      <td>106696</td>\n",
              "      <td>4.5</td>\n",
              "      <td>1455306204</td>\n",
              "    </tr>\n",
              "    <tr>\n",
              "      <th>3572</th>\n",
              "      <td>21</td>\n",
              "      <td>106696</td>\n",
              "      <td>4.0</td>\n",
              "      <td>1403460685</td>\n",
              "    </tr>\n",
              "    <tr>\n",
              "      <th>9418</th>\n",
              "      <td>63</td>\n",
              "      <td>106696</td>\n",
              "      <td>5.0</td>\n",
              "      <td>1443461176</td>\n",
              "    </tr>\n",
              "  </tbody>\n",
              "</table>\n",
              "</div>"
            ],
            "text/plain": [
              "      userId  movieId  rating   timestamp\n",
              "1245      10   106696     4.5  1455306204\n",
              "3572      21   106696     4.0  1403460685\n",
              "9418      63   106696     5.0  1443461176"
            ]
          },
          "metadata": {
            "tags": []
          },
          "execution_count": 78
        }
      ]
    },
    {
      "cell_type": "code",
      "metadata": {
        "colab": {
          "base_uri": "https://localhost:8080/",
          "height": 283
        },
        "id": "F1hr_oiYBB_O",
        "outputId": "7b98e5e4-8960-4864-9255-5e1fd3750529"
      },
      "source": [
        "frozen['rating'].hist() # 대부분은 3~5점 좋은 점수를 줬는데, 엄청 낮은 점수를 준 사람이 보인다"
      ],
      "execution_count": null,
      "outputs": [
        {
          "output_type": "execute_result",
          "data": {
            "text/plain": [
              "<matplotlib.axes._subplots.AxesSubplot at 0x7ff147f7d4a8>"
            ]
          },
          "metadata": {
            "tags": []
          },
          "execution_count": 79
        },
        {
          "output_type": "display_data",
          "data": {
            "image/png": "[encoded data removed]",
            "text/plain": [
              "<Figure size 432x288 with 1 Axes>"
            ]
          },
          "metadata": {
            "tags": [],
            "needs_background": "light"
          }
        }
      ]
    },
    {
      "cell_type": "code",
      "metadata": {
        "colab": {
          "base_uri": "https://localhost:8080/",
          "height": 136
        },
        "id": "3tBn0yfdBGGz",
        "outputId": "d76d26d5-0ddd-44f1-9f53-f483eb2d382a"
      },
      "source": [
        "# 낮은 점수를 준 사람을 찾아서 이 사람이 다른 영화에는 어떻게 평점을 매겼는지 찾아보자\r\n",
        "# sort_values로 오름차순해서 유저아이디를 찾아냄\r\n",
        "\r\n",
        "frozen.sort_values(by='rating').head(3)"
      ],
      "execution_count": null,
      "outputs": [
        {
          "output_type": "execute_result",
          "data": {
            "text/html": [
              "<div>\n",
              "<style scoped>\n",
              "    .dataframe tbody tr th:only-of-type {\n",
              "        vertical-align: middle;\n",
              "    }\n",
              "\n",
              "    .dataframe tbody tr th {\n",
              "        vertical-align: top;\n",
              "    }\n",
              "\n",
              "    .dataframe thead th {\n",
              "        text-align: right;\n",
              "    }\n",
              "</style>\n",
              "<table border=\"1\" class=\"dataframe\">\n",
              "  <thead>\n",
              "    <tr style=\"text-align: right;\">\n",
              "      <th></th>\n",
              "      <th>userId</th>\n",
              "      <th>movieId</th>\n",
              "      <th>rating</th>\n",
              "      <th>timestamp</th>\n",
              "    </tr>\n",
              "  </thead>\n",
              "  <tbody>\n",
              "    <tr>\n",
              "      <th>88023</th>\n",
              "      <td>567</td>\n",
              "      <td>106696</td>\n",
              "      <td>0.5</td>\n",
              "      <td>1525289874</td>\n",
              "    </tr>\n",
              "    <tr>\n",
              "      <th>81910</th>\n",
              "      <td>517</td>\n",
              "      <td>106696</td>\n",
              "      <td>1.0</td>\n",
              "      <td>1487955739</td>\n",
              "    </tr>\n",
              "    <tr>\n",
              "      <th>53458</th>\n",
              "      <td>352</td>\n",
              "      <td>106696</td>\n",
              "      <td>2.0</td>\n",
              "      <td>1493674468</td>\n",
              "    </tr>\n",
              "  </tbody>\n",
              "</table>\n",
              "</div>"
            ],
            "text/plain": [
              "       userId  movieId  rating   timestamp\n",
              "88023     567   106696     0.5  1525289874\n",
              "81910     517   106696     1.0  1487955739\n",
              "53458     352   106696     2.0  1493674468"
            ]
          },
          "metadata": {
            "tags": []
          },
          "execution_count": 81
        }
      ]
    },
    {
      "cell_type": "code",
      "metadata": {
        "colab": {
          "base_uri": "https://localhost:8080/",
          "height": 283
        },
        "id": "vS6aIWXQBTxn",
        "outputId": "5f4de083-8baa-4c3f-aa28-d02b47f4ae32"
      },
      "source": [
        "# 567번 사람은 거의 낮은 점수만 몰아서 주는 시러시러몬인 것을 확인해볼 수 있다\r\n",
        "\r\n",
        "ratings.loc[ratings['userId'] == 567, 'rating'].hist()"
      ],
      "execution_count": null,
      "outputs": [
        {
          "output_type": "execute_result",
          "data": {
            "text/plain": [
              "<matplotlib.axes._subplots.AxesSubplot at 0x7ff147e3fd68>"
            ]
          },
          "metadata": {
            "tags": []
          },
          "execution_count": 84
        },
        {
          "output_type": "display_data",
          "data": {
            "image/png": "[encoded data removed]",
            "text/plain": [
              "<Figure size 432x288 with 1 Axes>"
            ]
          },
          "metadata": {
            "tags": [],
            "needs_background": "light"
          }
        }
      ]
    },
    {
      "cell_type": "code",
      "metadata": {
        "colab": {
          "base_uri": "https://localhost:8080/",
          "height": 283
        },
        "id": "WrW2-f_lBo0G",
        "outputId": "2af784cd-c495-466f-bbcb-465458a44431"
      },
      "source": [
        "# 전체 rating 테이블에서 대부분의 유저들의 점수 분포를 봐도 567번 사람이 특이한 것을 볼 수 있음\r\n",
        "\r\n",
        "ratings['rating'].hist()"
      ],
      "execution_count": null,
      "outputs": [
        {
          "output_type": "execute_result",
          "data": {
            "text/plain": [
              "<matplotlib.axes._subplots.AxesSubplot at 0x7ff147f97860>"
            ]
          },
          "metadata": {
            "tags": []
          },
          "execution_count": 85
        },
        {
          "output_type": "display_data",
          "data": {
            "image/png": "[encoded data removed]",
            "text/plain": [
              "<Figure size 432x288 with 1 Axes>"
            ]
          },
          "metadata": {
            "tags": [],
            "needs_background": "light"
          }
        }
      ]
    },
    {
      "cell_type": "markdown",
      "metadata": {
        "id": "ythGuMFECHCu"
      },
      "source": [
        "# 나의 영화 평점 데이터 추가하기"
      ]
    },
    {
      "cell_type": "markdown",
      "metadata": {
        "id": "VeCAJPgNCMTj"
      },
      "source": [
        "## 타임스탬프 데이터타입 처리하기\r\n",
        "* timestamp 데이터가 1525289874 이런식으로 쓰여있는 경우 알아보기 힘들다\r\n",
        "* datetime.fromtimestamp(x)로 처리해주면 datetime 형태로 변환할 수 있음"
      ]
    },
    {
      "cell_type": "code",
      "metadata": {
        "id": "7DGZysVtCGKW"
      },
      "source": [
        "from datetime import datetime"
      ],
      "execution_count": null,
      "outputs": []
    },
    {
      "cell_type": "code",
      "metadata": {
        "colab": {
          "base_uri": "https://localhost:8080/",
          "height": 402
        },
        "id": "wPec2vjvBxC6",
        "outputId": "60fb5c49-2472-4a9a-bbff-ebf64093f563"
      },
      "source": [
        "ratings['timestamp'] = ratings['timestamp'].apply(lambda x: datetime.fromtimestamp(x))\r\n",
        "ratings"
      ],
      "execution_count": null,
      "outputs": [
        {
          "output_type": "execute_result",
          "data": {
            "text/html": [
              "<div>\n",
              "<style scoped>\n",
              "    .dataframe tbody tr th:only-of-type {\n",
              "        vertical-align: middle;\n",
              "    }\n",
              "\n",
              "    .dataframe tbody tr th {\n",
              "        vertical-align: top;\n",
              "    }\n",
              "\n",
              "    .dataframe thead th {\n",
              "        text-align: right;\n",
              "    }\n",
              "</style>\n",
              "<table border=\"1\" class=\"dataframe\">\n",
              "  <thead>\n",
              "    <tr style=\"text-align: right;\">\n",
              "      <th></th>\n",
              "      <th>userId</th>\n",
              "      <th>movieId</th>\n",
              "      <th>rating</th>\n",
              "      <th>timestamp</th>\n",
              "    </tr>\n",
              "  </thead>\n",
              "  <tbody>\n",
              "    <tr>\n",
              "      <th>0</th>\n",
              "      <td>1</td>\n",
              "      <td>1</td>\n",
              "      <td>4.0</td>\n",
              "      <td>2000-07-30 18:45:03</td>\n",
              "    </tr>\n",
              "    <tr>\n",
              "      <th>1</th>\n",
              "      <td>1</td>\n",
              "      <td>3</td>\n",
              "      <td>4.0</td>\n",
              "      <td>2000-07-30 18:20:47</td>\n",
              "    </tr>\n",
              "    <tr>\n",
              "      <th>2</th>\n",
              "      <td>1</td>\n",
              "      <td>6</td>\n",
              "      <td>4.0</td>\n",
              "      <td>2000-07-30 18:37:04</td>\n",
              "    </tr>\n",
              "    <tr>\n",
              "      <th>3</th>\n",
              "      <td>1</td>\n",
              "      <td>47</td>\n",
              "      <td>5.0</td>\n",
              "      <td>2000-07-30 19:03:35</td>\n",
              "    </tr>\n",
              "    <tr>\n",
              "      <th>4</th>\n",
              "      <td>1</td>\n",
              "      <td>50</td>\n",
              "      <td>5.0</td>\n",
              "      <td>2000-07-30 18:48:51</td>\n",
              "    </tr>\n",
              "    <tr>\n",
              "      <th>...</th>\n",
              "      <td>...</td>\n",
              "      <td>...</td>\n",
              "      <td>...</td>\n",
              "      <td>...</td>\n",
              "    </tr>\n",
              "    <tr>\n",
              "      <th>100831</th>\n",
              "      <td>610</td>\n",
              "      <td>166534</td>\n",
              "      <td>4.0</td>\n",
              "      <td>2017-05-03 21:53:22</td>\n",
              "    </tr>\n",
              "    <tr>\n",
              "      <th>100832</th>\n",
              "      <td>610</td>\n",
              "      <td>168248</td>\n",
              "      <td>5.0</td>\n",
              "      <td>2017-05-03 22:21:31</td>\n",
              "    </tr>\n",
              "    <tr>\n",
              "      <th>100833</th>\n",
              "      <td>610</td>\n",
              "      <td>168250</td>\n",
              "      <td>5.0</td>\n",
              "      <td>2017-05-08 19:50:47</td>\n",
              "    </tr>\n",
              "    <tr>\n",
              "      <th>100834</th>\n",
              "      <td>610</td>\n",
              "      <td>168252</td>\n",
              "      <td>5.0</td>\n",
              "      <td>2017-05-03 21:19:12</td>\n",
              "    </tr>\n",
              "    <tr>\n",
              "      <th>100835</th>\n",
              "      <td>610</td>\n",
              "      <td>170875</td>\n",
              "      <td>3.0</td>\n",
              "      <td>2017-05-03 21:20:15</td>\n",
              "    </tr>\n",
              "  </tbody>\n",
              "</table>\n",
              "<p>100836 rows × 4 columns</p>\n",
              "</div>"
            ],
            "text/plain": [
              "        userId  movieId  rating           timestamp\n",
              "0            1        1     4.0 2000-07-30 18:45:03\n",
              "1            1        3     4.0 2000-07-30 18:20:47\n",
              "2            1        6     4.0 2000-07-30 18:37:04\n",
              "3            1       47     5.0 2000-07-30 19:03:35\n",
              "4            1       50     5.0 2000-07-30 18:48:51\n",
              "...        ...      ...     ...                 ...\n",
              "100831     610   166534     4.0 2017-05-03 21:53:22\n",
              "100832     610   168248     5.0 2017-05-03 22:21:31\n",
              "100833     610   168250     5.0 2017-05-08 19:50:47\n",
              "100834     610   168252     5.0 2017-05-03 21:19:12\n",
              "100835     610   170875     3.0 2017-05-03 21:20:15\n",
              "\n",
              "[100836 rows x 4 columns]"
            ]
          },
          "metadata": {
            "tags": []
          },
          "execution_count": 88
        }
      ]
    },
    {
      "cell_type": "markdown",
      "metadata": {
        "id": "jR1htSSzFr95"
      },
      "source": [
        "## 나와 친구들의 평점 데이터 붙이기"
      ]
    },
    {
      "cell_type": "code",
      "metadata": {
        "colab": {
          "base_uri": "https://localhost:8080/",
          "height": 373
        },
        "id": "EgM0M5W6CbCs",
        "outputId": "aee4176d-ad38-4a91-8081-2fbb24d809e6"
      },
      "source": [
        "myratings = pd.read_csv('/content/drive/MyDrive/추천시스템 입문반/DATA/ml-latest-small/my-ratings.csv')\r\n",
        "myratings"
      ],
      "execution_count": null,
      "outputs": [
        {
          "output_type": "execute_result",
          "data": {
            "text/html": [
              "<div>\n",
              "<style scoped>\n",
              "    .dataframe tbody tr th:only-of-type {\n",
              "        vertical-align: middle;\n",
              "    }\n",
              "\n",
              "    .dataframe tbody tr th {\n",
              "        vertical-align: top;\n",
              "    }\n",
              "\n",
              "    .dataframe thead th {\n",
              "        text-align: right;\n",
              "    }\n",
              "</style>\n",
              "<table border=\"1\" class=\"dataframe\">\n",
              "  <thead>\n",
              "    <tr style=\"text-align: right;\">\n",
              "      <th></th>\n",
              "      <th>userId</th>\n",
              "      <th>movieId</th>\n",
              "      <th>rating</th>\n",
              "      <th>timestamp</th>\n",
              "    </tr>\n",
              "  </thead>\n",
              "  <tbody>\n",
              "    <tr>\n",
              "      <th>0</th>\n",
              "      <td>1000</td>\n",
              "      <td>175303</td>\n",
              "      <td>3.0</td>\n",
              "      <td>2020-12-14 16:04:30</td>\n",
              "    </tr>\n",
              "    <tr>\n",
              "      <th>1</th>\n",
              "      <td>1000</td>\n",
              "      <td>109374</td>\n",
              "      <td>4.5</td>\n",
              "      <td>2020-12-14 16:04:30</td>\n",
              "    </tr>\n",
              "    <tr>\n",
              "      <th>2</th>\n",
              "      <td>1000</td>\n",
              "      <td>160080</td>\n",
              "      <td>2.0</td>\n",
              "      <td>2020-12-14 16:04:30</td>\n",
              "    </tr>\n",
              "    <tr>\n",
              "      <th>3</th>\n",
              "      <td>1000</td>\n",
              "      <td>107406</td>\n",
              "      <td>4.5</td>\n",
              "      <td>2020-12-14 16:04:30</td>\n",
              "    </tr>\n",
              "    <tr>\n",
              "      <th>4</th>\n",
              "      <td>1000</td>\n",
              "      <td>73881</td>\n",
              "      <td>5.0</td>\n",
              "      <td>2020-12-14 16:04:30</td>\n",
              "    </tr>\n",
              "    <tr>\n",
              "      <th>5</th>\n",
              "      <td>1001</td>\n",
              "      <td>73881</td>\n",
              "      <td>4.0</td>\n",
              "      <td>2020-12-14 16:06:30</td>\n",
              "    </tr>\n",
              "    <tr>\n",
              "      <th>6</th>\n",
              "      <td>1002</td>\n",
              "      <td>175303</td>\n",
              "      <td>3.5</td>\n",
              "      <td>2020-12-14 20:37:30</td>\n",
              "    </tr>\n",
              "    <tr>\n",
              "      <th>7</th>\n",
              "      <td>1002</td>\n",
              "      <td>109374</td>\n",
              "      <td>3.5</td>\n",
              "      <td>2020-12-14 20:37:30</td>\n",
              "    </tr>\n",
              "    <tr>\n",
              "      <th>8</th>\n",
              "      <td>1002</td>\n",
              "      <td>160080</td>\n",
              "      <td>4.5</td>\n",
              "      <td>2020-12-14 20:37:30</td>\n",
              "    </tr>\n",
              "    <tr>\n",
              "      <th>9</th>\n",
              "      <td>1002</td>\n",
              "      <td>107406</td>\n",
              "      <td>3.5</td>\n",
              "      <td>2020-12-14 20:37:30</td>\n",
              "    </tr>\n",
              "    <tr>\n",
              "      <th>10</th>\n",
              "      <td>1002</td>\n",
              "      <td>73881</td>\n",
              "      <td>2.5</td>\n",
              "      <td>2020-12-14 20:37:30</td>\n",
              "    </tr>\n",
              "  </tbody>\n",
              "</table>\n",
              "</div>"
            ],
            "text/plain": [
              "    userId  movieId  rating            timestamp\n",
              "0     1000   175303     3.0  2020-12-14 16:04:30\n",
              "1     1000   109374     4.5  2020-12-14 16:04:30\n",
              "2     1000   160080     2.0  2020-12-14 16:04:30\n",
              "3     1000   107406     4.5  2020-12-14 16:04:30\n",
              "4     1000    73881     5.0  2020-12-14 16:04:30\n",
              "5     1001    73881     4.0  2020-12-14 16:06:30\n",
              "6     1002   175303     3.5  2020-12-14 20:37:30\n",
              "7     1002   109374     3.5  2020-12-14 20:37:30\n",
              "8     1002   160080     4.5  2020-12-14 20:37:30\n",
              "9     1002   107406     3.5  2020-12-14 20:37:30\n",
              "10    1002    73881     2.5  2020-12-14 20:37:30"
            ]
          },
          "metadata": {
            "tags": []
          },
          "execution_count": 102
        }
      ]
    },
    {
      "cell_type": "code",
      "metadata": {
        "id": "RqgrOt1vFzYT"
      },
      "source": [
        "# timestamp가 object로 저장되어 있기 때문에 to_datetime으로 변경해준다\r\n",
        "\r\n",
        "myratings['timestamp'] = pd.to_datetime(myratings['timestamp'])"
      ],
      "execution_count": null,
      "outputs": []
    },
    {
      "cell_type": "code",
      "metadata": {
        "colab": {
          "base_uri": "https://localhost:8080/",
          "height": 195
        },
        "id": "c8nbWtjaF7AP",
        "outputId": "a73678cb-4ce2-4382-8511-83d2d172042e"
      },
      "source": [
        "# 기존에 만들어져있던 데이터에 현주, 승혁, 준용의 영화 평점을 더해주었다\r\n",
        "\r\n",
        "ratings_concat = pd.concat([ratings, myratings])\r\n",
        "ratings_concat.tail()"
      ],
      "execution_count": null,
      "outputs": [
        {
          "output_type": "execute_result",
          "data": {
            "text/html": [
              "<div>\n",
              "<style scoped>\n",
              "    .dataframe tbody tr th:only-of-type {\n",
              "        vertical-align: middle;\n",
              "    }\n",
              "\n",
              "    .dataframe tbody tr th {\n",
              "        vertical-align: top;\n",
              "    }\n",
              "\n",
              "    .dataframe thead th {\n",
              "        text-align: right;\n",
              "    }\n",
              "</style>\n",
              "<table border=\"1\" class=\"dataframe\">\n",
              "  <thead>\n",
              "    <tr style=\"text-align: right;\">\n",
              "      <th></th>\n",
              "      <th>userId</th>\n",
              "      <th>movieId</th>\n",
              "      <th>rating</th>\n",
              "      <th>timestamp</th>\n",
              "    </tr>\n",
              "  </thead>\n",
              "  <tbody>\n",
              "    <tr>\n",
              "      <th>6</th>\n",
              "      <td>1002</td>\n",
              "      <td>175303</td>\n",
              "      <td>3.5</td>\n",
              "      <td>2020-12-14 20:37:30</td>\n",
              "    </tr>\n",
              "    <tr>\n",
              "      <th>7</th>\n",
              "      <td>1002</td>\n",
              "      <td>109374</td>\n",
              "      <td>3.5</td>\n",
              "      <td>2020-12-14 20:37:30</td>\n",
              "    </tr>\n",
              "    <tr>\n",
              "      <th>8</th>\n",
              "      <td>1002</td>\n",
              "      <td>160080</td>\n",
              "      <td>4.5</td>\n",
              "      <td>2020-12-14 20:37:30</td>\n",
              "    </tr>\n",
              "    <tr>\n",
              "      <th>9</th>\n",
              "      <td>1002</td>\n",
              "      <td>107406</td>\n",
              "      <td>3.5</td>\n",
              "      <td>2020-12-14 20:37:30</td>\n",
              "    </tr>\n",
              "    <tr>\n",
              "      <th>10</th>\n",
              "      <td>1002</td>\n",
              "      <td>73881</td>\n",
              "      <td>2.5</td>\n",
              "      <td>2020-12-14 20:37:30</td>\n",
              "    </tr>\n",
              "  </tbody>\n",
              "</table>\n",
              "</div>"
            ],
            "text/plain": [
              "    userId  movieId  rating            timestamp\n",
              "6     1002   175303     3.5  2020-12-14 20:37:30\n",
              "7     1002   109374     3.5  2020-12-14 20:37:30\n",
              "8     1002   160080     4.5  2020-12-14 20:37:30\n",
              "9     1002   107406     3.5  2020-12-14 20:37:30\n",
              "10    1002    73881     2.5  2020-12-14 20:37:30"
            ]
          },
          "metadata": {
            "tags": []
          },
          "execution_count": 103
        }
      ]
    },
    {
      "cell_type": "code",
      "metadata": {
        "id": "QFfXN9yqfu1_"
      },
      "source": [
        ""
      ],
      "execution_count": null,
      "outputs": []
    }
  ]
}