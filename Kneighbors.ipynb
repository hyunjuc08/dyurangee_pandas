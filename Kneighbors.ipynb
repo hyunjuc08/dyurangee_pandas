{
  "nbformat": 4,
  "nbformat_minor": 0,
  "metadata": {
    "colab": {
      "name": "K최근접이웃실습.ipynb",
      "provenance": [],
      "collapsed_sections": []
    },
    "kernelspec": {
      "name": "python3",
      "display_name": "Python 3"
    },
    "language_info": {
      "name": "python"
    }
  },
  "cells": [
    {
      "cell_type": "code",
      "metadata": {
        "id": "BQ0aNVEmuck_"
      },
      "source": [
        "import pandas as pd\n",
        "import numpy as np"
      ],
      "execution_count": 1,
      "outputs": []
    },
    {
      "cell_type": "code",
      "metadata": {
        "id": "vMJj0UsrvHIk"
      },
      "source": [
        "df = pd.read_csv('/content/drive/MyDrive/Colab Notebooks/Fish.csv')"
      ],
      "execution_count": 2,
      "outputs": []
    },
    {
      "cell_type": "markdown",
      "metadata": {
        "id": "PQwVXXGXxmWQ"
      },
      "source": [
        "# 캐글 생선 데이터 불러오기"
      ]
    },
    {
      "cell_type": "code",
      "metadata": {
        "colab": {
          "base_uri": "https://localhost:8080/",
          "height": 417
        },
        "id": "osrcnSzlv1N0",
        "outputId": "2f9d486e-8d3c-4a36-ea84-c67273e19847"
      },
      "source": [
        "# Bream = 도미, Smelt = 빙어\n",
        "df"
      ],
      "execution_count": 3,
      "outputs": [
        {
          "output_type": "execute_result",
          "data": {
            "text/html": [
              "<div>\n",
              "<style scoped>\n",
              "    .dataframe tbody tr th:only-of-type {\n",
              "        vertical-align: middle;\n",
              "    }\n",
              "\n",
              "    .dataframe tbody tr th {\n",
              "        vertical-align: top;\n",
              "    }\n",
              "\n",
              "    .dataframe thead th {\n",
              "        text-align: right;\n",
              "    }\n",
              "</style>\n",
              "<table border=\"1\" class=\"dataframe\">\n",
              "  <thead>\n",
              "    <tr style=\"text-align: right;\">\n",
              "      <th></th>\n",
              "      <th>Species</th>\n",
              "      <th>Weight</th>\n",
              "      <th>Length1</th>\n",
              "      <th>Length2</th>\n",
              "      <th>Length3</th>\n",
              "      <th>Height</th>\n",
              "      <th>Width</th>\n",
              "    </tr>\n",
              "  </thead>\n",
              "  <tbody>\n",
              "    <tr>\n",
              "      <th>0</th>\n",
              "      <td>Bream</td>\n",
              "      <td>242.0</td>\n",
              "      <td>23.2</td>\n",
              "      <td>25.4</td>\n",
              "      <td>30.0</td>\n",
              "      <td>11.5200</td>\n",
              "      <td>4.0200</td>\n",
              "    </tr>\n",
              "    <tr>\n",
              "      <th>1</th>\n",
              "      <td>Bream</td>\n",
              "      <td>290.0</td>\n",
              "      <td>24.0</td>\n",
              "      <td>26.3</td>\n",
              "      <td>31.2</td>\n",
              "      <td>12.4800</td>\n",
              "      <td>4.3056</td>\n",
              "    </tr>\n",
              "    <tr>\n",
              "      <th>2</th>\n",
              "      <td>Bream</td>\n",
              "      <td>340.0</td>\n",
              "      <td>23.9</td>\n",
              "      <td>26.5</td>\n",
              "      <td>31.1</td>\n",
              "      <td>12.3778</td>\n",
              "      <td>4.6961</td>\n",
              "    </tr>\n",
              "    <tr>\n",
              "      <th>3</th>\n",
              "      <td>Bream</td>\n",
              "      <td>363.0</td>\n",
              "      <td>26.3</td>\n",
              "      <td>29.0</td>\n",
              "      <td>33.5</td>\n",
              "      <td>12.7300</td>\n",
              "      <td>4.4555</td>\n",
              "    </tr>\n",
              "    <tr>\n",
              "      <th>4</th>\n",
              "      <td>Bream</td>\n",
              "      <td>430.0</td>\n",
              "      <td>26.5</td>\n",
              "      <td>29.0</td>\n",
              "      <td>34.0</td>\n",
              "      <td>12.4440</td>\n",
              "      <td>5.1340</td>\n",
              "    </tr>\n",
              "    <tr>\n",
              "      <th>...</th>\n",
              "      <td>...</td>\n",
              "      <td>...</td>\n",
              "      <td>...</td>\n",
              "      <td>...</td>\n",
              "      <td>...</td>\n",
              "      <td>...</td>\n",
              "      <td>...</td>\n",
              "    </tr>\n",
              "    <tr>\n",
              "      <th>154</th>\n",
              "      <td>Smelt</td>\n",
              "      <td>12.2</td>\n",
              "      <td>11.5</td>\n",
              "      <td>12.2</td>\n",
              "      <td>13.4</td>\n",
              "      <td>2.0904</td>\n",
              "      <td>1.3936</td>\n",
              "    </tr>\n",
              "    <tr>\n",
              "      <th>155</th>\n",
              "      <td>Smelt</td>\n",
              "      <td>13.4</td>\n",
              "      <td>11.7</td>\n",
              "      <td>12.4</td>\n",
              "      <td>13.5</td>\n",
              "      <td>2.4300</td>\n",
              "      <td>1.2690</td>\n",
              "    </tr>\n",
              "    <tr>\n",
              "      <th>156</th>\n",
              "      <td>Smelt</td>\n",
              "      <td>12.2</td>\n",
              "      <td>12.1</td>\n",
              "      <td>13.0</td>\n",
              "      <td>13.8</td>\n",
              "      <td>2.2770</td>\n",
              "      <td>1.2558</td>\n",
              "    </tr>\n",
              "    <tr>\n",
              "      <th>157</th>\n",
              "      <td>Smelt</td>\n",
              "      <td>19.7</td>\n",
              "      <td>13.2</td>\n",
              "      <td>14.3</td>\n",
              "      <td>15.2</td>\n",
              "      <td>2.8728</td>\n",
              "      <td>2.0672</td>\n",
              "    </tr>\n",
              "    <tr>\n",
              "      <th>158</th>\n",
              "      <td>Smelt</td>\n",
              "      <td>19.9</td>\n",
              "      <td>13.8</td>\n",
              "      <td>15.0</td>\n",
              "      <td>16.2</td>\n",
              "      <td>2.9322</td>\n",
              "      <td>1.8792</td>\n",
              "    </tr>\n",
              "  </tbody>\n",
              "</table>\n",
              "<p>159 rows × 7 columns</p>\n",
              "</div>"
            ],
            "text/plain": [
              "    Species  Weight  Length1  Length2  Length3   Height   Width\n",
              "0     Bream   242.0     23.2     25.4     30.0  11.5200  4.0200\n",
              "1     Bream   290.0     24.0     26.3     31.2  12.4800  4.3056\n",
              "2     Bream   340.0     23.9     26.5     31.1  12.3778  4.6961\n",
              "3     Bream   363.0     26.3     29.0     33.5  12.7300  4.4555\n",
              "4     Bream   430.0     26.5     29.0     34.0  12.4440  5.1340\n",
              "..      ...     ...      ...      ...      ...      ...     ...\n",
              "154   Smelt    12.2     11.5     12.2     13.4   2.0904  1.3936\n",
              "155   Smelt    13.4     11.7     12.4     13.5   2.4300  1.2690\n",
              "156   Smelt    12.2     12.1     13.0     13.8   2.2770  1.2558\n",
              "157   Smelt    19.7     13.2     14.3     15.2   2.8728  2.0672\n",
              "158   Smelt    19.9     13.8     15.0     16.2   2.9322  1.8792\n",
              "\n",
              "[159 rows x 7 columns]"
            ]
          },
          "metadata": {
            "tags": []
          },
          "execution_count": 3
        }
      ]
    },
    {
      "cell_type": "code",
      "metadata": {
        "colab": {
          "base_uri": "https://localhost:8080/"
        },
        "id": "MMUwtOeG2uOB",
        "outputId": "5ff43982-c299-4de5-b8b1-6747794aee79"
      },
      "source": [
        "# 잊지말자 Pandas에서 distinct()는 unique()!! 총 7마리의 물고기에 대한 데이터이다\n",
        "df['Species'].unique()"
      ],
      "execution_count": null,
      "outputs": [
        {
          "output_type": "execute_result",
          "data": {
            "text/plain": [
              "array(['Bream', 'Roach', 'Whitefish', 'Parkki', 'Perch', 'Pike', 'Smelt'],\n",
              "      dtype=object)"
            ]
          },
          "metadata": {
            "tags": []
          },
          "execution_count": 31
        }
      ]
    },
    {
      "cell_type": "code",
      "metadata": {
        "colab": {
          "base_uri": "https://localhost:8080/",
          "height": 297
        },
        "id": "Q9peLb05v1qA",
        "outputId": "e6259e87-08d4-45f6-c529-ab020c152e33"
      },
      "source": [
        "# 가장 구분하기 쉬운 도미 - 빙어 데이터로만 실습\n",
        "\n",
        "import matplotlib.pyplot as plt\n",
        "\n",
        "plt.scatter(df.loc[df['Species'] == 'Bream', 'Length2'], df.loc[df['Species'] == 'Bream', 'Weight'])\n",
        "plt.scatter(df.loc[df['Species'] == 'Smelt', 'Length2'], df.loc[df['Species'] == 'Smelt', 'Weight'])\n",
        "plt.xlabel('length')\n",
        "plt.ylabel('weight')\n",
        "plt.show"
      ],
      "execution_count": 20,
      "outputs": [
        {
          "output_type": "execute_result",
          "data": {
            "text/plain": [
              "<function matplotlib.pyplot.show>"
            ]
          },
          "metadata": {
            "tags": []
          },
          "execution_count": 20
        },
        {
          "output_type": "display_data",
          "data": {
            "image/png": "[encoded data removed]",
            "text/plain": [
              "<Figure size 432x288 with 1 Axes>"
            ]
          },
          "metadata": {
            "tags": [],
            "needs_background": "light"
          }
        }
      ]
    },
    {
      "cell_type": "markdown",
      "metadata": {
        "id": "vvk8g9hlxiby"
      },
      "source": [
        "# K-최근접 이웃 알고리즘 (K-Nearest Neighbors)"
      ]
    },
    {
      "cell_type": "markdown",
      "metadata": {
        "id": "6brwvG9c4Ran"
      },
      "source": [
        "## 도미와 빙어인 경우만 불러와서 2차원 리스트로 만들기"
      ]
    },
    {
      "cell_type": "code",
      "metadata": {
        "id": "6Bnb1dLzxEgZ"
      },
      "source": [
        "length = df.loc[(df['Species'] == 'Bream') | (df['Species'] == 'Smelt')  , 'Length2'].to_list()\n",
        "weight = df.loc[(df['Species'] == 'Bream') | (df['Species'] == 'Smelt')  , 'Weight'].to_list()"
      ],
      "execution_count": 3,
      "outputs": []
    },
    {
      "cell_type": "code",
      "metadata": {
        "id": "69NaJCV9y7Eg"
      },
      "source": [
        "# 생선의 길이와 무게, 두 개의 값을 한 번에 모델에 넣어주기 위해서 2차원 리스트로 만들 필요가 있음\n",
        "# zip()은 길이가 같은 n개의 리스트를 말아주고 이것을 슬라이스 할 수 있게 해주는 코드 (dict, tuple, list 형태 모두 가능하다)\n",
        "\n",
        "fish_data = [[l,w] for l, w in zip(length, weight)]"
      ],
      "execution_count": 4,
      "outputs": []
    },
    {
      "cell_type": "code",
      "metadata": {
        "colab": {
          "base_uri": "https://localhost:8080/"
        },
        "id": "GEcjGjXqzoGf",
        "outputId": "bd30e6ce-b086-410d-e352-292c8a3e1df4"
      },
      "source": [
        "# 2차원 리스트 5개만 보여주기\n",
        "\n",
        "fish_data[:5]"
      ],
      "execution_count": null,
      "outputs": [
        {
          "output_type": "execute_result",
          "data": {
            "text/plain": [
              "[[25.4, 242.0], [26.3, 290.0], [26.5, 340.0], [29.0, 363.0], [29.0, 430.0]]"
            ]
          },
          "metadata": {
            "tags": []
          },
          "execution_count": 46
        }
      ]
    },
    {
      "cell_type": "code",
      "metadata": {
        "id": "Rry765Qjzo1n"
      },
      "source": [
        "fish_target = df.loc[(df['Species'] == 'Bream') | (df['Species'] == 'Smelt')  , 'Species'].to_list()"
      ],
      "execution_count": 5,
      "outputs": []
    },
    {
      "cell_type": "code",
      "metadata": {
        "colab": {
          "base_uri": "https://localhost:8080/"
        },
        "id": "ztWHsU4L11e2",
        "outputId": "a3c12374-c6a6-4a3e-89bd-601c70490a51"
      },
      "source": [
        "fish_target[-5:]"
      ],
      "execution_count": null,
      "outputs": [
        {
          "output_type": "execute_result",
          "data": {
            "text/plain": [
              "['Smelt', 'Smelt', 'Smelt', 'Smelt', 'Smelt']"
            ]
          },
          "metadata": {
            "tags": []
          },
          "execution_count": 50
        }
      ]
    },
    {
      "cell_type": "markdown",
      "metadata": {
        "id": "3p350hgd4YkV"
      },
      "source": [
        "## 최근접 이웃 알고리즘 요약\n",
        "* 실제로 학습을 시킨다기 보다는 데이터를 다 저장해두고 (들고) 있다가, 다른 데이터가 입력되었을 때, 들고 있는 데이터들과의 직선 거리를 구해서 어떤 class인지 반환하는 것, 따라서 데이터 양이 엄청 많아지면 사용하기 어렵다\n",
        "* 디폴트가 가장 가까운 5개와의 거리를 구하는 것이지만, 사용자 마음대로 정할 수도 있다\n",
        "* 디폴트는 유클리디안거리이고, 'p=' 매개로 맨해튼 거리로 변경할 수 있음 (1로 변경하면 됨)\n",
        "* 기억하자, fit(), score(), predict()"
      ]
    },
    {
      "cell_type": "code",
      "metadata": {
        "id": "ft40AChA131d"
      },
      "source": [
        "from sklearn.neighbors import KNeighborsClassifier"
      ],
      "execution_count": 6,
      "outputs": []
    },
    {
      "cell_type": "code",
      "metadata": {
        "id": "Q4niAEY72ONs"
      },
      "source": [
        "kn = KNeighborsClassifier(p=2)"
      ],
      "execution_count": 7,
      "outputs": []
    },
    {
      "cell_type": "code",
      "metadata": {
        "colab": {
          "base_uri": "https://localhost:8080/"
        },
        "id": "oGBVU2tE2P9l",
        "outputId": "e8ca0bc5-220f-4b1a-9db0-11458dc73924"
      },
      "source": [
        "kn.fit(fish_data, fish_target)"
      ],
      "execution_count": null,
      "outputs": [
        {
          "output_type": "execute_result",
          "data": {
            "text/plain": [
              "KNeighborsClassifier(algorithm='auto', leaf_size=30, metric='minkowski',\n",
              "                     metric_params=None, n_jobs=None, n_neighbors=5, p=2,\n",
              "                     weights='uniform')"
            ]
          },
          "metadata": {
            "tags": []
          },
          "execution_count": 73
        }
      ]
    },
    {
      "cell_type": "code",
      "metadata": {
        "colab": {
          "base_uri": "https://localhost:8080/"
        },
        "id": "o1xVhyu52Tkz",
        "outputId": "f977e568-74dd-4b20-ed69-ee7ebdfffd4c"
      },
      "source": [
        "# 사이킷런에서 모델을 평가하는 메서드 score()\n",
        "\n",
        "kn.score(fish_data, fish_target)"
      ],
      "execution_count": null,
      "outputs": [
        {
          "output_type": "execute_result",
          "data": {
            "text/plain": [
              "1.0"
            ]
          },
          "metadata": {
            "tags": []
          },
          "execution_count": 74
        }
      ]
    },
    {
      "cell_type": "code",
      "metadata": {
        "colab": {
          "base_uri": "https://localhost:8080/"
        },
        "id": "DQf8hINo2bZR",
        "outputId": "5b3ff811-4d2d-4549-9672-15670dc8e08f"
      },
      "source": [
        "# length 30, weight 600인 경우는 어떤 생선인지 predict 시키는 것. 이 때, 가장 가까운 데이터 5개와 직선거리를 계산해서 답을 도출하는 것\n",
        "\n",
        "print(kn.predict([[30,600]]))\n",
        "print(kn.predict([[12,150]]))"
      ],
      "execution_count": null,
      "outputs": [
        {
          "output_type": "stream",
          "text": [
            "['Bream']\n",
            "['Smelt']\n"
          ],
          "name": "stdout"
        }
      ]
    },
    {
      "cell_type": "code",
      "metadata": {
        "colab": {
          "base_uri": "https://localhost:8080/",
          "height": 297
        },
        "id": "iykf0aCn2iPW",
        "outputId": "df07bd37-80f5-40ed-d136-1cb7155b2569"
      },
      "source": [
        "plt.scatter(df.loc[df['Species'] == 'Bream', 'Length2'], df.loc[df['Species'] == 'Bream', 'Weight'])\n",
        "plt.scatter(df.loc[df['Species'] == 'Smelt', 'Length2'], df.loc[df['Species'] == 'Smelt', 'Weight'])\n",
        "plt.scatter(30, 600, marker = '^') # 세모로 표시할 때\n",
        "plt.scatter(12, 150, marker = 'P') # 플러스(+)로 표시할 때\n",
        "plt.xlabel('length')\n",
        "plt.ylabel('weight')\n",
        "plt.show"
      ],
      "execution_count": null,
      "outputs": [
        {
          "output_type": "execute_result",
          "data": {
            "text/plain": [
              "<function matplotlib.pyplot.show>"
            ]
          },
          "metadata": {
            "tags": []
          },
          "execution_count": 76
        },
        {
          "output_type": "display_data",
          "data": {
            "image/png": "[encoded data removed]",
            "text/plain": [
              "<Figure size 432x288 with 1 Axes>"
            ]
          },
          "metadata": {
            "tags": [],
            "needs_background": "light"
          }
        }
      ]
    },
    {
      "cell_type": "code",
      "metadata": {
        "colab": {
          "base_uri": "https://localhost:8080/"
        },
        "id": "lXbjNvp663MN",
        "outputId": "cf48a1ce-087b-4261-e342-a2921818865f"
      },
      "source": [
        "kn49 = KNeighborsClassifier(n_neighbors=49) #총 데이터 개수인 49개를 근접 이웃으로 설정\n",
        "kn49.fit(fish_data, fish_target)\n",
        "print(kn49.score(fish_data, fish_target))\n",
        "print(35/49) # 데이터 중 더 많은 비중을 차지하는 도미로만 판별됨"
      ],
      "execution_count": null,
      "outputs": [
        {
          "output_type": "stream",
          "text": [
            "0.7142857142857143\n",
            "0.7142857142857143\n"
          ],
          "name": "stdout"
        }
      ]
    },
    {
      "cell_type": "code",
      "metadata": {
        "colab": {
          "base_uri": "https://localhost:8080/"
        },
        "id": "FHasbZsm5fJk",
        "outputId": "29e6b68d-65d0-495c-8cc7-000c428f9f75"
      },
      "source": [
        "# 처음 score가 1 밑으로 내려가는 이웃 숫자 구하기\n",
        "\n",
        "for i in range (5, 50):\n",
        "  kn.n_neighbors = i #.n_neighbors는 몇 개의 이웃으로 설정할 것인지 지정해주는 것\n",
        "  score = kn.score(fish_data, fish_target)\n",
        "  if score < 1:\n",
        "    print(i, score)\n",
        "    break"
      ],
      "execution_count": null,
      "outputs": [
        {
          "output_type": "stream",
          "text": [
            "19 0.9795918367346939\n"
          ],
          "name": "stdout"
        }
      ]
    },
    {
      "cell_type": "markdown",
      "metadata": {
        "id": "kmX7h-mC0NgV"
      },
      "source": [
        "# Test set / Train set 나누기"
      ]
    },
    {
      "cell_type": "markdown",
      "metadata": {
        "id": "DQcN-Qkd0ob6"
      },
      "source": [
        "## 넘파이 배열 활용하여 데이터 전처리하기\n",
        "* 파이썬 리스트는 큰 데이터를 활용할 때는 속도가 굉장히 느려서, 넘파이 배열로 바꾸는 것이 중요하다"
      ]
    },
    {
      "cell_type": "code",
      "metadata": {
        "id": "PLqTiMIk7pe1"
      },
      "source": [
        "# np.column_stack() 함수는 각 리스트를 세로로 일렬로 세워서 붙여주는 역할을 함\n",
        "\n",
        "fish_data = np.column_stack((length, weight))"
      ],
      "execution_count": 8,
      "outputs": []
    },
    {
      "cell_type": "code",
      "metadata": {
        "colab": {
          "base_uri": "https://localhost:8080/"
        },
        "id": "KbSeWvyq026V",
        "outputId": "727094c3-f301-4a8d-85cf-6b6a3ecbe5e9"
      },
      "source": [
        "fish_data[:5]"
      ],
      "execution_count": 9,
      "outputs": [
        {
          "output_type": "execute_result",
          "data": {
            "text/plain": [
              "array([[ 25.4, 242. ],\n",
              "       [ 26.3, 290. ],\n",
              "       [ 26.5, 340. ],\n",
              "       [ 29. , 363. ],\n",
              "       [ 29. , 430. ]])"
            ]
          },
          "metadata": {
            "tags": []
          },
          "execution_count": 9
        }
      ]
    },
    {
      "cell_type": "code",
      "metadata": {
        "id": "cb0QaiMC1PdS"
      },
      "source": [
        "# 파이썬 리스트를 numpy 배열로 바꿔주는 함수 to_numpy\n",
        "\n",
        "fish_target = df.loc[(df['Species'] == 'Bream') | (df['Species'] == 'Smelt')  , 'Species'].to_numpy()"
      ],
      "execution_count": 10,
      "outputs": []
    },
    {
      "cell_type": "code",
      "metadata": {
        "colab": {
          "base_uri": "https://localhost:8080/"
        },
        "id": "V__EbHxN1UCk",
        "outputId": "92f339c6-288c-4fab-92d1-d3878fd40ce6"
      },
      "source": [
        "# 책에서 나온 방법은 아래와 같다. np.concatenate을 써서 한줄의 긴 넘파이 배열을 만들어 주는 것\n",
        "temp = np.concatenate((np.ones(35), np.zeros(14)))\n",
        "print(type(fish_target))\n",
        "print(type(temp))"
      ],
      "execution_count": 11,
      "outputs": [
        {
          "output_type": "stream",
          "text": [
            "<class 'numpy.ndarray'>\n",
            "<class 'numpy.ndarray'>\n"
          ],
          "name": "stdout"
        }
      ]
    },
    {
      "cell_type": "markdown",
      "metadata": {
        "id": "Fn7rjJKI2TDj"
      },
      "source": [
        "\n",
        "## 사이킷런 train test split\n",
        "* 디폴트로 test set를 25%로 떼어내준다\n",
        "* stratify에 타겟 데이터를 지정해주면 동일한 비율로 나누어준다"
      ]
    },
    {
      "cell_type": "code",
      "metadata": {
        "id": "Fs5cs3kA1eIq"
      },
      "source": [
        "from sklearn.model_selection import train_test_split"
      ],
      "execution_count": 12,
      "outputs": []
    },
    {
      "cell_type": "code",
      "metadata": {
        "id": "ssVKG-Mi14Fb"
      },
      "source": [
        "# train-test / input-output 순으로 배열 생성\n",
        "# stratify에 타깃데이터를 전달해서 비율을 일정하게 맞춘다\n",
        "\n",
        "train_input, test_input, train_target, test_target = train_test_split(fish_data, fish_target, stratify = fish_target, random_state = 42)"
      ],
      "execution_count": 13,
      "outputs": []
    },
    {
      "cell_type": "code",
      "metadata": {
        "colab": {
          "base_uri": "https://localhost:8080/"
        },
        "id": "GcsI_-fv6ucL",
        "outputId": "7561be35-1ab4-4301-a410-b8363a51cd29"
      },
      "source": [
        "print(train_input.shape, test_input.shape)\n",
        "print(train_target.shape, test_target.shape)\n",
        "type(train_input) #역시 넘파이 배열이다!"
      ],
      "execution_count": 14,
      "outputs": [
        {
          "output_type": "stream",
          "text": [
            "(36, 2) (13, 2)\n",
            "(36,) (13,)\n"
          ],
          "name": "stdout"
        },
        {
          "output_type": "execute_result",
          "data": {
            "text/plain": [
              "numpy.ndarray"
            ]
          },
          "metadata": {
            "tags": []
          },
          "execution_count": 14
        }
      ]
    },
    {
      "cell_type": "code",
      "metadata": {
        "colab": {
          "base_uri": "https://localhost:8080/",
          "height": 279
        },
        "id": "wq2-MEqu9oOB",
        "outputId": "dbe0a650-77ea-47da-bcfb-74081944abcb"
      },
      "source": [
        "plt.scatter(train_input[:,0], train_input[:,1]) #넘파이 배열 인덱싱은 판다스와 동일\n",
        "plt.scatter(test_input[:,0], test_input[:,1])\n",
        "plt.xlabel('length')\n",
        "plt.ylabel('weight')\n",
        "plt.show()"
      ],
      "execution_count": 21,
      "outputs": [
        {
          "output_type": "display_data",
          "data": {
            "image/png": "[encoded data removed]",
            "text/plain": [
              "<Figure size 432x288 with 1 Axes>"
            ]
          },
          "metadata": {
            "tags": [],
            "needs_background": "light"
          }
        }
      ]
    },
    {
      "cell_type": "code",
      "metadata": {
        "id": "1Uz8CPKU6wt3"
      },
      "source": [
        "#넘파이 배열에서 원하는 것만 불러오려면 슬라이싱 하듯이 [ ] 에 조건을 써준다\n",
        "print(len(fish_target[fish_target == 'Bream']) / len(fish_target) *100)\n",
        "print(len(test_target[test_target == 'Bream']) / len(test_target) *100)"
      ],
      "execution_count": null,
      "outputs": []
    },
    {
      "cell_type": "code",
      "metadata": {
        "colab": {
          "base_uri": "https://localhost:8080/"
        },
        "id": "f9DqCxCd7GCw",
        "outputId": "5a0e6fd6-1900-48e5-888f-b207f5bfe273"
      },
      "source": [
        "kn.fit(train_input, train_target) # KNeighborsClassifer로 fit 해주고\n",
        "kn.score(test_input, test_target) # score는 test 데이터를 넣어서 도출"
      ],
      "execution_count": 16,
      "outputs": [
        {
          "output_type": "execute_result",
          "data": {
            "text/plain": [
              "1.0"
            ]
          },
          "metadata": {
            "tags": []
          },
          "execution_count": 16
        }
      ]
    },
    {
      "cell_type": "markdown",
      "metadata": {
        "id": "BY1Iwlu2BWBH"
      },
      "source": [
        "# 근접한 데이터로 결과를 내는 **거리기반 모델링**은 스케일이 중요하다"
      ]
    },
    {
      "cell_type": "markdown",
      "metadata": {
        "id": "qoUFEy38Cu-D"
      },
      "source": [
        "## 길이 25, 무게 150인 도미로 테스트 해보기\n",
        "* kn.n_neighbors는 근접 이웃 몇 개를 활용할 것인지, kn.kneighbors는 근접 이웃들과의 거리와 인덱스를 반환\n",
        "* kneighbors 모델은 맨해튼 / 유클리드 거리를 사용하기 때문에, 축의 범위가 동일하지 않은 경우, 더 넓은 구간의 축에서 멀리 떨어져있으면 가깝지 않다고 판별하게 된다. 따라서 scaling이 필수적임"
      ]
    },
    {
      "cell_type": "code",
      "metadata": {
        "colab": {
          "base_uri": "https://localhost:8080/"
        },
        "id": "Xxim34Sr-Zmz",
        "outputId": "a3568c29-1563-41ce-b518-21c1fe5d5e58"
      },
      "source": [
        "kn.predict([[25, 150]]) # 빙어로 분류가 된다"
      ],
      "execution_count": 22,
      "outputs": [
        {
          "output_type": "execute_result",
          "data": {
            "text/plain": [
              "array(['Smelt'], dtype=object)"
            ]
          },
          "metadata": {
            "tags": []
          },
          "execution_count": 22
        }
      ]
    },
    {
      "cell_type": "code",
      "metadata": {
        "colab": {
          "base_uri": "https://localhost:8080/",
          "height": 279
        },
        "id": "bpP6K3miC2Ii",
        "outputId": "11ee24b0-02e1-46e6-8a77-b614c3cd006d"
      },
      "source": [
        "# 근데 막상 그림을 그려보면 도미에 더 가까운 것을 볼 수 있다\n",
        "plt.scatter(df.loc[df['Species'] == 'Bream', 'Length2'], df.loc[df['Species'] == 'Bream', 'Weight'])\n",
        "plt.scatter(df.loc[df['Species'] == 'Smelt', 'Length2'], df.loc[df['Species'] == 'Smelt', 'Weight'])\n",
        "plt.scatter(25, 150, marker = '^')\n",
        "plt.xlabel('length')\n",
        "plt.ylabel('weight')\n",
        "plt.show()"
      ],
      "execution_count": 23,
      "outputs": [
        {
          "output_type": "display_data",
          "data": {
            "image/png": "[encoded data removed]",
            "text/plain": [
              "<Figure size 432x288 with 1 Axes>"
            ]
          },
          "metadata": {
            "tags": [],
            "needs_background": "light"
          }
        }
      ]
    },
    {
      "cell_type": "code",
      "metadata": {
        "colab": {
          "base_uri": "https://localhost:8080/"
        },
        "id": "l9s1dlMdDNDs",
        "outputId": "fc40fa02-da08-42da-8341-eba8b1c7c812"
      },
      "source": [
        "print(kn.kneighbors([[25, 150]]))\n",
        "distances, indexes = kn.kneighbors([[25, 150]])"
      ],
      "execution_count": 24,
      "outputs": [
        {
          "output_type": "stream",
          "text": [
            "(array([[ 92.00086956, 130.73859415, 137.17988191, 138.39320793,\n",
            "        140.00603558]]), array([[11, 20, 13, 22, 15]]))\n"
          ],
          "name": "stdout"
        }
      ]
    },
    {
      "cell_type": "code",
      "metadata": {
        "colab": {
          "base_uri": "https://localhost:8080/",
          "height": 279
        },
        "id": "6RzKVY7pDvy8",
        "outputId": "ace53cb2-277f-4578-fc46-7e4fae6ee3b2"
      },
      "source": [
        "# 위의 그래프를 다시 그려서 25, 150 생선 근처의 이웃들을 확인해보기\n",
        "plt.scatter(train_input[:,0], train_input[:,1])\n",
        "plt.scatter(25, 150, marker = '^')\n",
        "plt.scatter(train_input[indexes,0], train_input[indexes, 1], marker='D') #넘파이배열 행 자리에 위의 index를 넣으면 하나씩 빼와서 그려진다\n",
        "plt.xlabel('length')\n",
        "plt.ylabel('weight')\n",
        "plt.show()\n",
        "# 세모와 동그라미들이 더 가까움에도, y축에서 많이 차이가 나서 이웃으로 분류되지 않은 것"
      ],
      "execution_count": 25,
      "outputs": [
        {
          "output_type": "display_data",
          "data": {
            "image/png": "[encoded data removed]",
            "text/plain": [
              "<Figure size 432x288 with 1 Axes>"
            ]
          },
          "metadata": {
            "tags": [],
            "needs_background": "light"
          }
        }
      ]
    },
    {
      "cell_type": "markdown",
      "metadata": {
        "id": "p01kGgtYjp4s"
      },
      "source": [
        "## 표준점수로 스케일링하기 (Z-Score)\n",
        "* train set의 평균과 표준편차고 z통계량을 구해주고, test set으로 확인할 때도 역시 같은 값으로 처리해주어야 한다"
      ]
    },
    {
      "cell_type": "code",
      "metadata": {
        "colab": {
          "base_uri": "https://localhost:8080/"
        },
        "id": "l2YLytiiFsYc",
        "outputId": "6deacba9-f76d-4b9e-e867-edc6ac011675"
      },
      "source": [
        "# length & weight의 평균과 표준편차를 구해줌\n",
        "mean = np.mean(train_input, axis =0)\n",
        "std = np.std(train_input, axis=0)\n",
        "print(mean)\n",
        "print(std)"
      ],
      "execution_count": 26,
      "outputs": [
        {
          "output_type": "stream",
          "text": [
            "[ 26.93333333 441.98333333]\n",
            "[ 10.09141549 325.61300692]\n"
          ],
          "name": "stdout"
        }
      ]
    },
    {
      "cell_type": "code",
      "metadata": {
        "id": "UVrYZ_MSk7AA"
      },
      "source": [
        "train_scaled = (train_input - mean) / std"
      ],
      "execution_count": 27,
      "outputs": []
    },
    {
      "cell_type": "code",
      "metadata": {
        "colab": {
          "base_uri": "https://localhost:8080/",
          "height": 279
        },
        "id": "cH0oGTPelc-1",
        "outputId": "507146e4-638a-4111-eb8e-e8c4b5aa59be"
      },
      "source": [
        "new = ([25,150] - mean) / std #array 형태로 되어 있어도 열 순서에 따라서 알아서 계산해주는데, 이게 브로드캐스팅 (배열 사이에서 일어남)\n",
        "plt.scatter(train_scaled[:,0], train_scaled[:,1])\n",
        "plt.scatter(new[0], new[1], marker = '^')\n",
        "plt.xlabel('length')\n",
        "plt.ylabel('weight')\n",
        "plt.show()"
      ],
      "execution_count": 28,
      "outputs": [
        {
          "output_type": "display_data",
          "data": {
            "image/png": "[encoded data removed]",
            "text/plain": [
              "<Figure size 432x288 with 1 Axes>"
            ]
          },
          "metadata": {
            "tags": [],
            "needs_background": "light"
          }
        }
      ]
    },
    {
      "cell_type": "code",
      "metadata": {
        "colab": {
          "base_uri": "https://localhost:8080/"
        },
        "id": "A9Ydu5CemTWU",
        "outputId": "26054f55-372f-46a6-b202-66f6ad5585c4"
      },
      "source": [
        "kn.fit(train_scaled, train_target)"
      ],
      "execution_count": 33,
      "outputs": [
        {
          "output_type": "execute_result",
          "data": {
            "text/plain": [
              "KNeighborsClassifier(algorithm='auto', leaf_size=30, metric='minkowski',\n",
              "                     metric_params=None, n_jobs=None, n_neighbors=5, p=2,\n",
              "                     weights='uniform')"
            ]
          },
          "metadata": {
            "tags": []
          },
          "execution_count": 33
        }
      ]
    },
    {
      "cell_type": "code",
      "metadata": {
        "id": "Q14b8NVzmdYe"
      },
      "source": [
        "# 스케일을 맞춰주기 위한 것이기 때문에 train set의 평균과 표준편차로 맞춰줘야 한다\n",
        "test_scaled = (test_input - mean)/std"
      ],
      "execution_count": 31,
      "outputs": []
    },
    {
      "cell_type": "code",
      "metadata": {
        "colab": {
          "base_uri": "https://localhost:8080/"
        },
        "id": "ngnI8LwVmtHC",
        "outputId": "a4f11b5b-7a16-4c76-e04e-dfa0d527472c"
      },
      "source": [
        "kn.score(test_scaled, test_target)"
      ],
      "execution_count": 34,
      "outputs": [
        {
          "output_type": "execute_result",
          "data": {
            "text/plain": [
              "1.0"
            ]
          },
          "metadata": {
            "tags": []
          },
          "execution_count": 34
        }
      ]
    },
    {
      "cell_type": "code",
      "metadata": {
        "colab": {
          "base_uri": "https://localhost:8080/"
        },
        "id": "r2ix1oaQmwDQ",
        "outputId": "2284eafa-198e-4124-ee45-367b59b4913e"
      },
      "source": [
        "kn.predict([new]) #scaling 하지 않았을 때, 빙어에서 현재 도미로 예측 성공!"
      ],
      "execution_count": 36,
      "outputs": [
        {
          "output_type": "execute_result",
          "data": {
            "text/plain": [
              "array(['Bream'], dtype=object)"
            ]
          },
          "metadata": {
            "tags": []
          },
          "execution_count": 36
        }
      ]
    },
    {
      "cell_type": "code",
      "metadata": {
        "id": "bBnAsoATnP3j"
      },
      "source": [
        ""
      ],
      "execution_count": null,
      "outputs": []
    }
  ]
}