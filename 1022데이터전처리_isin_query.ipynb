{
 "cells": [
  {
   "cell_type": "code",
   "execution_count": 37,
   "metadata": {},
   "outputs": [],
   "source": [
    "import pandas as pd\n",
    "import matplotlib as plt"
   ]
  },
  {
   "cell_type": "code",
   "execution_count": 73,
   "metadata": {},
   "outputs": [
    {
     "data": {
      "text/html": [
       "<div>\n",
       "<style scoped>\n",
       "    .dataframe tbody tr th:only-of-type {\n",
       "        vertical-align: middle;\n",
       "    }\n",
       "\n",
       "    .dataframe tbody tr th {\n",
       "        vertical-align: top;\n",
       "    }\n",
       "\n",
       "    .dataframe thead th {\n",
       "        text-align: right;\n",
       "    }\n",
       "</style>\n",
       "<table border=\"1\" class=\"dataframe\">\n",
       "  <thead>\n",
       "    <tr style=\"text-align: right;\">\n",
       "      <th></th>\n",
       "      <th>업종</th>\n",
       "      <th>시</th>\n",
       "      <th>구</th>\n",
       "      <th>연월</th>\n",
       "      <th>사업자수</th>\n",
       "      <th>서울확진자수</th>\n",
       "      <th>전국확진자수</th>\n",
       "      <th>코로나유무</th>\n",
       "    </tr>\n",
       "  </thead>\n",
       "  <tbody>\n",
       "    <tr>\n",
       "      <th>0</th>\n",
       "      <td>업종전체</td>\n",
       "      <td>서울특별시</td>\n",
       "      <td>종로구</td>\n",
       "      <td>2017-09-01</td>\n",
       "      <td>16191</td>\n",
       "      <td>0</td>\n",
       "      <td>0</td>\n",
       "      <td>코로나없음</td>\n",
       "    </tr>\n",
       "    <tr>\n",
       "      <th>1</th>\n",
       "      <td>업종전체</td>\n",
       "      <td>서울특별시</td>\n",
       "      <td>중구</td>\n",
       "      <td>2017-09-01</td>\n",
       "      <td>18068</td>\n",
       "      <td>0</td>\n",
       "      <td>0</td>\n",
       "      <td>코로나없음</td>\n",
       "    </tr>\n",
       "    <tr>\n",
       "      <th>2</th>\n",
       "      <td>업종전체</td>\n",
       "      <td>서울특별시</td>\n",
       "      <td>용산구</td>\n",
       "      <td>2017-09-01</td>\n",
       "      <td>12825</td>\n",
       "      <td>0</td>\n",
       "      <td>0</td>\n",
       "      <td>코로나없음</td>\n",
       "    </tr>\n",
       "    <tr>\n",
       "      <th>3</th>\n",
       "      <td>업종전체</td>\n",
       "      <td>서울특별시</td>\n",
       "      <td>성동구</td>\n",
       "      <td>2017-09-01</td>\n",
       "      <td>12816</td>\n",
       "      <td>0</td>\n",
       "      <td>0</td>\n",
       "      <td>코로나없음</td>\n",
       "    </tr>\n",
       "    <tr>\n",
       "      <th>4</th>\n",
       "      <td>업종전체</td>\n",
       "      <td>서울특별시</td>\n",
       "      <td>광진구</td>\n",
       "      <td>2017-09-01</td>\n",
       "      <td>15883</td>\n",
       "      <td>0</td>\n",
       "      <td>0</td>\n",
       "      <td>코로나없음</td>\n",
       "    </tr>\n",
       "  </tbody>\n",
       "</table>\n",
       "</div>"
      ],
      "text/plain": [
       "     업종      시    구         연월   사업자수  서울확진자수  전국확진자수  코로나유무\n",
       "0  업종전체  서울특별시  종로구 2017-09-01  16191       0       0  코로나없음\n",
       "1  업종전체  서울특별시   중구 2017-09-01  18068       0       0  코로나없음\n",
       "2  업종전체  서울특별시  용산구 2017-09-01  12825       0       0  코로나없음\n",
       "3  업종전체  서울특별시  성동구 2017-09-01  12816       0       0  코로나없음\n",
       "4  업종전체  서울특별시  광진구 2017-09-01  15883       0       0  코로나없음"
      ]
     },
     "execution_count": 73,
     "metadata": {},
     "output_type": "execute_result"
    }
   ],
   "source": [
    "df = pd.read_excel('업종별데이터.xlsx')\n",
    "df.head()"
   ]
  },
  {
   "cell_type": "markdown",
   "metadata": {},
   "source": [
    "## 원하는 데이터만 뽑아오는 방법"
   ]
  },
  {
   "cell_type": "code",
   "execution_count": 5,
   "metadata": {},
   "outputs": [
    {
     "data": {
      "text/plain": [
       "array(['업종전체', '간이주점', '구내식당', '기타외국식전문점', '기타음식점', '분식점', '일식전문점', '제과점',\n",
       "       '중식전문점', '커피음료점', '패스트푸드점', '한식전문점', '호프전문점', '노래방', '당구장', '목욕탕',\n",
       "       '스포츠시설운영업', 0, '헬스클럽', 'pc방'], dtype=object)"
      ]
     },
     "execution_count": 5,
     "metadata": {},
     "output_type": "execute_result"
    }
   ],
   "source": [
    "# 우선 \"업종\" 컬럼에 어떤 값들이 들어가 있는지 확인\n",
    "\n",
    "df['업종'].unique()"
   ]
  },
  {
   "cell_type": "code",
   "execution_count": 13,
   "metadata": {},
   "outputs": [],
   "source": [
    "# 음식과 관련된 업종의 데이터를 뽑아오고 싶어서 아래와 같이 리스트로 가져올 데이터를 담아주었다\n",
    "\n",
    "category = ['구내식당', '기타외국식전문점', '기타음식점', '분식점', '일식전문점', '제과점',\n",
    "       '중식전문점', '커피음료점', '패스트푸드점', '한식전문점']"
   ]
  },
  {
   "cell_type": "markdown",
   "metadata": {},
   "source": [
    "### 방법1. isin을 활용하기"
   ]
  },
  {
   "cell_type": "code",
   "execution_count": 58,
   "metadata": {},
   "outputs": [
    {
     "data": {
      "text/html": [
       "<div>\n",
       "<style scoped>\n",
       "    .dataframe tbody tr th:only-of-type {\n",
       "        vertical-align: middle;\n",
       "    }\n",
       "\n",
       "    .dataframe tbody tr th {\n",
       "        vertical-align: top;\n",
       "    }\n",
       "\n",
       "    .dataframe thead th {\n",
       "        text-align: right;\n",
       "    }\n",
       "</style>\n",
       "<table border=\"1\" class=\"dataframe\">\n",
       "  <thead>\n",
       "    <tr style=\"text-align: right;\">\n",
       "      <th></th>\n",
       "      <th>업종</th>\n",
       "      <th>시</th>\n",
       "      <th>구</th>\n",
       "      <th>연월</th>\n",
       "      <th>사업자수</th>\n",
       "      <th>서울확진자수</th>\n",
       "      <th>전국확진자수</th>\n",
       "      <th>코로나유무</th>\n",
       "    </tr>\n",
       "  </thead>\n",
       "  <tbody>\n",
       "    <tr>\n",
       "      <th>50</th>\n",
       "      <td>구내식당</td>\n",
       "      <td>서울특별시</td>\n",
       "      <td>종로구</td>\n",
       "      <td>2017-09-01</td>\n",
       "      <td>251</td>\n",
       "      <td>0</td>\n",
       "      <td>0</td>\n",
       "      <td>코로나없음</td>\n",
       "    </tr>\n",
       "    <tr>\n",
       "      <th>51</th>\n",
       "      <td>구내식당</td>\n",
       "      <td>서울특별시</td>\n",
       "      <td>중구</td>\n",
       "      <td>2017-09-01</td>\n",
       "      <td>260</td>\n",
       "      <td>0</td>\n",
       "      <td>0</td>\n",
       "      <td>코로나없음</td>\n",
       "    </tr>\n",
       "    <tr>\n",
       "      <th>52</th>\n",
       "      <td>구내식당</td>\n",
       "      <td>서울특별시</td>\n",
       "      <td>용산구</td>\n",
       "      <td>2017-09-01</td>\n",
       "      <td>371</td>\n",
       "      <td>0</td>\n",
       "      <td>0</td>\n",
       "      <td>코로나없음</td>\n",
       "    </tr>\n",
       "  </tbody>\n",
       "</table>\n",
       "</div>"
      ],
      "text/plain": [
       "      업종      시    구         연월  사업자수  서울확진자수  전국확진자수  코로나유무\n",
       "50  구내식당  서울특별시  종로구 2017-09-01   251       0       0  코로나없음\n",
       "51  구내식당  서울특별시   중구 2017-09-01   260       0       0  코로나없음\n",
       "52  구내식당  서울특별시  용산구 2017-09-01   371       0       0  코로나없음"
      ]
     },
     "execution_count": 58,
     "metadata": {},
     "output_type": "execute_result"
    }
   ],
   "source": [
    "food1 = df[df['업종'].isin(category)]\n",
    "food1.head(3)"
   ]
  },
  {
   "cell_type": "code",
   "execution_count": 80,
   "metadata": {},
   "outputs": [
    {
     "data": {
      "text/html": [
       "<div>\n",
       "<style scoped>\n",
       "    .dataframe tbody tr th:only-of-type {\n",
       "        vertical-align: middle;\n",
       "    }\n",
       "\n",
       "    .dataframe tbody tr th {\n",
       "        vertical-align: top;\n",
       "    }\n",
       "\n",
       "    .dataframe thead th {\n",
       "        text-align: right;\n",
       "    }\n",
       "</style>\n",
       "<table border=\"1\" class=\"dataframe\">\n",
       "  <thead>\n",
       "    <tr style=\"text-align: right;\">\n",
       "      <th></th>\n",
       "      <th>업종</th>\n",
       "      <th>시</th>\n",
       "      <th>구</th>\n",
       "      <th>연월</th>\n",
       "      <th>사업자수</th>\n",
       "      <th>서울확진자수</th>\n",
       "      <th>전국확진자수</th>\n",
       "      <th>코로나유무</th>\n",
       "    </tr>\n",
       "  </thead>\n",
       "  <tbody>\n",
       "    <tr>\n",
       "      <th>17499</th>\n",
       "      <td>pc방</td>\n",
       "      <td>서울특별시</td>\n",
       "      <td>강동구</td>\n",
       "      <td>2020-07-01</td>\n",
       "      <td>76</td>\n",
       "      <td>288</td>\n",
       "      <td>1509</td>\n",
       "      <td>코로나있음</td>\n",
       "    </tr>\n",
       "  </tbody>\n",
       "</table>\n",
       "</div>"
      ],
      "text/plain": [
       "        업종      시    구         연월  사업자수  서울확진자수  전국확진자수  코로나유무\n",
       "17499  pc방  서울특별시  강동구 2020-07-01    76     288    1509  코로나있음"
      ]
     },
     "execution_count": 80,
     "metadata": {},
     "output_type": "execute_result"
    }
   ],
   "source": [
    "# 앞에 ~를 붙여주면 해당되지 않는 것만 가져올 수도 있다\n",
    "\n",
    "notfood = df[~df['업종'].isin(category)]\n",
    "notfood.tail(1)"
   ]
  },
  {
   "cell_type": "markdown",
   "metadata": {},
   "source": [
    "### 방법2. query를 활용하기\n",
    "* query는 괄호 안에 들어가는 조건에 맞는 데이터만 뽑아올 수 있게 해주는 문법이다"
   ]
  },
  {
   "cell_type": "code",
   "execution_count": 64,
   "metadata": {},
   "outputs": [
    {
     "data": {
      "text/html": [
       "<div>\n",
       "<style scoped>\n",
       "    .dataframe tbody tr th:only-of-type {\n",
       "        vertical-align: middle;\n",
       "    }\n",
       "\n",
       "    .dataframe tbody tr th {\n",
       "        vertical-align: top;\n",
       "    }\n",
       "\n",
       "    .dataframe thead th {\n",
       "        text-align: right;\n",
       "    }\n",
       "</style>\n",
       "<table border=\"1\" class=\"dataframe\">\n",
       "  <thead>\n",
       "    <tr style=\"text-align: right;\">\n",
       "      <th></th>\n",
       "      <th>업종</th>\n",
       "      <th>시</th>\n",
       "      <th>구</th>\n",
       "      <th>연월</th>\n",
       "      <th>사업자수</th>\n",
       "      <th>서울확진자수</th>\n",
       "      <th>전국확진자수</th>\n",
       "      <th>코로나유무</th>\n",
       "    </tr>\n",
       "  </thead>\n",
       "  <tbody>\n",
       "    <tr>\n",
       "      <th>50</th>\n",
       "      <td>구내식당</td>\n",
       "      <td>서울특별시</td>\n",
       "      <td>종로구</td>\n",
       "      <td>2017-09-01</td>\n",
       "      <td>251</td>\n",
       "      <td>0</td>\n",
       "      <td>0</td>\n",
       "      <td>코로나없음</td>\n",
       "    </tr>\n",
       "    <tr>\n",
       "      <th>51</th>\n",
       "      <td>구내식당</td>\n",
       "      <td>서울특별시</td>\n",
       "      <td>중구</td>\n",
       "      <td>2017-09-01</td>\n",
       "      <td>260</td>\n",
       "      <td>0</td>\n",
       "      <td>0</td>\n",
       "      <td>코로나없음</td>\n",
       "    </tr>\n",
       "    <tr>\n",
       "      <th>52</th>\n",
       "      <td>구내식당</td>\n",
       "      <td>서울특별시</td>\n",
       "      <td>용산구</td>\n",
       "      <td>2017-09-01</td>\n",
       "      <td>371</td>\n",
       "      <td>0</td>\n",
       "      <td>0</td>\n",
       "      <td>코로나없음</td>\n",
       "    </tr>\n",
       "  </tbody>\n",
       "</table>\n",
       "</div>"
      ],
      "text/plain": [
       "      업종      시    구         연월  사업자수  서울확진자수  전국확진자수  코로나유무\n",
       "50  구내식당  서울특별시  종로구 2017-09-01   251       0       0  코로나없음\n",
       "51  구내식당  서울특별시   중구 2017-09-01   260       0       0  코로나없음\n",
       "52  구내식당  서울특별시  용산구 2017-09-01   371       0       0  코로나없음"
      ]
     },
     "execution_count": 64,
     "metadata": {},
     "output_type": "execute_result"
    }
   ],
   "source": [
    "food2 = df.query('업종 in @category')\n",
    "food2.head(3)"
   ]
  },
  {
   "cell_type": "code",
   "execution_count": 82,
   "metadata": {},
   "outputs": [
    {
     "data": {
      "text/html": [
       "<div>\n",
       "<style scoped>\n",
       "    .dataframe tbody tr th:only-of-type {\n",
       "        vertical-align: middle;\n",
       "    }\n",
       "\n",
       "    .dataframe tbody tr th {\n",
       "        vertical-align: top;\n",
       "    }\n",
       "\n",
       "    .dataframe thead th {\n",
       "        text-align: right;\n",
       "    }\n",
       "</style>\n",
       "<table border=\"1\" class=\"dataframe\">\n",
       "  <thead>\n",
       "    <tr style=\"text-align: right;\">\n",
       "      <th></th>\n",
       "      <th>업종</th>\n",
       "      <th>시</th>\n",
       "      <th>구</th>\n",
       "      <th>연월</th>\n",
       "      <th>사업자수</th>\n",
       "      <th>서울확진자수</th>\n",
       "      <th>전국확진자수</th>\n",
       "      <th>코로나유무</th>\n",
       "    </tr>\n",
       "  </thead>\n",
       "  <tbody>\n",
       "    <tr>\n",
       "      <th>17499</th>\n",
       "      <td>pc방</td>\n",
       "      <td>서울특별시</td>\n",
       "      <td>강동구</td>\n",
       "      <td>2020-07-01</td>\n",
       "      <td>76</td>\n",
       "      <td>288</td>\n",
       "      <td>1509</td>\n",
       "      <td>코로나있음</td>\n",
       "    </tr>\n",
       "  </tbody>\n",
       "</table>\n",
       "</div>"
      ],
      "text/plain": [
       "        업종      시    구         연월  사업자수  서울확진자수  전국확진자수  코로나유무\n",
       "17499  pc방  서울특별시  강동구 2020-07-01    76     288    1509  코로나있음"
      ]
     },
     "execution_count": 82,
     "metadata": {},
     "output_type": "execute_result"
    }
   ],
   "source": [
    "# not in 을 해주면 해당되지 않는 것을 가져온다\n",
    "\n",
    "notfood2 = df.query('업종 not in @category')\n",
    "notfood2.tail(1)"
   ]
  },
  {
   "cell_type": "code",
   "execution_count": 78,
   "metadata": {},
   "outputs": [
    {
     "data": {
      "text/html": [
       "<div>\n",
       "<style scoped>\n",
       "    .dataframe tbody tr th:only-of-type {\n",
       "        vertical-align: middle;\n",
       "    }\n",
       "\n",
       "    .dataframe tbody tr th {\n",
       "        vertical-align: top;\n",
       "    }\n",
       "\n",
       "    .dataframe thead th {\n",
       "        text-align: right;\n",
       "    }\n",
       "</style>\n",
       "<table border=\"1\" class=\"dataframe\">\n",
       "  <thead>\n",
       "    <tr style=\"text-align: right;\">\n",
       "      <th></th>\n",
       "      <th>업종</th>\n",
       "      <th>시</th>\n",
       "      <th>구</th>\n",
       "      <th>연월</th>\n",
       "      <th>사업자수</th>\n",
       "      <th>서울확진자수</th>\n",
       "      <th>전국확진자수</th>\n",
       "      <th>코로나유무</th>\n",
       "    </tr>\n",
       "  </thead>\n",
       "  <tbody>\n",
       "    <tr>\n",
       "      <th>17128</th>\n",
       "      <td>분식점</td>\n",
       "      <td>서울특별시</td>\n",
       "      <td>성동구</td>\n",
       "      <td>2020-07-01</td>\n",
       "      <td>290</td>\n",
       "      <td>288</td>\n",
       "      <td>1509</td>\n",
       "      <td>코로나있음</td>\n",
       "    </tr>\n",
       "  </tbody>\n",
       "</table>\n",
       "</div>"
      ],
      "text/plain": [
       "        업종      시    구         연월  사업자수  서울확진자수  전국확진자수  코로나유무\n",
       "17128  분식점  서울특별시  성동구 2020-07-01   290     288    1509  코로나있음"
      ]
     },
     "execution_count": 78,
     "metadata": {},
     "output_type": "execute_result"
    }
   ],
   "source": [
    "# 이 경우는 성동구에 있는 분식점만 뽑아오게 하는 query 코드\n",
    "# 조건이 따옴표로 감싸져있고, 조건이 ''표시 되어있는 것을 확인하자!\n",
    "\n",
    "bs = df.query(\"업종 == '분식점' and 구 == '성동구'\")\n",
    "bs.tail(1)"
   ]
  },
  {
   "cell_type": "code",
   "execution_count": null,
   "metadata": {},
   "outputs": [],
   "source": []
  }
 ],
 "metadata": {
  "kernelspec": {
   "display_name": "Python 3",
   "language": "python",
   "name": "python3"
  },
  "language_info": {
   "codemirror_mode": {
    "name": "ipython",
    "version": 3
   },
   "file_extension": ".py",
   "mimetype": "text/x-python",
   "name": "python",
   "nbconvert_exporter": "python",
   "pygments_lexer": "ipython3",
   "version": "3.8.3"
  }
 },
 "nbformat": 4,
 "nbformat_minor": 4
}
