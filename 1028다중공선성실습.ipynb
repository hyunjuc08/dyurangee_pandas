{
 "cells": [
  {
   "cell_type": "markdown",
   "metadata": {},
   "source": [
    "# 다중공선성 실습"
   ]
  },
  {
   "cell_type": "code",
   "execution_count": 2,
   "metadata": {},
   "outputs": [],
   "source": [
    "from statsmodels.formula.api import ols\n",
    "import pandas as pd"
   ]
  },
  {
   "cell_type": "code",
   "execution_count": 10,
   "metadata": {},
   "outputs": [
    {
     "data": {
      "text/html": [
       "<div>\n",
       "<style scoped>\n",
       "    .dataframe tbody tr th:only-of-type {\n",
       "        vertical-align: middle;\n",
       "    }\n",
       "\n",
       "    .dataframe tbody tr th {\n",
       "        vertical-align: top;\n",
       "    }\n",
       "\n",
       "    .dataframe thead th {\n",
       "        text-align: right;\n",
       "    }\n",
       "</style>\n",
       "<table border=\"1\" class=\"dataframe\">\n",
       "  <thead>\n",
       "    <tr style=\"text-align: right;\">\n",
       "      <th></th>\n",
       "      <th>mileage</th>\n",
       "      <th>model</th>\n",
       "      <th>price</th>\n",
       "      <th>year</th>\n",
       "      <th>my_car_damage</th>\n",
       "      <th>other_car_damage</th>\n",
       "    </tr>\n",
       "  </thead>\n",
       "  <tbody>\n",
       "    <tr>\n",
       "      <th>0</th>\n",
       "      <td>63608</td>\n",
       "      <td>K3</td>\n",
       "      <td>970</td>\n",
       "      <td>2017</td>\n",
       "      <td>0</td>\n",
       "      <td>564596</td>\n",
       "    </tr>\n",
       "    <tr>\n",
       "      <th>1</th>\n",
       "      <td>69336</td>\n",
       "      <td>K3</td>\n",
       "      <td>1130</td>\n",
       "      <td>2015</td>\n",
       "      <td>1839700</td>\n",
       "      <td>1140150</td>\n",
       "    </tr>\n",
       "    <tr>\n",
       "      <th>2</th>\n",
       "      <td>36000</td>\n",
       "      <td>K3</td>\n",
       "      <td>1380</td>\n",
       "      <td>2016</td>\n",
       "      <td>446520</td>\n",
       "      <td>2244910</td>\n",
       "    </tr>\n",
       "  </tbody>\n",
       "</table>\n",
       "</div>"
      ],
      "text/plain": [
       "   mileage model  price  year  my_car_damage  other_car_damage\n",
       "0    63608    K3    970  2017              0            564596\n",
       "1    69336    K3   1130  2015        1839700           1140150\n",
       "2    36000    K3   1380  2016         446520           2244910"
      ]
     },
     "execution_count": 10,
     "metadata": {},
     "output_type": "execute_result"
    }
   ],
   "source": [
    "df = pd.read_excel('small_used_car.xlsx')\n",
    "df.head(3)"
   ]
  },
  {
   "cell_type": "markdown",
   "metadata": {},
   "source": [
    "### price를 나머지 변수들로 예측"
   ]
  },
  {
   "cell_type": "code",
   "execution_count": 5,
   "metadata": {},
   "outputs": [
    {
     "data": {
      "text/html": [
       "<table class=\"simpletable\">\n",
       "<caption>OLS Regression Results</caption>\n",
       "<tr>\n",
       "  <th>Dep. Variable:</th>          <td>price</td>      <th>  R-squared:         </th> <td>   0.783</td>\n",
       "</tr>\n",
       "<tr>\n",
       "  <th>Model:</th>                   <td>OLS</td>       <th>  Adj. R-squared:    </th> <td>   0.779</td>\n",
       "</tr>\n",
       "<tr>\n",
       "  <th>Method:</th>             <td>Least Squares</td>  <th>  F-statistic:       </th> <td>   193.2</td>\n",
       "</tr>\n",
       "<tr>\n",
       "  <th>Date:</th>             <td>Wed, 28 Oct 2020</td> <th>  Prob (F-statistic):</th> <td>1.14e-86</td>\n",
       "</tr>\n",
       "<tr>\n",
       "  <th>Time:</th>                 <td>19:50:18</td>     <th>  Log-Likelihood:    </th> <td> -1770.2</td>\n",
       "</tr>\n",
       "<tr>\n",
       "  <th>No. Observations:</th>      <td>   274</td>      <th>  AIC:               </th> <td>   3552.</td>\n",
       "</tr>\n",
       "<tr>\n",
       "  <th>Df Residuals:</th>          <td>   268</td>      <th>  BIC:               </th> <td>   3574.</td>\n",
       "</tr>\n",
       "<tr>\n",
       "  <th>Df Model:</th>              <td>     5</td>      <th>                     </th>     <td> </td>   \n",
       "</tr>\n",
       "<tr>\n",
       "  <th>Covariance Type:</th>      <td>nonrobust</td>    <th>                     </th>     <td> </td>   \n",
       "</tr>\n",
       "</table>\n",
       "<table class=\"simpletable\">\n",
       "<tr>\n",
       "             <td></td>                <th>coef</th>     <th>std err</th>      <th>t</th>      <th>P>|t|</th>  <th>[0.025</th>    <th>0.975]</th>  \n",
       "</tr>\n",
       "<tr>\n",
       "  <th>Intercept</th>               <td>  800.3066</td> <td>   33.684</td> <td>   23.759</td> <td> 0.000</td> <td>  733.988</td> <td>  866.626</td>\n",
       "</tr>\n",
       "<tr>\n",
       "  <th>model[T.K3]</th>             <td>  -32.7958</td> <td>   22.205</td> <td>   -1.477</td> <td> 0.141</td> <td>  -76.514</td> <td>   10.923</td>\n",
       "</tr>\n",
       "<tr>\n",
       "  <th>mileage</th>                 <td>   -0.0024</td> <td>    0.000</td> <td>   -8.958</td> <td> 0.000</td> <td>   -0.003</td> <td>   -0.002</td>\n",
       "</tr>\n",
       "<tr>\n",
       "  <th>I(year - 2010)</th>          <td>   76.1874</td> <td>    4.755</td> <td>   16.022</td> <td> 0.000</td> <td>   66.825</td> <td>   85.550</td>\n",
       "</tr>\n",
       "<tr>\n",
       "  <th>scale(my_car_damage)</th>    <td>  -49.7820</td> <td>   10.173</td> <td>   -4.894</td> <td> 0.000</td> <td>  -69.811</td> <td>  -29.753</td>\n",
       "</tr>\n",
       "<tr>\n",
       "  <th>scale(other_car_damage)</th> <td>  -28.2188</td> <td>    9.951</td> <td>   -2.836</td> <td> 0.005</td> <td>  -47.810</td> <td>   -8.627</td>\n",
       "</tr>\n",
       "</table>\n",
       "<table class=\"simpletable\">\n",
       "<tr>\n",
       "  <th>Omnibus:</th>       <td>11.358</td> <th>  Durbin-Watson:     </th> <td>   1.553</td>\n",
       "</tr>\n",
       "<tr>\n",
       "  <th>Prob(Omnibus):</th> <td> 0.003</td> <th>  Jarque-Bera (JB):  </th> <td>  14.249</td>\n",
       "</tr>\n",
       "<tr>\n",
       "  <th>Skew:</th>          <td> 0.347</td> <th>  Prob(JB):          </th> <td>0.000805</td>\n",
       "</tr>\n",
       "<tr>\n",
       "  <th>Kurtosis:</th>      <td> 3.875</td> <th>  Cond. No.          </th> <td>3.19e+05</td>\n",
       "</tr>\n",
       "</table><br/><br/>Warnings:<br/>[1] Standard Errors assume that the covariance matrix of the errors is correctly specified.<br/>[2] The condition number is large, 3.19e+05. This might indicate that there are<br/>strong multicollinearity or other numerical problems."
      ],
      "text/plain": [
       "<class 'statsmodels.iolib.summary.Summary'>\n",
       "\"\"\"\n",
       "                            OLS Regression Results                            \n",
       "==============================================================================\n",
       "Dep. Variable:                  price   R-squared:                       0.783\n",
       "Model:                            OLS   Adj. R-squared:                  0.779\n",
       "Method:                 Least Squares   F-statistic:                     193.2\n",
       "Date:                Wed, 28 Oct 2020   Prob (F-statistic):           1.14e-86\n",
       "Time:                        19:50:18   Log-Likelihood:                -1770.2\n",
       "No. Observations:                 274   AIC:                             3552.\n",
       "Df Residuals:                     268   BIC:                             3574.\n",
       "Df Model:                           5                                         \n",
       "Covariance Type:            nonrobust                                         \n",
       "===========================================================================================\n",
       "                              coef    std err          t      P>|t|      [0.025      0.975]\n",
       "-------------------------------------------------------------------------------------------\n",
       "Intercept                 800.3066     33.684     23.759      0.000     733.988     866.626\n",
       "model[T.K3]               -32.7958     22.205     -1.477      0.141     -76.514      10.923\n",
       "mileage                    -0.0024      0.000     -8.958      0.000      -0.003      -0.002\n",
       "I(year - 2010)             76.1874      4.755     16.022      0.000      66.825      85.550\n",
       "scale(my_car_damage)      -49.7820     10.173     -4.894      0.000     -69.811     -29.753\n",
       "scale(other_car_damage)   -28.2188      9.951     -2.836      0.005     -47.810      -8.627\n",
       "==============================================================================\n",
       "Omnibus:                       11.358   Durbin-Watson:                   1.553\n",
       "Prob(Omnibus):                  0.003   Jarque-Bera (JB):               14.249\n",
       "Skew:                           0.347   Prob(JB):                     0.000805\n",
       "Kurtosis:                       3.875   Cond. No.                     3.19e+05\n",
       "==============================================================================\n",
       "\n",
       "Warnings:\n",
       "[1] Standard Errors assume that the covariance matrix of the errors is correctly specified.\n",
       "[2] The condition number is large, 3.19e+05. This might indicate that there are\n",
       "strong multicollinearity or other numerical problems.\n",
       "\"\"\""
      ]
     },
     "execution_count": 5,
     "metadata": {},
     "output_type": "execute_result"
    }
   ],
   "source": [
    "res = ols('price ~ mileage + model + I(year-2010) + scale(my_car_damage) + scale(other_car_damage)', data = df).fit()\n",
    "res.summary()"
   ]
  },
  {
   "cell_type": "code",
   "execution_count": 16,
   "metadata": {},
   "outputs": [
    {
     "data": {
      "text/html": [
       "<table class=\"simpletable\">\n",
       "<caption>OLS Regression Results</caption>\n",
       "<tr>\n",
       "  <th>Dep. Variable:</th>         <td>mileage</td>     <th>  R-squared:         </th> <td>   0.338</td>\n",
       "</tr>\n",
       "<tr>\n",
       "  <th>Model:</th>                   <td>OLS</td>       <th>  Adj. R-squared:    </th> <td>   0.328</td>\n",
       "</tr>\n",
       "<tr>\n",
       "  <th>Method:</th>             <td>Least Squares</td>  <th>  F-statistic:       </th> <td>   34.36</td>\n",
       "</tr>\n",
       "<tr>\n",
       "  <th>Date:</th>             <td>Wed, 28 Oct 2020</td> <th>  Prob (F-statistic):</th> <td>3.62e-23</td>\n",
       "</tr>\n",
       "<tr>\n",
       "  <th>Time:</th>                 <td>20:10:09</td>     <th>  Log-Likelihood:    </th> <td> -3255.1</td>\n",
       "</tr>\n",
       "<tr>\n",
       "  <th>No. Observations:</th>      <td>   274</td>      <th>  AIC:               </th> <td>   6520.</td>\n",
       "</tr>\n",
       "<tr>\n",
       "  <th>Df Residuals:</th>          <td>   269</td>      <th>  BIC:               </th> <td>   6538.</td>\n",
       "</tr>\n",
       "<tr>\n",
       "  <th>Df Model:</th>              <td>     4</td>      <th>                     </th>     <td> </td>   \n",
       "</tr>\n",
       "<tr>\n",
       "  <th>Covariance Type:</th>      <td>nonrobust</td>    <th>                     </th>     <td> </td>   \n",
       "</tr>\n",
       "</table>\n",
       "<table class=\"simpletable\">\n",
       "<tr>\n",
       "             <td></td>                <th>coef</th>     <th>std err</th>      <th>t</th>      <th>P>|t|</th>  <th>[0.025</th>    <th>0.975]</th>  \n",
       "</tr>\n",
       "<tr>\n",
       "  <th>Intercept</th>               <td> 1.092e+05</td> <td> 3643.578</td> <td>   29.972</td> <td> 0.000</td> <td> 1.02e+05</td> <td> 1.16e+05</td>\n",
       "</tr>\n",
       "<tr>\n",
       "  <th>model[T.K3]</th>             <td> -160.5713</td> <td> 5003.433</td> <td>   -0.032</td> <td> 0.974</td> <td>   -1e+04</td> <td> 9690.298</td>\n",
       "</tr>\n",
       "<tr>\n",
       "  <th>I(year - 2010)</th>          <td>-9677.1395</td> <td>  894.403</td> <td>  -10.820</td> <td> 0.000</td> <td>-1.14e+04</td> <td>-7916.218</td>\n",
       "</tr>\n",
       "<tr>\n",
       "  <th>scale(my_car_damage)</th>    <td> 1554.4871</td> <td> 2290.269</td> <td>    0.679</td> <td> 0.498</td> <td>-2954.644</td> <td> 6063.618</td>\n",
       "</tr>\n",
       "<tr>\n",
       "  <th>scale(other_car_damage)</th> <td>-5148.9286</td> <td> 2220.097</td> <td>   -2.319</td> <td> 0.021</td> <td>-9519.904</td> <td> -777.954</td>\n",
       "</tr>\n",
       "</table>\n",
       "<table class=\"simpletable\">\n",
       "<tr>\n",
       "  <th>Omnibus:</th>       <td>45.374</td> <th>  Durbin-Watson:     </th> <td>   1.670</td>\n",
       "</tr>\n",
       "<tr>\n",
       "  <th>Prob(Omnibus):</th> <td> 0.000</td> <th>  Jarque-Bera (JB):  </th> <td>  86.746</td>\n",
       "</tr>\n",
       "<tr>\n",
       "  <th>Skew:</th>          <td> 0.871</td> <th>  Prob(JB):          </th> <td>1.46e-19</td>\n",
       "</tr>\n",
       "<tr>\n",
       "  <th>Kurtosis:</th>      <td> 5.137</td> <th>  Cond. No.          </th> <td>    10.2</td>\n",
       "</tr>\n",
       "</table><br/><br/>Warnings:<br/>[1] Standard Errors assume that the covariance matrix of the errors is correctly specified."
      ],
      "text/plain": [
       "<class 'statsmodels.iolib.summary.Summary'>\n",
       "\"\"\"\n",
       "                            OLS Regression Results                            \n",
       "==============================================================================\n",
       "Dep. Variable:                mileage   R-squared:                       0.338\n",
       "Model:                            OLS   Adj. R-squared:                  0.328\n",
       "Method:                 Least Squares   F-statistic:                     34.36\n",
       "Date:                Wed, 28 Oct 2020   Prob (F-statistic):           3.62e-23\n",
       "Time:                        20:10:09   Log-Likelihood:                -3255.1\n",
       "No. Observations:                 274   AIC:                             6520.\n",
       "Df Residuals:                     269   BIC:                             6538.\n",
       "Df Model:                           4                                         \n",
       "Covariance Type:            nonrobust                                         \n",
       "===========================================================================================\n",
       "                              coef    std err          t      P>|t|      [0.025      0.975]\n",
       "-------------------------------------------------------------------------------------------\n",
       "Intercept                1.092e+05   3643.578     29.972      0.000    1.02e+05    1.16e+05\n",
       "model[T.K3]              -160.5713   5003.433     -0.032      0.974      -1e+04    9690.298\n",
       "I(year - 2010)          -9677.1395    894.403    -10.820      0.000   -1.14e+04   -7916.218\n",
       "scale(my_car_damage)     1554.4871   2290.269      0.679      0.498   -2954.644    6063.618\n",
       "scale(other_car_damage) -5148.9286   2220.097     -2.319      0.021   -9519.904    -777.954\n",
       "==============================================================================\n",
       "Omnibus:                       45.374   Durbin-Watson:                   1.670\n",
       "Prob(Omnibus):                  0.000   Jarque-Bera (JB):               86.746\n",
       "Skew:                           0.871   Prob(JB):                     1.46e-19\n",
       "Kurtosis:                       5.137   Cond. No.                         10.2\n",
       "==============================================================================\n",
       "\n",
       "Warnings:\n",
       "[1] Standard Errors assume that the covariance matrix of the errors is correctly specified.\n",
       "\"\"\""
      ]
     },
     "execution_count": 16,
     "metadata": {},
     "output_type": "execute_result"
    }
   ],
   "source": [
    "# mileage 변수가 다른 변수들에 의해 설명될 수 있는 지 회귀분석을 추가적으로 진행함\n",
    "\n",
    "res2 = ols('mileage ~ model + I(year-2010) + scale(my_car_damage) + scale(other_car_damage)', data = df).fit()\n",
    "res2.summary()"
   ]
  },
  {
   "cell_type": "markdown",
   "metadata": {},
   "source": [
    "### 분산팽창계수(VIF)"
   ]
  },
  {
   "cell_type": "code",
   "execution_count": 14,
   "metadata": {},
   "outputs": [
    {
     "data": {
      "text/plain": [
       "1.5105740181268883"
      ]
     },
     "execution_count": 14,
     "metadata": {},
     "output_type": "execute_result"
    }
   ],
   "source": [
    "# 분산팽창계수가 5보다 작기 때문에 마일리지가 다른 변수들에 의해 예측되지 않음\n",
    "\n",
    "1/(1-0.338)"
   ]
  },
  {
   "cell_type": "code",
   "execution_count": 18,
   "metadata": {},
   "outputs": [
    {
     "data": {
      "text/html": [
       "<table class=\"simpletable\">\n",
       "<caption>OLS Regression Results</caption>\n",
       "<tr>\n",
       "  <th>Dep. Variable:</th>          <td>year</td>       <th>  R-squared:         </th> <td>   0.409</td>\n",
       "</tr>\n",
       "<tr>\n",
       "  <th>Model:</th>                   <td>OLS</td>       <th>  Adj. R-squared:    </th> <td>   0.400</td>\n",
       "</tr>\n",
       "<tr>\n",
       "  <th>Method:</th>             <td>Least Squares</td>  <th>  F-statistic:       </th> <td>   46.46</td>\n",
       "</tr>\n",
       "<tr>\n",
       "  <th>Date:</th>             <td>Wed, 28 Oct 2020</td> <th>  Prob (F-statistic):</th> <td>1.16e-29</td>\n",
       "</tr>\n",
       "<tr>\n",
       "  <th>Time:</th>                 <td>20:10:40</td>     <th>  Log-Likelihood:    </th> <td> -577.02</td>\n",
       "</tr>\n",
       "<tr>\n",
       "  <th>No. Observations:</th>      <td>   274</td>      <th>  AIC:               </th> <td>   1164.</td>\n",
       "</tr>\n",
       "<tr>\n",
       "  <th>Df Residuals:</th>          <td>   269</td>      <th>  BIC:               </th> <td>   1182.</td>\n",
       "</tr>\n",
       "<tr>\n",
       "  <th>Df Model:</th>              <td>     4</td>      <th>                     </th>     <td> </td>   \n",
       "</tr>\n",
       "<tr>\n",
       "  <th>Covariance Type:</th>      <td>nonrobust</td>    <th>                     </th>     <td> </td>   \n",
       "</tr>\n",
       "</table>\n",
       "<table class=\"simpletable\">\n",
       "<tr>\n",
       "             <td></td>                <th>coef</th>     <th>std err</th>      <th>t</th>      <th>P>|t|</th>  <th>[0.025</th>    <th>0.975]</th>  \n",
       "</tr>\n",
       "<tr>\n",
       "  <th>Intercept</th>               <td> 2015.5138</td> <td>    0.271</td> <td> 7433.550</td> <td> 0.000</td> <td> 2014.980</td> <td> 2016.048</td>\n",
       "</tr>\n",
       "<tr>\n",
       "  <th>model[T.K3]</th>             <td>    0.7458</td> <td>    0.281</td> <td>    2.653</td> <td> 0.008</td> <td>    0.192</td> <td>    1.299</td>\n",
       "</tr>\n",
       "<tr>\n",
       "  <th>mileage</th>                 <td>-3.133e-05</td> <td>  2.9e-06</td> <td>  -10.820</td> <td> 0.000</td> <td> -3.7e-05</td> <td>-2.56e-05</td>\n",
       "</tr>\n",
       "<tr>\n",
       "  <th>scale(my_car_damage)</th>    <td>   -0.4553</td> <td>    0.127</td> <td>   -3.572</td> <td> 0.000</td> <td>   -0.706</td> <td>   -0.204</td>\n",
       "</tr>\n",
       "<tr>\n",
       "  <th>scale(other_car_damage)</th> <td>   -0.4123</td> <td>    0.125</td> <td>   -3.296</td> <td> 0.001</td> <td>   -0.659</td> <td>   -0.166</td>\n",
       "</tr>\n",
       "</table>\n",
       "<table class=\"simpletable\">\n",
       "<tr>\n",
       "  <th>Omnibus:</th>       <td>19.981</td> <th>  Durbin-Watson:     </th> <td>   0.921</td>\n",
       "</tr>\n",
       "<tr>\n",
       "  <th>Prob(Omnibus):</th> <td> 0.000</td> <th>  Jarque-Bera (JB):  </th> <td>  22.174</td>\n",
       "</tr>\n",
       "<tr>\n",
       "  <th>Skew:</th>          <td>-0.658</td> <th>  Prob(JB):          </th> <td>1.53e-05</td>\n",
       "</tr>\n",
       "<tr>\n",
       "  <th>Kurtosis:</th>      <td> 3.460</td> <th>  Cond. No.          </th> <td>2.35e+05</td>\n",
       "</tr>\n",
       "</table><br/><br/>Warnings:<br/>[1] Standard Errors assume that the covariance matrix of the errors is correctly specified.<br/>[2] The condition number is large, 2.35e+05. This might indicate that there are<br/>strong multicollinearity or other numerical problems."
      ],
      "text/plain": [
       "<class 'statsmodels.iolib.summary.Summary'>\n",
       "\"\"\"\n",
       "                            OLS Regression Results                            \n",
       "==============================================================================\n",
       "Dep. Variable:                   year   R-squared:                       0.409\n",
       "Model:                            OLS   Adj. R-squared:                  0.400\n",
       "Method:                 Least Squares   F-statistic:                     46.46\n",
       "Date:                Wed, 28 Oct 2020   Prob (F-statistic):           1.16e-29\n",
       "Time:                        20:10:40   Log-Likelihood:                -577.02\n",
       "No. Observations:                 274   AIC:                             1164.\n",
       "Df Residuals:                     269   BIC:                             1182.\n",
       "Df Model:                           4                                         \n",
       "Covariance Type:            nonrobust                                         \n",
       "===========================================================================================\n",
       "                              coef    std err          t      P>|t|      [0.025      0.975]\n",
       "-------------------------------------------------------------------------------------------\n",
       "Intercept                2015.5138      0.271   7433.550      0.000    2014.980    2016.048\n",
       "model[T.K3]                 0.7458      0.281      2.653      0.008       0.192       1.299\n",
       "mileage                 -3.133e-05    2.9e-06    -10.820      0.000    -3.7e-05   -2.56e-05\n",
       "scale(my_car_damage)       -0.4553      0.127     -3.572      0.000      -0.706      -0.204\n",
       "scale(other_car_damage)    -0.4123      0.125     -3.296      0.001      -0.659      -0.166\n",
       "==============================================================================\n",
       "Omnibus:                       19.981   Durbin-Watson:                   0.921\n",
       "Prob(Omnibus):                  0.000   Jarque-Bera (JB):               22.174\n",
       "Skew:                          -0.658   Prob(JB):                     1.53e-05\n",
       "Kurtosis:                       3.460   Cond. No.                     2.35e+05\n",
       "==============================================================================\n",
       "\n",
       "Warnings:\n",
       "[1] Standard Errors assume that the covariance matrix of the errors is correctly specified.\n",
       "[2] The condition number is large, 2.35e+05. This might indicate that there are\n",
       "strong multicollinearity or other numerical problems.\n",
       "\"\"\""
      ]
     },
     "execution_count": 18,
     "metadata": {},
     "output_type": "execute_result"
    }
   ],
   "source": [
    "res3 = ols('year  ~ model + mileage + scale(my_car_damage) + scale(other_car_damage)', data = df).fit()\n",
    "res3.summary() "
   ]
  },
  {
   "cell_type": "code",
   "execution_count": 20,
   "metadata": {},
   "outputs": [
    {
     "data": {
      "text/plain": [
       "1.6920473773265652"
      ]
     },
     "execution_count": 20,
     "metadata": {},
     "output_type": "execute_result"
    }
   ],
   "source": [
    "# 분산팽창계수가 5보다 작기 때문에 연식이 다른 변수들에 의해 예측되지 않음\n",
    "\n",
    "1/(1-0.409)"
   ]
  }
 ],
 "metadata": {
  "kernelspec": {
   "display_name": "Python 3",
   "language": "python",
   "name": "python3"
  },
  "language_info": {
   "codemirror_mode": {
    "name": "ipython",
    "version": 3
   },
   "file_extension": ".py",
   "mimetype": "text/x-python",
   "name": "python",
   "nbconvert_exporter": "python",
   "pygments_lexer": "ipython3",
   "version": "3.8.3"
  }
 },
 "nbformat": 4,
 "nbformat_minor": 4
}
