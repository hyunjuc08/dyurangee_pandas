{
  "nbformat": 4,
  "nbformat_minor": 0,
  "metadata": {
    "colab": {
      "name": "회귀알고리즘 & 모델규제.ipynb",
      "provenance": [],
      "collapsed_sections": [],
      "toc_visible": true
    },
    "kernelspec": {
      "name": "python3",
      "display_name": "Python 3"
    },
    "language_info": {
      "name": "python"
    }
  },
  "cells": [
    {
      "cell_type": "markdown",
      "metadata": {
        "id": "TeHTPcknqoUP"
      },
      "source": [
        "# 회귀를 통해 classification이 아닌 특정 값을 예측하는 방법들"
      ]
    },
    {
      "cell_type": "markdown",
      "metadata": {
        "id": "NdJrUHEKfEte"
      },
      "source": [
        "# K-최근접 이웃 회귀\n",
        "* K-최근접 이웃 분류와 비슷하게, 근접한 이웃들을 가지고 평균 값으로 값을 예측하는 것\n",
        "* 직관적이지만, 가장 큰 문제는 **훈련 데이터 셋 바깥의 값의 경우 엉뚱하게 예측**하게 된다 (ex. 데이터에는 80cm 농어가 최대인데 예측하려는 농어가 100cm 라면? 많아봤자 80cm 농어의 무게로 값이 예측될 것)"
      ]
    },
    {
      "cell_type": "code",
      "metadata": {
        "id": "2RnDec-1e2yJ"
      },
      "source": [
        "import pandas as pd\n",
        "import numpy as np"
      ],
      "execution_count": 3,
      "outputs": []
    },
    {
      "cell_type": "code",
      "metadata": {
        "id": "vrrJtTRff4jt"
      },
      "source": [
        "df = pd.read_csv('/content/drive/MyDrive/Colab Notebooks/Fish.csv')"
      ],
      "execution_count": 8,
      "outputs": []
    },
    {
      "cell_type": "markdown",
      "metadata": {
        "id": "5PkGgIHIh-Ot"
      },
      "source": [
        "## 농어의 무게를 예측하기 위한 회귀모델 만들기\n",
        "* 길이를 활용해서 무게를 예측하려고 하는 것이기 때문에 target 값이 weight, input이 length"
      ]
    },
    {
      "cell_type": "code",
      "metadata": {
        "id": "IeVBTGmAgZk3"
      },
      "source": [
        "# numpy 배열로 준비\n",
        "perch_length = df.loc[df['Species'] == 'Perch', 'Length2'].to_numpy()\n",
        "perch_weight = df.loc[df['Species'] == 'Perch', 'Weight'].to_numpy()"
      ],
      "execution_count": 9,
      "outputs": []
    },
    {
      "cell_type": "code",
      "metadata": {
        "colab": {
          "base_uri": "https://localhost:8080/",
          "height": 279
        },
        "id": "VyA3WcI8ha0J",
        "outputId": "f8a2aac9-7d90-471e-892c-fd4120e86ee9"
      },
      "source": [
        "import matplotlib.pyplot as plt\n",
        "\n",
        "plt.scatter(perch_length, perch_weight)\n",
        "plt.xlabel('length')\n",
        "plt.ylabel('weight')\n",
        "plt.show()\n",
        "# 크기가 커짐에 따라서 무게가 늘어나는데, 살짝 exponential한 구간들이 있다"
      ],
      "execution_count": null,
      "outputs": [
        {
          "output_type": "display_data",
          "data": {
            "image/png": "[encoded data removed]",
            "text/plain": [
              "<Figure size 432x288 with 1 Axes>"
            ]
          },
          "metadata": {
            "tags": [],
            "needs_background": "light"
          }
        }
      ]
    },
    {
      "cell_type": "code",
      "metadata": {
        "id": "YbLRP8KziOdO"
      },
      "source": [
        "from sklearn.model_selection import train_test_split\n",
        "\n",
        "train_input, test_input, train_target, test_target = train_test_split(perch_length, perch_weight, random_state = 42)"
      ],
      "execution_count": null,
      "outputs": []
    },
    {
      "cell_type": "code",
      "metadata": {
        "colab": {
          "base_uri": "https://localhost:8080/"
        },
        "id": "hfCUQQGBjlvZ",
        "outputId": "bd7e1197-3e3a-4f08-ff9f-7f5f9a2c286a"
      },
      "source": [
        "# 가로로 긴 array 형태로 나온다. 그런데 학습을 시키기 위해서는 세로로 긴 열 1개가 있는 2차원 배열로 바꿔줘야 한다 (k-최근접 이웃 분류에서도 2차원 배열로 진행했음)\n",
        "train_input"
      ],
      "execution_count": null,
      "outputs": [
        {
          "output_type": "execute_result",
          "data": {
            "text/plain": [
              "array([19.6, 22. , 18.7, 17.4, 36. , 25. , 40. , 39. , 43. , 22. , 20. ,\n",
              "       22. , 24. , 27.5, 43. , 40. , 24. , 21. , 27.5, 40. , 32.8, 26.5,\n",
              "       36.5, 13.7, 22.7, 15. , 37. , 35. , 28.7, 23.5, 39. , 21. , 23. ,\n",
              "       22. , 44. , 22.5, 19. , 37. , 22. , 25.6, 42. , 34.5])"
            ]
          },
          "metadata": {
            "tags": []
          },
          "execution_count": 12
        }
      ]
    },
    {
      "cell_type": "markdown",
      "metadata": {
        "id": "HDvb0Fbqka9R"
      },
      "source": [
        "### 넘파이 배열의 차원을 수동으로 바꾸기\n",
        "* 2차원 배열로 수동으로 바꿔 주어야 하는데, reshape을 활용하면 된다\n",
        "* 자동으로 행 개수를 선택해주기 위해서는 -1을 첫 값으로, 그 뒤엔 열 개수를 지정해주면 된다"
      ]
    },
    {
      "cell_type": "code",
      "metadata": {
        "colab": {
          "base_uri": "https://localhost:8080/"
        },
        "id": "9hRrlKmVjoQn",
        "outputId": "9b46c817-e5d7-4c8a-a047-ae43b09dccdb"
      },
      "source": [
        "test_array = np.array([1,2,3,4])\n",
        "print(test_array.shape)\n",
        "test_array = test_array.reshape(2,2)\n",
        "print(test_array) # 4개 원소가 있던 1차원 배열을 2개 열의 2차원 배열로 변경\n",
        "print(test_array.shape)"
      ],
      "execution_count": null,
      "outputs": [
        {
          "output_type": "stream",
          "text": [
            "(4,)\n",
            "[[1 2]\n",
            " [3 4]]\n",
            "(2, 2)\n"
          ],
          "name": "stdout"
        }
      ]
    },
    {
      "cell_type": "code",
      "metadata": {
        "colab": {
          "base_uri": "https://localhost:8080/"
        },
        "id": "Htm8VT1wj2G0",
        "outputId": "41e7a517-8bc2-431d-a966-3238ff4755be"
      },
      "source": [
        "train_input = train_input.reshape(-1,1) # 자동으로 행 개수를 원소만큼 나열해줄 수 있도록 -1로 지정\n",
        "test_input = test_input.reshape(-1,1)\n",
        "print(train_input.shape, test_input.shape)"
      ],
      "execution_count": null,
      "outputs": [
        {
          "output_type": "stream",
          "text": [
            "(42, 1) (14, 1)\n"
          ],
          "name": "stdout"
        }
      ]
    },
    {
      "cell_type": "markdown",
      "metadata": {
        "id": "ftGGhS6XllYR"
      },
      "source": [
        "### k-최근접 이웃 회귀 학습 & 성능 평가\n",
        "* knr에서의 score는 결정계수 **R Squared**\n",
        "* **mean_absolute_error**을 활용하면 예측값과 실제값 사이의 절댓값 오차들을 구하고 평균을 내준다\n",
        "* `과대적합` : test set을 가지고 예측했을 때 그 성능이 현저히 낮은 경우\\\n",
        "`과소적합` : train set을 가지고 예측했을 때 결정계수가 더 낮거나 둘 다 낮은 경우, 학습이 제대로 되지 않은 것으로 판단"
      ]
    },
    {
      "cell_type": "code",
      "metadata": {
        "colab": {
          "base_uri": "https://localhost:8080/"
        },
        "id": "N2IgK-ENliIS",
        "outputId": "873d88ef-3831-4856-dece-1c38e4368449"
      },
      "source": [
        "from sklearn.neighbors import KNeighborsRegressor\n",
        "\n",
        "knr = KNeighborsRegressor()\n",
        "knr.fit(train_input, train_target)"
      ],
      "execution_count": null,
      "outputs": [
        {
          "output_type": "execute_result",
          "data": {
            "text/plain": [
              "KNeighborsRegressor(algorithm='auto', leaf_size=30, metric='minkowski',\n",
              "                    metric_params=None, n_jobs=None, n_neighbors=5, p=2,\n",
              "                    weights='uniform')"
            ]
          },
          "metadata": {
            "tags": []
          },
          "execution_count": 18
        }
      ]
    },
    {
      "cell_type": "code",
      "metadata": {
        "colab": {
          "base_uri": "https://localhost:8080/"
        },
        "id": "ElIWhKA9lM60",
        "outputId": "57f5a971-b16f-49dd-cac5-be38a4b74a3f"
      },
      "source": [
        "# knr에서의 score는 결정계수 R Squared를 의미함, 여기서 99% 가까이 나왔으므로 높은 성능\n",
        "print(knr.score(test_input, test_target))\n",
        "\n",
        "from sklearn.metrics import mean_absolute_error\n",
        "test_prediction = knr.predict(test_input) #개별 예측값들을 구함\n",
        "mae = mean_absolute_error(test_prediction, test_target) #target 값과의 절댓값 오차들의 평균을 구함\n",
        "print(mae)"
      ],
      "execution_count": null,
      "outputs": [
        {
          "output_type": "stream",
          "text": [
            "0.9928094061010639\n",
            "19.157142857142862\n"
          ],
          "name": "stdout"
        }
      ]
    },
    {
      "cell_type": "code",
      "metadata": {
        "colab": {
          "base_uri": "https://localhost:8080/"
        },
        "id": "E5gcjvZCo4_I",
        "outputId": "ffe47a40-eef1-4f00-c583-ebf282db9729"
      },
      "source": [
        "print(knr.score(train_input, train_target)) #train set으로 score를 구했을 때 더 낮기 때문에 과소적합"
      ],
      "execution_count": null,
      "outputs": [
        {
          "output_type": "stream",
          "text": [
            "0.9698823289099255\n"
          ],
          "name": "stdout"
        }
      ]
    },
    {
      "cell_type": "markdown",
      "metadata": {
        "id": "ofrA1d9Gp8j4"
      },
      "source": [
        "### 과소적합 해결하기\n",
        "* n_neighbors를 수를 줄이면 국지적인 데이터의 패턴 (훈련세트 내에 있는 패턴)에 둔감해지기 때문에 과소적합을 해결할 수 있다"
      ]
    },
    {
      "cell_type": "code",
      "metadata": {
        "colab": {
          "base_uri": "https://localhost:8080/"
        },
        "id": "7aezSQA7pRDU",
        "outputId": "51592f94-6da0-4398-c02a-16ee453d96b0"
      },
      "source": [
        "knr.n_neighbors = 3 # k-최근접 이웃 분류와 동일하게 n_neighbors를 활용해 근접 이웃 숫자를 줄여주었다\n",
        "\n",
        "knr.fit(train_input, train_target)\n",
        "print(knr.score(train_input, train_target))\n",
        "print(knr.score(test_input, test_target))"
      ],
      "execution_count": null,
      "outputs": [
        {
          "output_type": "stream",
          "text": [
            "0.9804899950518966\n",
            "0.974645996398761\n"
          ],
          "name": "stdout"
        }
      ]
    },
    {
      "cell_type": "code",
      "metadata": {
        "colab": {
          "base_uri": "https://localhost:8080/",
          "height": 957
        },
        "id": "Z7yHALRrrCbY",
        "outputId": "9d62c3c9-94f1-427c-ec85-decfc1457158"
      },
      "source": [
        "x = np.arange(5, 45).reshape(-1,1) # 5센치부터 45센치까지 길이를 담은 2차원 배열 생성\n",
        "\n",
        "for n in [1, 5, 10]: # n_neighbors 개수에 따라서 scatter plot 그리기\n",
        "  knr.n_neighbors = n\n",
        "  knr.fit(train_input, train_target)\n",
        "  prediction = knr.predict(x)\n",
        "  train_score = knr.score(train_input, train_target)\n",
        "  test_score = knr.score(test_input, test_target)\n",
        "  print('train R squared : '+ str(train_score))\n",
        "  print('test R squared : '+ str(test_score))\n",
        "\n",
        "  plt.scatter(train_input, train_target)\n",
        "  plt.plot(x, prediction) #실선으로 그리기 위한 plot\n",
        "  plt.title('n_neighbors = {}'.format(n))\n",
        "  plt.xlabel('Length')\n",
        "  plt.ylabel('Weight')\n",
        "  plt.show()\n",
        "\n",
        "# n값이 커질수록 모델이 점점 단순화된다 -> 과소적합에 가까워짐"
      ],
      "execution_count": null,
      "outputs": [
        {
          "output_type": "stream",
          "text": [
            "train R squared : 0.9852830341215901\n",
            "test R squared : 0.991309195814175\n"
          ],
          "name": "stdout"
        },
        {
          "output_type": "display_data",
          "data": {
            "image/png": "[encoded data removed]",
            "text/plain": [
              "<Figure size 432x288 with 1 Axes>"
            ]
          },
          "metadata": {
            "tags": [],
            "needs_background": "light"
          }
        },
        {
          "output_type": "stream",
          "text": [
            "train R squared : 0.9698823289099255\n",
            "test R squared : 0.9928094061010639\n"
          ],
          "name": "stdout"
        },
        {
          "output_type": "display_data",
          "data": {
            "image/png": "[encoded data removed]",
            "text/plain": [
              "<Figure size 432x288 with 1 Axes>"
            ]
          },
          "metadata": {
            "tags": [],
            "needs_background": "light"
          }
        },
        {
          "output_type": "stream",
          "text": [
            "train R squared : 0.9616456902604301\n",
            "test R squared : 0.9737908255822255\n"
          ],
          "name": "stdout"
        },
        {
          "output_type": "display_data",
          "data": {
            "image/png": "[encoded data removed]",
            "text/plain": [
              "<Figure size 432x288 with 1 Axes>"
            ]
          },
          "metadata": {
            "tags": [],
            "needs_background": "light"
          }
        }
      ]
    },
    {
      "cell_type": "markdown",
      "metadata": {
        "id": "sGGxJNqavvaw"
      },
      "source": [
        "# 선형 회귀\n",
        "* 선형 회귀 라이브러리 sklearn.linear_model LinearRegression\n",
        "* 이런 식으로 최적의 파라미터를 찾는게 **모델 기반 학습**, 훈련 세트를 저장했다가 근접한걸 뱉어내는 k근접을 **사례기반 학습**이라고 함"
      ]
    },
    {
      "cell_type": "code",
      "metadata": {
        "colab": {
          "base_uri": "https://localhost:8080/"
        },
        "id": "ITLYuL-CtQxb",
        "outputId": "60d0e672-a4a4-416c-85e5-204d0cf0f880"
      },
      "source": [
        "distances, indexes = knr.kneighbors([[50]])\n",
        "print(knr.predict([[50]]))\n",
        "print(np.mean(train_target[indexes])) # 위에서 언급한 k-최근접 회귀의 문제점, 가장 가까운 데이터들의 평균을 구하는 것이므로 out of range면 이상하게 예측함"
      ],
      "execution_count": null,
      "outputs": [
        {
          "output_type": "stream",
          "text": [
            "[912.5]\n",
            "912.5\n"
          ],
          "name": "stdout"
        }
      ]
    },
    {
      "cell_type": "code",
      "metadata": {
        "colab": {
          "base_uri": "https://localhost:8080/"
        },
        "id": "QcV0w1Iov6KS",
        "outputId": "1cda4b53-551c-48e0-9334-1f8888448864"
      },
      "source": [
        "from sklearn.linear_model import LinearRegression\n",
        "\n",
        "lr = LinearRegression()\n",
        "\n",
        "lr.fit(train_input, train_target)\n",
        "print(lr.predict([[50]])) # 위의 912.5g으로 예측한 것과 다르게 훨씬 큰 1241g으로 예측되었다"
      ],
      "execution_count": null,
      "outputs": [
        {
          "output_type": "stream",
          "text": [
            "[1241.83860323]\n"
          ],
          "name": "stdout"
        }
      ]
    },
    {
      "cell_type": "code",
      "metadata": {
        "colab": {
          "base_uri": "https://localhost:8080/"
        },
        "id": "ctJRt2Sdw1VU",
        "outputId": "92c70c7f-b335-4e69-de68-05e89d47f54d"
      },
      "source": [
        "print(lr.coef_, lr.intercept_) \n",
        "# y = 39.017x -709.0186 이라는 회귀식이 완성됨, 이 값들을 모델 파라미터라고 부름"
      ],
      "execution_count": null,
      "outputs": [
        {
          "output_type": "stream",
          "text": [
            "[39.01714496] -709.0186449535477\n"
          ],
          "name": "stdout"
        }
      ]
    },
    {
      "cell_type": "code",
      "metadata": {
        "colab": {
          "base_uri": "https://localhost:8080/",
          "height": 295
        },
        "id": "mKc8U7UVyEzK",
        "outputId": "248ea816-9170-49ea-b6ff-63d69ffa4b36"
      },
      "source": [
        "plt.scatter(train_input, train_target)\n",
        "plt.plot([15, 50], [15*lr.coef_+lr.intercept_, 50*lr.coef_+lr.intercept_]) #길이 15랑 50인걸 회귀식에 넣어서 1차 방정식 그래프를 그렸다\n",
        "plt.scatter(50, 1241.8, marker = '^')\n",
        "plt.xlabel('Length')\n",
        "plt.ylabel('Weight')\n",
        "plt.title('Linear Regression')\n",
        "plt.show()"
      ],
      "execution_count": null,
      "outputs": [
        {
          "output_type": "display_data",
          "data": {
            "image/png": "[encoded data removed]",
            "text/plain": [
              "<Figure size 432x288 with 1 Axes>"
            ]
          },
          "metadata": {
            "tags": [],
            "needs_background": "light"
          }
        }
      ]
    },
    {
      "cell_type": "code",
      "metadata": {
        "colab": {
          "base_uri": "https://localhost:8080/"
        },
        "id": "Tzcx4pmQzFUH",
        "outputId": "c27e8e95-5d44-4fd1-96d7-744c7c84b8ae"
      },
      "source": [
        "print(lr.score(train_input, train_target))\n",
        "print(lr.score(test_input, test_target)) #하지만 막상 score를 구해보면 전반적으로 점수가 낮고 test score가 더 낮은 과대적합 모습도 보임"
      ],
      "execution_count": null,
      "outputs": [
        {
          "output_type": "stream",
          "text": [
            "0.9398463339976039\n",
            "0.8247503123313558\n"
          ],
          "name": "stdout"
        }
      ]
    },
    {
      "cell_type": "markdown",
      "metadata": {
        "id": "314vaGSw0mgW"
      },
      "source": [
        "# 다항 회귀\n",
        "* 다항식을 활용한 다항회귀, 최적의 곡선을 찾기 위해서 **독립변수에 제곱한 값을 추가 변수로 활용**할 수 있다\n",
        "* column_stack을 활용해서 제곱한 값과 기존 값 (독립변수)를 2차원 2개열의 배열로 만들어서 학습시키는 것, 그러나 target 값은 그대로!"
      ]
    },
    {
      "cell_type": "code",
      "metadata": {
        "id": "wJXuNpnd0SqJ"
      },
      "source": [
        "train_poly = np.column_stack((train_input**2, train_input))\n",
        "test_poly = np.column_stack((test_input**2, test_input))"
      ],
      "execution_count": null,
      "outputs": []
    },
    {
      "cell_type": "code",
      "metadata": {
        "colab": {
          "base_uri": "https://localhost:8080/"
        },
        "id": "WWmJK7cRJzgx",
        "outputId": "81ee66ff-ef11-4353-be8a-582796a96c95"
      },
      "source": [
        "lr.fit(train_poly, train_target)\n",
        "print(lr.predict([[50**2, 50]]))"
      ],
      "execution_count": null,
      "outputs": [
        {
          "output_type": "stream",
          "text": [
            "[1573.98423528]\n"
          ],
          "name": "stdout"
        }
      ]
    },
    {
      "cell_type": "code",
      "metadata": {
        "colab": {
          "base_uri": "https://localhost:8080/"
        },
        "id": "8pP4auiVKC7t",
        "outputId": "be102919-4246-4610-d0bc-1cc228beebb5"
      },
      "source": [
        "print(lr.coef_, lr.intercept_) #변수가 2개가 되었다 (독립변수 길이와 길이의 제곱)"
      ],
      "execution_count": null,
      "outputs": [
        {
          "output_type": "stream",
          "text": [
            "[  1.01433211 -21.55792498] 116.05021078278276\n"
          ],
          "name": "stdout"
        }
      ]
    },
    {
      "cell_type": "code",
      "metadata": {
        "colab": {
          "base_uri": "https://localhost:8080/",
          "height": 279
        },
        "id": "83jE99gsKyVo",
        "outputId": "732b420f-19f0-4a7a-ba4c-f6b51f0ec6ba"
      },
      "source": [
        "point = np.arange(15, 50)\n",
        "\n",
        "plt.scatter(train_input, train_target)\n",
        "plt.plot(point, 1.01*point**2 -21.6*point+116.05)\n",
        "plt.scatter(50, 1573.98, marker = '^')\n",
        "plt.xlabel(\"Length\")\n",
        "plt.ylabel(\"Weight\")\n",
        "plt.show()"
      ],
      "execution_count": null,
      "outputs": [
        {
          "output_type": "display_data",
          "data": {
            "image/png": "[encoded data removed]",
            "text/plain": [
              "<Figure size 432x288 with 1 Axes>"
            ]
          },
          "metadata": {
            "tags": [],
            "needs_background": "light"
          }
        }
      ]
    },
    {
      "cell_type": "code",
      "metadata": {
        "colab": {
          "base_uri": "https://localhost:8080/"
        },
        "id": "6vjXZbWxLnlX",
        "outputId": "e9e0887f-a6fd-46a8-a300-399084ca60e5"
      },
      "source": [
        "print(lr.score(train_poly, train_target))\n",
        "print(lr.score(test_poly, test_target)) #test set의 R제곱이 아직 좀 더 높기 때문에 과소적합의 문제가 사라지지 않았음"
      ],
      "execution_count": null,
      "outputs": [
        {
          "output_type": "stream",
          "text": [
            "0.9706807451768623\n",
            "0.9775935108325122\n"
          ],
          "name": "stdout"
        }
      ]
    },
    {
      "cell_type": "markdown",
      "metadata": {
        "id": "s5Hxqkt0YoUB"
      },
      "source": [
        "# 다중회귀\n",
        "* 다항 회귀가 한 개의 특성으로 여러 항을 만드는 것이라면, 다중회귀는 여러 개의 변수 (특성)을 가지고 하는 회귀분석"
      ]
    },
    {
      "cell_type": "markdown",
      "metadata": {
        "id": "P6oLkgriZFEO"
      },
      "source": [
        "## 특성 공학\n",
        "* 각 변수들을 그대로 사용하는 것이 아니라 **더욱 적합한 형태로 변환해 주는 것 (변수의 제곱값, 변수간의 곱 등, 더미변수화 등)** 을 회귀 분석의 변수로 활용하는 것\n",
        "* 이것을 하는 이유는 도메인 지식을 활용하여 모델의 성능을 더 개선할 수 있는 변수를 찾아가기 위함\n",
        "* PolyNomialFeatures 변환기를 사용하면 **각 특성을 제곱한 항과 특성끼리 곱한 항**을 추가한다"
      ]
    },
    {
      "cell_type": "code",
      "metadata": {
        "id": "gGzcw6GVMEhV",
        "colab": {
          "base_uri": "https://localhost:8080/"
        },
        "outputId": "45e763fb-3298-4ace-f43e-9c0e54e5c415"
      },
      "source": [
        "# 다중회귀에서 사용할 높이와 두께 변수가 추가된 2차원 배열\n",
        "\n",
        "perch_full = pd.read_csv('https://bit.ly/perch_csv_data').to_numpy()\n",
        "perch_full[:5]"
      ],
      "execution_count": 7,
      "outputs": [
        {
          "output_type": "execute_result",
          "data": {
            "text/plain": [
              "array([[ 8.4 ,  2.11,  1.41],\n",
              "       [13.7 ,  3.53,  2.  ],\n",
              "       [15.  ,  3.82,  2.43],\n",
              "       [16.2 ,  4.59,  2.63],\n",
              "       [17.4 ,  4.59,  2.94]])"
            ]
          },
          "metadata": {
            "tags": []
          },
          "execution_count": 7
        }
      ]
    },
    {
      "cell_type": "code",
      "metadata": {
        "id": "c_Bjzc_Ngn-N"
      },
      "source": [
        "from sklearn.model_selection import train_test_split\n",
        "\n",
        "train_input, test_input, train_target, test_target = train_test_split(perch_full, perch_weight, random_state = 42)"
      ],
      "execution_count": 10,
      "outputs": []
    },
    {
      "cell_type": "markdown",
      "metadata": {
        "id": "8PWTiqJYkNBr"
      },
      "source": [
        "### PolynomialFeatures 사용 기본 방법"
      ]
    },
    {
      "cell_type": "code",
      "metadata": {
        "colab": {
          "base_uri": "https://localhost:8080/"
        },
        "id": "_DjkVavKhVxa",
        "outputId": "6f25f887-e080-4d52-d899-d6212e45a042"
      },
      "source": [
        "from sklearn.preprocessing import PolynomialFeatures\n",
        "\n",
        "poly = PolynomialFeatures()\n",
        "poly.fit(train_input) # 변환기를 train 데이터로 학습시켜주고\n",
        "train_poly = poly.transform(train_input) # 변환해주는 과정까지 진행해야 함\n",
        "test_poly = poly.transform(test_input)\n",
        "print(train_poly.shape)\n",
        "print(test_poly.shape)\n",
        "print(poly.get_feature_names()) #어떤 항목들이 추가되었는지 확인"
      ],
      "execution_count": 15,
      "outputs": [
        {
          "output_type": "stream",
          "text": [
            "(42, 10)\n",
            "(14, 10)\n",
            "['1', 'x0', 'x1', 'x2', 'x0^2', 'x0 x1', 'x0 x2', 'x1^2', 'x1 x2', 'x2^2']\n"
          ],
          "name": "stdout"
        }
      ]
    },
    {
      "cell_type": "code",
      "metadata": {
        "colab": {
          "base_uri": "https://localhost:8080/"
        },
        "id": "xqS3a04DimBE",
        "outputId": "a6365159-a282-4d38-ca69-7e57077ef35f"
      },
      "source": [
        "from sklearn.linear_model import LinearRegression\n",
        "\n",
        "lr = LinearRegression()\n",
        "lr.fit(train_poly, train_target)\n",
        "print(lr.score(train_poly, train_target))\n",
        "print(lr.score(test_poly, test_target)) #그냥 다항회귀에서 진행했을 때, train_set의 점수가 낮았던 과소 적합 문제가 해결되었다"
      ],
      "execution_count": 14,
      "outputs": [
        {
          "output_type": "stream",
          "text": [
            "0.9903183436982124\n",
            "0.9714559911594084\n"
          ],
          "name": "stdout"
        }
      ]
    },
    {
      "cell_type": "markdown",
      "metadata": {
        "id": "BeoYjcZ1kR6j"
      },
      "source": [
        "### PolynomialFeatures의 특성 추가하기"
      ]
    },
    {
      "cell_type": "code",
      "metadata": {
        "colab": {
          "base_uri": "https://localhost:8080/"
        },
        "id": "peFaZ9BZjZpL",
        "outputId": "faac7363-7501-4be1-94c6-9c7660865118"
      },
      "source": [
        "poly = PolynomialFeatures(degree=5) #degree를 지정하면 최대 몇 제곱항 까지 조정할 지 정할 수 있다\n",
        "poly.fit(train_input)\n",
        "train_poly = poly.transform(train_input)\n",
        "test_poly = poly.transform(test_input)\n",
        "print(train_poly.shape)"
      ],
      "execution_count": 17,
      "outputs": [
        {
          "output_type": "stream",
          "text": [
            "(42, 56)\n"
          ],
          "name": "stdout"
        }
      ]
    },
    {
      "cell_type": "code",
      "metadata": {
        "colab": {
          "base_uri": "https://localhost:8080/"
        },
        "id": "1g38U0MFkqVO",
        "outputId": "2c54b84d-cb7e-44b4-9c7a-6837ed995d18"
      },
      "source": [
        "lr.fit(train_poly, train_target)\n",
        "print(lr.score(train_poly, train_target))\n",
        "print(lr.score(test_poly, test_target)) # 5제곱까지 변수를 늘려 주었을 때는 과대적합의 문제점이 나오는 것"
      ],
      "execution_count": 20,
      "outputs": [
        {
          "output_type": "stream",
          "text": [
            "0.9999999999999998\n",
            "-144.40489131900623\n"
          ],
          "name": "stdout"
        }
      ]
    },
    {
      "cell_type": "markdown",
      "metadata": {
        "id": "BWGOh4xolY92"
      },
      "source": [
        "## 규제 (라쏘와 릿지)\n",
        "* 규제란 **머신러닝 모델이 훈련 세트를 과도하게 학습하지 못하게 하는 것**. 기울기를 줄여주는 과정을 말한다\n",
        "* 릿지와 라쏘 모두 **각 변수에 규제를 가하는 것**인데, 각각 변수들이 위에서 곱, 제곱 등으로 모두 그 크기가 천차만별이기 때문에 **미리 z-score standardization을 진행해서 표준화** 해줄 필요가 있다"
      ]
    },
    {
      "cell_type": "code",
      "metadata": {
        "colab": {
          "base_uri": "https://localhost:8080/"
        },
        "id": "mRxk8lUTlAVF",
        "outputId": "959d92a8-e408-4391-a9fd-ad309060423f"
      },
      "source": [
        "from sklearn.preprocessing import StandardScaler\n",
        "\n",
        "ss = StandardScaler()\n",
        "ss.fit(train_poly)\n",
        "train_scaled = ss.transform(train_poly)\n",
        "test_scaled = ss.transform(test_poly) # 여기서도 마찬가지로 train set을 가지고 test set을 표준화해준다\n",
        "print(train_scaled.shape) # 55개 변수 (1 제외) 모두 활용"
      ],
      "execution_count": 23,
      "outputs": [
        {
          "output_type": "stream",
          "text": [
            "(42, 56)\n"
          ],
          "name": "stdout"
        }
      ]
    },
    {
      "cell_type": "markdown",
      "metadata": {
        "id": "I9AjM6yYmn-r"
      },
      "source": [
        "### 릿지 회귀\n",
        "* alpha 값으로 각 변수에 규제의 강도를 지정해줄 수 있다 (클 수록 강도 높음)\n",
        "* 적절한 alpha값은 사람이 직접 찾아야 하는데, 이런 걸 하이퍼파라미터라고 한다"
      ]
    },
    {
      "cell_type": "code",
      "metadata": {
        "colab": {
          "base_uri": "https://localhost:8080/"
        },
        "id": "dOM59I7smj6k",
        "outputId": "10835dcd-31f9-42a9-c26d-379c97dd7bd4"
      },
      "source": [
        "from sklearn.linear_model import Ridge\n",
        "\n",
        "ridge = Ridge()\n",
        "ridge.fit(train_scaled, train_target)\n",
        "print(ridge.score(train_scaled, train_target))\n",
        "print(ridge.score(test_scaled, test_target)) #위에서 55개 변수로 회귀 진행 시 test set 점수에서 마이너스 값이었던 것이 제대로 돌아왔다"
      ],
      "execution_count": 22,
      "outputs": [
        {
          "output_type": "stream",
          "text": [
            "0.9896101671037343\n",
            "0.9790693977615398\n"
          ],
          "name": "stdout"
        }
      ]
    },
    {
      "cell_type": "code",
      "metadata": {
        "id": "EuCLXZalm62A"
      },
      "source": [
        "import matplotlib.pyplot as plt\n",
        "\n",
        "train_score = []\n",
        "test_score = []\n",
        "\n",
        "alpha_list = [0.001, 0.01, 0.1, 1, 10, 100]\n",
        "for alpha in alpha_list:\n",
        "  ridge = Ridge(alpha = alpha)\n",
        "  ridge.fit(train_scaled, train_target)\n",
        "  train_score.append(ridge.score(train_scaled, train_target))\n",
        "  test_score.append(ridge.score(test_scaled, test_target))"
      ],
      "execution_count": 28,
      "outputs": []
    },
    {
      "cell_type": "code",
      "metadata": {
        "colab": {
          "base_uri": "https://localhost:8080/",
          "height": 279
        },
        "id": "7ArB2D-Yn9M6",
        "outputId": "d99958f4-e3d8-4e10-b4f5-fb7eab2cdbb9"
      },
      "source": [
        "plt.plot(np.log10(alpha_list), train_score)\n",
        "plt.plot(np.log10(alpha_list), test_score)\n",
        "plt.xlabel('alpha')\n",
        "plt.ylabel('score')\n",
        "plt.show()"
      ],
      "execution_count": 29,
      "outputs": [
        {
          "output_type": "display_data",
          "data": {
            "image/png": "[encoded data removed]",
            "text/plain": [
              "<Figure size 432x288 with 1 Axes>"
            ]
          },
          "metadata": {
            "tags": [],
            "needs_background": "light"
          }
        }
      ]
    },
    {
      "cell_type": "markdown",
      "metadata": {
        "id": "Q6wfJ1worncE"
      },
      "source": [
        "## 라쏘 회귀\n",
        "* 라쏘 회귀가 릿지와 다른 점은 **계수 값을 아예 0으로 만들 수 있다는 것**이다. 중요치 않은 feature를 알아서 걸러내는 용도로 사용할 수 있다"
      ]
    },
    {
      "cell_type": "code",
      "metadata": {
        "id": "iyB25T0iocUn"
      },
      "source": [
        "from sklearn.linear_model import Lasso\n",
        "lasso= Lasso()"
      ],
      "execution_count": 31,
      "outputs": []
    },
    {
      "cell_type": "code",
      "metadata": {
        "colab": {
          "base_uri": "https://localhost:8080/"
        },
        "id": "p8j1U4xCsNe8",
        "outputId": "118fece8-9ab0-44aa-8e78-9173b4c2ea25"
      },
      "source": [
        "train_score = []\n",
        "test_score = []\n",
        "\n",
        "alpha_list = [0.001, 0.01, 0.1, 1, 10, 100]\n",
        "for alpha in alpha_list:\n",
        "  lasso = Lasso(alpha = alpha, max_iter=10000)\n",
        "  lasso.fit(train_scaled, train_target)\n",
        "  train_score.append(lasso.score(train_scaled, train_target))\n",
        "  test_score.append(lasso.score(test_scaled, test_target))"
      ],
      "execution_count": 35,
      "outputs": [
        {
          "output_type": "stream",
          "text": [
            "/usr/local/lib/python3.7/dist-packages/sklearn/linear_model/_coordinate_descent.py:476: ConvergenceWarning: Objective did not converge. You might want to increase the number of iterations. Duality gap: 18778.697957792876, tolerance: 518.2793833333334\n",
            "  positive)\n",
            "/usr/local/lib/python3.7/dist-packages/sklearn/linear_model/_coordinate_descent.py:476: ConvergenceWarning: Objective did not converge. You might want to increase the number of iterations. Duality gap: 12972.821345404844, tolerance: 518.2793833333334\n",
            "  positive)\n"
          ],
          "name": "stderr"
        }
      ]
    },
    {
      "cell_type": "code",
      "metadata": {
        "colab": {
          "base_uri": "https://localhost:8080/",
          "height": 279
        },
        "id": "OC8mjoDOsWLf",
        "outputId": "2b55a8e7-8331-4b47-a1e0-55d90144abb0"
      },
      "source": [
        "plt.plot(np.log10(alpha_list), train_score)\n",
        "plt.plot(np.log10(alpha_list), test_score)\n",
        "plt.xlabel('alpha')\n",
        "plt.ylabel('score')\n",
        "plt.show()"
      ],
      "execution_count": 36,
      "outputs": [
        {
          "output_type": "display_data",
          "data": {
            "image/png": "[encoded data removed]",
            "text/plain": [
              "<Figure size 432x288 with 1 Axes>"
            ]
          },
          "metadata": {
            "tags": [],
            "needs_background": "light"
          }
        }
      ]
    },
    {
      "cell_type": "code",
      "metadata": {
        "colab": {
          "base_uri": "https://localhost:8080/"
        },
        "id": "67p1FBBXshT5",
        "outputId": "aeee49ab-a629-4cbe-cac8-6b736d70c3f6"
      },
      "source": [
        "lasso = Lasso(alpha = 10)\n",
        "lasso.fit(train_scaled, train_target)\n",
        "print(lasso.score(train_scaled, train_target))\n",
        "print(lasso.score(test_scaled, test_target))"
      ],
      "execution_count": 37,
      "outputs": [
        {
          "output_type": "stream",
          "text": [
            "0.9888067471131867\n",
            "0.9824470598706695\n"
          ],
          "name": "stdout"
        }
      ]
    },
    {
      "cell_type": "code",
      "metadata": {
        "colab": {
          "base_uri": "https://localhost:8080/"
        },
        "id": "3zi-2Yrgs1Rh",
        "outputId": "e32305b0-ea87-4b7c-b6d5-6c302fc1d23b"
      },
      "source": [
        "print(np.sum(lasso.coef_ == 0)) # 56개 중 41개의 변수는 계수가 0이다, 즉 사용되지 않은 변수들인 것"
      ],
      "execution_count": 38,
      "outputs": [
        {
          "output_type": "stream",
          "text": [
            "41\n"
          ],
          "name": "stdout"
        }
      ]
    },
    {
      "cell_type": "code",
      "metadata": {
        "id": "sxLG0pO_tH9u"
      },
      "source": [
        ""
      ],
      "execution_count": null,
      "outputs": []
    }
  ]
}